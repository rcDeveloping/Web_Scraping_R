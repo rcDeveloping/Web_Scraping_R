{
 "cells": [
  {
   "cell_type": "markdown",
   "id": "7199bbb5",
   "metadata": {},
   "source": [
    "<h1 align=\"center\">WEB SCRAPING COM R</h1>\n",
    "<h2 align=\"center\">Dados das Espécies Ameaçadas de Extinção no Brasil</h2>\n",
    "\n",
    "<h3>1. Introdução</h3>\n",
    "<p style=\"text-align:justify\">A Portaria MMA 300/2022 revogou as Portarias 443/2014, 444/2014 e 445/2014, as quais em seua anexos definiam as listas de espécie da flora, fauna e peixes e invertebrados aquáticos ameaçados de extinção no Brasil. Estas listas foram atualizadas e hoje fazem parte da Portaria MMA 300/2022. Os dados aqui utilizados foram obtidos em 14 de dezembro de 2022.</p>\n",
    "<p style=\"text-align:justify\"></p>\n",
    "<p style=\"text-align:justify\">O objetivo deste <i>notebook</i> é utilizar a técncia <i>web scraping</i> para extrair as tabelas referentes as espécies da flora, fauna brasileiras ameçadas de extinção, conforme <a href=\"http://www.in.gov.br/web/dou/-/portaria-gm/mma-n-300-de-13-de-dezembro-de-2022-450425464\">Portaria MMA nº 300</a>, de 13 de dezembro de 2022. Para tal utilizaremos a linguagem de programação R</p>"
   ]
  },
  {
   "cell_type": "markdown",
   "id": "658bcb45",
   "metadata": {},
   "source": [
    "### 2. Import pacotes necessários"
   ]
  },
  {
   "cell_type": "code",
   "execution_count": null,
   "id": "f00aae3f",
   "metadata": {},
   "outputs": [],
   "source": [
    "# Import libraries\n",
    "library(rvest)\n",
    "library(dplyr, warn.conflicts = FALSE)\n",
    "library(ggplot2)"
   ]
  },
  {
   "cell_type": "markdown",
   "id": "c3622aa7",
   "metadata": {},
   "source": [
    "### 3. Definição do endereço web"
   ]
  },
  {
   "cell_type": "code",
   "execution_count": 2,
   "id": "8770391f",
   "metadata": {},
   "outputs": [],
   "source": [
    "# Set url\n",
    "url = 'https://www.in.gov.br/en/web/dou/-/portaria-gm/mma-n-300-de-13-de-dezembro-de-2022-450425464'"
   ]
  },
  {
   "cell_type": "markdown",
   "id": "df4411de",
   "metadata": {},
   "source": [
    "### 4. Aplicando a técnica _web scraping_"
   ]
  },
  {
   "cell_type": "code",
   "execution_count": 158,
   "id": "db1493a8",
   "metadata": {},
   "outputs": [],
   "source": [
    "# web scraping the url\n",
    "tab_lst <- url %>%\n",
    "        read_html() %>%\n",
    "        html_nodes(xpath = '//table') %>%\n",
    "        html_table(header = FALSE)"
   ]
  },
  {
   "cell_type": "markdown",
   "id": "023bdc0b",
   "metadata": {},
   "source": [
    "### 5. Obter informações dos dados"
   ]
  },
  {
   "cell_type": "code",
   "execution_count": null,
   "id": "f4e07542",
   "metadata": {},
   "outputs": [],
   "source": [
    "glimpse(tab_lst)"
   ]
  },
  {
   "cell_type": "code",
   "execution_count": 4,
   "id": "e4f57552",
   "metadata": {},
   "outputs": [
    {
     "data": {
      "text/html": [
       "96"
      ],
      "text/latex": [
       "96"
      ],
      "text/markdown": [
       "96"
      ],
      "text/plain": [
       "[1] 96"
      ]
     },
     "metadata": {},
     "output_type": "display_data"
    }
   ],
   "source": [
    "length(tab_lst)"
   ]
  },
  {
   "cell_type": "code",
   "execution_count": 150,
   "id": "69a896c7",
   "metadata": {},
   "outputs": [
    {
     "data": {
      "text/html": [
       "<table class=\"dataframe\">\n",
       "<caption>A tibble: 6 × 5</caption>\n",
       "<thead>\n",
       "\t<tr><th scope=col>X1</th><th scope=col>X2</th><th scope=col>X3</th><th scope=col>X4</th><th scope=col>X5</th></tr>\n",
       "\t<tr><th scope=col>&lt;int&gt;</th><th scope=col>&lt;chr&gt;</th><th scope=col>&lt;chr&gt;</th><th scope=col>&lt;chr&gt;</th><th scope=col>&lt;chr&gt;</th></tr>\n",
       "</thead>\n",
       "<tbody>\n",
       "\t<tr><td>3171</td><td> </td><td>Vochysiaceae</td><td>Vochysiagummifera   </td><td>EN</td></tr>\n",
       "\t<tr><td>3172</td><td> </td><td>Vochysiaceae</td><td>Vochysiamapuerae    </td><td>VU</td></tr>\n",
       "\t<tr><td>3173</td><td> </td><td>Vochysiaceae</td><td>Vochysiaoblongifolia</td><td>EN</td></tr>\n",
       "\t<tr><td>3174</td><td>*</td><td>Vochysiaceae</td><td>Vochysiapygmaea     </td><td>EN</td></tr>\n",
       "\t<tr><td>3175</td><td> </td><td>Vochysiaceae</td><td>Vochysiarotundifolia</td><td>EN</td></tr>\n",
       "\t<tr><td>3176</td><td> </td><td>Vochysiaceae</td><td>Vochysia rufescens  </td><td>VU</td></tr>\n",
       "</tbody>\n",
       "</table>\n"
      ],
      "text/latex": [
       "A tibble: 6 × 5\n",
       "\\begin{tabular}{lllll}\n",
       " X1 & X2 & X3 & X4 & X5\\\\\n",
       " <int> & <chr> & <chr> & <chr> & <chr>\\\\\n",
       "\\hline\n",
       "\t 3171 &   & Vochysiaceae & Vochysiagummifera    & EN\\\\\n",
       "\t 3172 &   & Vochysiaceae & Vochysiamapuerae     & VU\\\\\n",
       "\t 3173 &   & Vochysiaceae & Vochysiaoblongifolia & EN\\\\\n",
       "\t 3174 & * & Vochysiaceae & Vochysiapygmaea      & EN\\\\\n",
       "\t 3175 &   & Vochysiaceae & Vochysiarotundifolia & EN\\\\\n",
       "\t 3176 &   & Vochysiaceae & Vochysia rufescens   & VU\\\\\n",
       "\\end{tabular}\n"
      ],
      "text/markdown": [
       "\n",
       "A tibble: 6 × 5\n",
       "\n",
       "| X1 &lt;int&gt; | X2 &lt;chr&gt; | X3 &lt;chr&gt; | X4 &lt;chr&gt; | X5 &lt;chr&gt; |\n",
       "|---|---|---|---|---|\n",
       "| 3171 | <!----> | Vochysiaceae | Vochysiagummifera    | EN |\n",
       "| 3172 | <!----> | Vochysiaceae | Vochysiamapuerae     | VU |\n",
       "| 3173 | <!----> | Vochysiaceae | Vochysiaoblongifolia | EN |\n",
       "| 3174 | * | Vochysiaceae | Vochysiapygmaea      | EN |\n",
       "| 3175 | <!----> | Vochysiaceae | Vochysiarotundifolia | EN |\n",
       "| 3176 | <!----> | Vochysiaceae | Vochysia rufescens   | VU |\n",
       "\n"
      ],
      "text/plain": [
       "  X1   X2 X3           X4                   X5\n",
       "1 3171    Vochysiaceae Vochysiagummifera    EN\n",
       "2 3172    Vochysiaceae Vochysiamapuerae     VU\n",
       "3 3173    Vochysiaceae Vochysiaoblongifolia EN\n",
       "4 3174 *  Vochysiaceae Vochysiapygmaea      EN\n",
       "5 3175    Vochysiaceae Vochysiarotundifolia EN\n",
       "6 3176    Vochysiaceae Vochysia rufescens   VU"
      ]
     },
     "metadata": {},
     "output_type": "display_data"
    }
   ],
   "source": [
    "# FLORA - lists 1-65\n",
    "head(tab_lst[[65]])"
   ]
  },
  {
   "cell_type": "code",
   "execution_count": 169,
   "id": "edb47613",
   "metadata": {},
   "outputs": [
    {
     "data": {
      "text/html": [
       "<table class=\"dataframe\">\n",
       "<caption>A tibble: 6 × 6</caption>\n",
       "<thead>\n",
       "\t<tr><th scope=col>X1</th><th scope=col>X2</th><th scope=col>X3</th><th scope=col>X4</th><th scope=col>X5</th><th scope=col>X6</th></tr>\n",
       "\t<tr><th scope=col>&lt;chr&gt;</th><th scope=col>&lt;chr&gt;</th><th scope=col>&lt;chr&gt;</th><th scope=col>&lt;chr&gt;</th><th scope=col>&lt;chr&gt;</th><th scope=col>&lt;chr&gt;</th></tr>\n",
       "</thead>\n",
       "<tbody>\n",
       "\t<tr><td>ANEXO 3. LISTA NACIONAL DE ESPÉCIES DA FAUNA AQUÁTICA AMEAÇADA DE EXTINÇÃO</td><td>ANEXO 3. LISTA NACIONAL DE ESPÉCIES DA FAUNA AQUÁTICA AMEAÇADA DE EXTINÇÃO</td><td>ANEXO 3. LISTA NACIONAL DE ESPÉCIES DA FAUNA AQUÁTICA AMEAÇADA DE EXTINÇÃO</td><td>ANEXO 3. LISTA NACIONAL DE ESPÉCIES DA FAUNA AQUÁTICA AMEAÇADA DE EXTINÇÃO</td><td>ANEXO 3. LISTA NACIONAL DE ESPÉCIES DA FAUNA AQUÁTICA AMEAÇADA DE EXTINÇÃO</td><td>ANEXO 3. LISTA NACIONAL DE ESPÉCIES DA FAUNA AQUÁTICA AMEAÇADA DE EXTINÇÃO</td></tr>\n",
       "\t<tr><td>                                                                          </td><td>#                                                                         </td><td>Ordem                                                                     </td><td>Família                                                                   </td><td>Espécie ou Subespécie                                                     </td><td>Categoria                                                                 </td></tr>\n",
       "\t<tr><td>                                                                          </td><td>                                                                          </td><td>INVERTEBRADOS AQUÁTICOS                                                   </td><td>INVERTEBRADOS AQUÁTICOS                                                   </td><td>INVERTEBRADOS AQUÁTICOS                                                   </td><td>                                                                          </td></tr>\n",
       "\t<tr><td>1                                                                         </td><td>                                                                          </td><td>Amphipoda                                                                 </td><td>Artesiidae                                                                </td><td>Spelaeogammarusbahiensis                                                  </td><td>VU                                                                        </td></tr>\n",
       "\t<tr><td>2                                                                         </td><td>                                                                          </td><td>Amphipoda                                                                 </td><td>Artesiidae                                                                </td><td>Spelaeogammarussanctus                                                    </td><td>CR                                                                        </td></tr>\n",
       "\t<tr><td>3                                                                         </td><td>                                                                          </td><td>Amphipoda                                                                 </td><td>Artesiidae                                                                </td><td>Spelaeogammarussantanensis                                                </td><td>CR                                                                        </td></tr>\n",
       "</tbody>\n",
       "</table>\n"
      ],
      "text/latex": [
       "A tibble: 6 × 6\n",
       "\\begin{tabular}{llllll}\n",
       " X1 & X2 & X3 & X4 & X5 & X6\\\\\n",
       " <chr> & <chr> & <chr> & <chr> & <chr> & <chr>\\\\\n",
       "\\hline\n",
       "\t ANEXO 3. LISTA NACIONAL DE ESPÉCIES DA FAUNA AQUÁTICA AMEAÇADA DE EXTINÇÃO & ANEXO 3. LISTA NACIONAL DE ESPÉCIES DA FAUNA AQUÁTICA AMEAÇADA DE EXTINÇÃO & ANEXO 3. LISTA NACIONAL DE ESPÉCIES DA FAUNA AQUÁTICA AMEAÇADA DE EXTINÇÃO & ANEXO 3. LISTA NACIONAL DE ESPÉCIES DA FAUNA AQUÁTICA AMEAÇADA DE EXTINÇÃO & ANEXO 3. LISTA NACIONAL DE ESPÉCIES DA FAUNA AQUÁTICA AMEAÇADA DE EXTINÇÃO & ANEXO 3. LISTA NACIONAL DE ESPÉCIES DA FAUNA AQUÁTICA AMEAÇADA DE EXTINÇÃO\\\\\n",
       "\t                                                                            & \\#                                                                          & Ordem                                                                      & Família                                                                    & Espécie ou Subespécie                                                      & Categoria                                                                 \\\\\n",
       "\t                                                                            &                                                                            & INVERTEBRADOS AQUÁTICOS                                                    & INVERTEBRADOS AQUÁTICOS                                                    & INVERTEBRADOS AQUÁTICOS                                                    &                                                                           \\\\\n",
       "\t 1                                                                          &                                                                            & Amphipoda                                                                  & Artesiidae                                                                 & Spelaeogammarusbahiensis                                                   & VU                                                                        \\\\\n",
       "\t 2                                                                          &                                                                            & Amphipoda                                                                  & Artesiidae                                                                 & Spelaeogammarussanctus                                                     & CR                                                                        \\\\\n",
       "\t 3                                                                          &                                                                            & Amphipoda                                                                  & Artesiidae                                                                 & Spelaeogammarussantanensis                                                 & CR                                                                        \\\\\n",
       "\\end{tabular}\n"
      ],
      "text/markdown": [
       "\n",
       "A tibble: 6 × 6\n",
       "\n",
       "| X1 &lt;chr&gt; | X2 &lt;chr&gt; | X3 &lt;chr&gt; | X4 &lt;chr&gt; | X5 &lt;chr&gt; | X6 &lt;chr&gt; |\n",
       "|---|---|---|---|---|---|\n",
       "| ANEXO 3. LISTA NACIONAL DE ESPÉCIES DA FAUNA AQUÁTICA AMEAÇADA DE EXTINÇÃO | ANEXO 3. LISTA NACIONAL DE ESPÉCIES DA FAUNA AQUÁTICA AMEAÇADA DE EXTINÇÃO | ANEXO 3. LISTA NACIONAL DE ESPÉCIES DA FAUNA AQUÁTICA AMEAÇADA DE EXTINÇÃO | ANEXO 3. LISTA NACIONAL DE ESPÉCIES DA FAUNA AQUÁTICA AMEAÇADA DE EXTINÇÃO | ANEXO 3. LISTA NACIONAL DE ESPÉCIES DA FAUNA AQUÁTICA AMEAÇADA DE EXTINÇÃO | ANEXO 3. LISTA NACIONAL DE ESPÉCIES DA FAUNA AQUÁTICA AMEAÇADA DE EXTINÇÃO |\n",
       "| <!----> | #                                                                          | Ordem                                                                      | Família                                                                    | Espécie ou Subespécie                                                      | Categoria                                                                  |\n",
       "| <!----> | <!----> | INVERTEBRADOS AQUÁTICOS                                                    | INVERTEBRADOS AQUÁTICOS                                                    | INVERTEBRADOS AQUÁTICOS                                                    | <!----> |\n",
       "| 1                                                                          | <!----> | Amphipoda                                                                  | Artesiidae                                                                 | Spelaeogammarusbahiensis                                                   | VU                                                                         |\n",
       "| 2                                                                          | <!----> | Amphipoda                                                                  | Artesiidae                                                                 | Spelaeogammarussanctus                                                     | CR                                                                         |\n",
       "| 3                                                                          | <!----> | Amphipoda                                                                  | Artesiidae                                                                 | Spelaeogammarussantanensis                                                 | CR                                                                         |\n",
       "\n"
      ],
      "text/plain": [
       "  X1                                                                        \n",
       "1 ANEXO 3. LISTA NACIONAL DE ESPÉCIES DA FAUNA AQUÁTICA AMEAÇADA DE EXTINÇÃO\n",
       "2                                                                           \n",
       "3                                                                           \n",
       "4 1                                                                         \n",
       "5 2                                                                         \n",
       "6 3                                                                         \n",
       "  X2                                                                        \n",
       "1 ANEXO 3. LISTA NACIONAL DE ESPÉCIES DA FAUNA AQUÁTICA AMEAÇADA DE EXTINÇÃO\n",
       "2 #                                                                         \n",
       "3                                                                           \n",
       "4                                                                           \n",
       "5                                                                           \n",
       "6                                                                           \n",
       "  X3                                                                        \n",
       "1 ANEXO 3. LISTA NACIONAL DE ESPÉCIES DA FAUNA AQUÁTICA AMEAÇADA DE EXTINÇÃO\n",
       "2 Ordem                                                                     \n",
       "3 INVERTEBRADOS AQUÁTICOS                                                   \n",
       "4 Amphipoda                                                                 \n",
       "5 Amphipoda                                                                 \n",
       "6 Amphipoda                                                                 \n",
       "  X4                                                                        \n",
       "1 ANEXO 3. LISTA NACIONAL DE ESPÉCIES DA FAUNA AQUÁTICA AMEAÇADA DE EXTINÇÃO\n",
       "2 Família                                                                   \n",
       "3 INVERTEBRADOS AQUÁTICOS                                                   \n",
       "4 Artesiidae                                                                \n",
       "5 Artesiidae                                                                \n",
       "6 Artesiidae                                                                \n",
       "  X5                                                                        \n",
       "1 ANEXO 3. LISTA NACIONAL DE ESPÉCIES DA FAUNA AQUÁTICA AMEAÇADA DE EXTINÇÃO\n",
       "2 Espécie ou Subespécie                                                     \n",
       "3 INVERTEBRADOS AQUÁTICOS                                                   \n",
       "4 Spelaeogammarusbahiensis                                                  \n",
       "5 Spelaeogammarussanctus                                                    \n",
       "6 Spelaeogammarussantanensis                                                \n",
       "  X6                                                                        \n",
       "1 ANEXO 3. LISTA NACIONAL DE ESPÉCIES DA FAUNA AQUÁTICA AMEAÇADA DE EXTINÇÃO\n",
       "2 Categoria                                                                 \n",
       "3                                                                           \n",
       "4 VU                                                                        \n",
       "5 CR                                                                        \n",
       "6 CR                                                                        "
      ]
     },
     "metadata": {},
     "output_type": "display_data"
    }
   ],
   "source": [
    "# Fauna - lists 66-95\n",
    "head(tab_lst[[83]])"
   ]
  },
  {
   "cell_type": "markdown",
   "id": "edbc99c4",
   "metadata": {},
   "source": [
    "<p style=\"text-align=justify\">Ao inspercionar os dados podemos verificar que temos uma lista composta por 96 <i>dataframes</i>, sendo que o último é um dado que não faz parte das tabelas da fauna e flora, o que deveremos excluí-lo da lista.</p>\n",
    "<p style=\"text-align=justify\">Também é possível verificar que os elementos da lista de 1 a 65 são referentes as tabelas da flora, o restante refere-se as espécies da fauna. Os dataframes de flora possuem 5 colunas, enquato que os da fauna 6</p>"
   ]
  },
  {
   "cell_type": "code",
   "execution_count": 170,
   "id": "3909410d",
   "metadata": {},
   "outputs": [],
   "source": [
    "# Remove undesirable data\n",
    "tab_lst[[96]] <- NULL"
   ]
  },
  {
   "cell_type": "markdown",
   "id": "3adeb778",
   "metadata": {},
   "source": [
    "### 5. Limpeza de dados\n",
    "<p style=\"text-alig:justify\">Precisamos redefinir os nomes das colunas para os dados de fauna e flora, pois possuem número de colunas diferentes, o que permitira unir todos em um único <i>dataframe</i></p>"
   ]
  },
  {
   "cell_type": "code",
   "execution_count": 171,
   "id": "f9a43506",
   "metadata": {},
   "outputs": [
    {
     "data": {
      "text/html": [
       "<style>\n",
       ".list-inline {list-style: none; margin:0; padding: 0}\n",
       ".list-inline>li {display: inline-block}\n",
       ".list-inline>li:not(:last-child)::after {content: \"\\00b7\"; padding: 0 .5ex}\n",
       "</style>\n",
       "<ol class=list-inline><li>'n'</li><li>'port443'</li><li>'familia'</li><li>'especie_subespecie_var'</li><li>'categoria'</li></ol>\n"
      ],
      "text/latex": [
       "\\begin{enumerate*}\n",
       "\\item 'n'\n",
       "\\item 'port443'\n",
       "\\item 'familia'\n",
       "\\item 'especie\\_subespecie\\_var'\n",
       "\\item 'categoria'\n",
       "\\end{enumerate*}\n"
      ],
      "text/markdown": [
       "1. 'n'\n",
       "2. 'port443'\n",
       "3. 'familia'\n",
       "4. 'especie_subespecie_var'\n",
       "5. 'categoria'\n",
       "\n",
       "\n"
      ],
      "text/plain": [
       "[1] \"n\"                      \"port443\"                \"familia\"               \n",
       "[4] \"especie_subespecie_var\" \"categoria\"             "
      ]
     },
     "metadata": {},
     "output_type": "display_data"
    },
    {
     "data": {
      "text/html": [
       "<style>\n",
       ".list-inline {list-style: none; margin:0; padding: 0}\n",
       ".list-inline>li {display: inline-block}\n",
       ".list-inline>li:not(:last-child)::after {content: \"\\00b7\"; padding: 0 .5ex}\n",
       "</style>\n",
       "<ol class=list-inline><li>'n'</li><li>'ordem'</li><li>'port443'</li><li>'familia'</li><li>'especie_subespecie'</li><li>'categoria'</li></ol>\n"
      ],
      "text/latex": [
       "\\begin{enumerate*}\n",
       "\\item 'n'\n",
       "\\item 'ordem'\n",
       "\\item 'port443'\n",
       "\\item 'familia'\n",
       "\\item 'especie\\_subespecie'\n",
       "\\item 'categoria'\n",
       "\\end{enumerate*}\n"
      ],
      "text/markdown": [
       "1. 'n'\n",
       "2. 'ordem'\n",
       "3. 'port443'\n",
       "4. 'familia'\n",
       "5. 'especie_subespecie'\n",
       "6. 'categoria'\n",
       "\n",
       "\n"
      ],
      "text/plain": [
       "[1] \"n\"                  \"ordem\"              \"port443\"           \n",
       "[4] \"familia\"            \"especie_subespecie\" \"categoria\"         "
      ]
     },
     "metadata": {},
     "output_type": "display_data"
    }
   ],
   "source": [
    "# Set column names for each dataframe in a list\n",
    "for (i in 1:length(tab_lst)) {\n",
    "    if (length(unlist(attributes(tab_lst[[i]])[2])) == 5) {\n",
    "        names(tab_lst[[i]]) <- c('n', 'port443', 'familia',\n",
    "                                 'especie_subespecie_var', \n",
    "                                 'categoria')\n",
    "    }\n",
    "    else {\n",
    "        if (length(unlist(attributes(tab_lst[[i]])[2])) == 6) {\n",
    "            names(tab_lst[[i]]) <- c('n', 'ordem', 'port443',\n",
    "                                   'familia', 'especie_subespecie', \n",
    "                                   'categoria')\n",
    "        }\n",
    "    }\n",
    "}\n",
    "\n",
    "# Check attributes       \n",
    "names(tab_lst[[1]])  # flora\n",
    "names(tab_lst[[94]]) # fauna"
   ]
  },
  {
   "cell_type": "markdown",
   "id": "db565a90",
   "metadata": {},
   "source": [
    "<p style=\"text-align:justify\">Chama atenção o fato de muitas espécies, tanto da flora quanto da fauna, estarem com a grafia do nome científico errado, a exemplo de <i>Vochysia gummifera</i>, a qual está grafada como <i>Vochysiagummifera</i>, o que pode induzir o público leigo a erros quando busca por expécies ameaçadas. O trecho de código abaixo mostra o número total de espécies da flora que apresentam erro grave de grafia.</p>"
   ]
  },
  {
   "cell_type": "code",
   "execution_count": 65,
   "id": "2b00123b",
   "metadata": {},
   "outputs": [
    {
     "data": {
      "text/html": [
       "1947"
      ],
      "text/latex": [
       "1947"
      ],
      "text/markdown": [
       "1947"
      ],
      "text/plain": [
       "[1] 1947"
      ]
     },
     "metadata": {},
     "output_type": "display_data"
    }
   ],
   "source": [
    "sum(is.na(stringr::str_extract(df$especie_subespecie_var, '\\\\w+\\\\s\\\\w+')))"
   ]
  },
  {
   "cell_type": "markdown",
   "id": "31d1a958",
   "metadata": {},
   "source": [
    "### 5.1 Extrair apenas os dados referentes à flora e salvá-los em planilha csv"
   ]
  },
  {
   "cell_type": "code",
   "execution_count": 72,
   "id": "10d73862",
   "metadata": {},
   "outputs": [],
   "source": [
    "# Subset the flora dataframes in the list\n",
    "df_list <- tab_lst[1:65]\n",
    "\n",
    "# Loop over the list to merge all flora dataframes in a single dataframe\n",
    "for (i in 1:65) {\n",
    "    \n",
    "    df_list[[i]][1] <- NULL\n",
    "    df <- bind_rows(df_list)\n",
    "    df <- df[c(-1, -2), c(1:4)]\n",
    "    df <- df %>% \n",
    "        tibble::rowid_to_column(var = 'n')\n",
    "    \n",
    "    df <- df[complete.cases(df), ]\n",
    "    \n",
    "    write.csv2(\n",
    "        df, './port_mma300_2022_flora.csv', \n",
    "        row.names = FALSE)\n",
    "    \n",
    "}"
   ]
  },
  {
   "cell_type": "markdown",
   "id": "69f98cbb",
   "metadata": {},
   "source": [
    "### 5.2 Correção dos Nomes Científicos\n",
    "<p style=\"text-align:justify\">Para corrigir os erros de grafia nos nomes científicos usaremos como referência a lista de espécies do projeto <a href=\"https://reflora.jbrj.gov.br/reflora\">REFLORA, cuja base de dados encontra-se no <a href=\"http://ipt.jbrj.gov.br/jbrj/archive.do?r=lista_especies_flora_brasil&v=393.291\">site do jardim botânico do Rio de Janeiro</a></p>"
   ]
  },
  {
   "cell_type": "code",
   "execution_count": null,
   "id": "cd351814",
   "metadata": {},
   "outputs": [],
   "source": [
    "require('fuzzyjoin')\n",
    "\n",
    "# Portaria MMA 300/2022\n",
    "port300 <- read.csv2('C:/Users/67147020278/Documents/Web_Scraping_R/Portaria_MMA_300-2022/port_mma300_2022_flora.csv',\n",
    "                     fileEncoding = 'UTF-8')\n",
    "\n",
    "# Reflora\n",
    "reflora <- read.csv2('C:/Users/67147020278/Documents/reflora20210706.csv',\n",
    "                     fileEncoding = 'UTF-8')\n",
    "\n",
    "# Join\n",
    "tbl_join <- fuzzyjoin::stringdist_inner_join(port300, reflora,\n",
    "                                           by = c('especie_subespecie_var' = 'specie'),\n",
    "                                           ignore_case = TRUE,\n",
    "                                           distance_col = 'distance')\n",
    "\n",
    "\n",
    "df <- tbl_join %>%\n",
    "        filter(distance < 2) %>%\n",
    "        distinct(n, .keep_all = TRUE) %>%\n",
    "        select(c(1:3, 7, 5))\n",
    "\n",
    "\n",
    "# salvar como csv\n",
    "#write.csv2(df, './port_MMA_300-2022_clean.csv', row.names = FALSE)"
   ]
  },
  {
   "cell_type": "code",
   "execution_count": null,
   "id": "89a628bc",
   "metadata": {},
   "outputs": [],
   "source": [
    "# Consultas\n",
    "df %>%\n",
    "        filter(specie == stringr::str_extract(specie, '(^Manilkara\\\\s\\\\w+)*'))"
   ]
  },
  {
   "cell_type": "markdown",
   "id": "46f97aa1",
   "metadata": {},
   "source": [
    "### 5.3 Extrair apenas os dados referentes à fauna e salvá-los em planilha csv"
   ]
  },
  {
   "cell_type": "code",
   "execution_count": null,
   "id": "3a2cc64e",
   "metadata": {},
   "outputs": [],
   "source": [
    "# Subset the flora dataframes in the list\n",
    "df_list_fauna <- tab_lst[66:95]\n",
    "\n",
    "# Loop over the list to merge all flora dataframes in a single dataframe\n",
    "for (i in 1:length(df_list_fauna)) {\n",
    "    \n",
    "    df_list_fauna <- lapply(df_list_fauna, function(x) { x[!is.na(x)] }) \n",
    "    df_list_fauna[[i]][1] <- NULL\n",
    "    df_fauna <- bind_rows(df_list_fauna)\n",
    "    df_fauna <- df_fauna[c(-1, -2, -3), c(1:5)]\n",
    "    df_fauna <- df_fauna %>% \n",
    "        tibble::rowid_to_column(var = 'n')\n",
    "    \n",
    "    df_fauna <- df_fauna[complete.cases(df_fauna), ]\n",
    "    \n",
    "    write.csv2(\n",
    "        df_fauna, './port_mma300_2022_fauna.csv', \n",
    "        row.names = FALSE)\n",
    "    \n",
    "}"
   ]
  },
  {
   "cell_type": "markdown",
   "id": "327e817a",
   "metadata": {},
   "source": [
    "### 6. Análise dos dados de flora"
   ]
  },
  {
   "cell_type": "code",
   "execution_count": 73,
   "id": "18197a79",
   "metadata": {},
   "outputs": [
    {
     "data": {
      "text/html": [
       "<table class=\"dataframe\">\n",
       "<caption>A tibble: 1 × 3</caption>\n",
       "<thead>\n",
       "\t<tr><th scope=col>Portaria_443</th><th scope=col>Portaria_300</th><th scope=col>Diferença</th></tr>\n",
       "\t<tr><th scope=col>&lt;int&gt;</th><th scope=col>&lt;int&gt;</th><th scope=col>&lt;int&gt;</th></tr>\n",
       "</thead>\n",
       "<tbody>\n",
       "\t<tr><td>2113</td><td>3112</td><td>999</td></tr>\n",
       "</tbody>\n",
       "</table>\n"
      ],
      "text/latex": [
       "A tibble: 1 × 3\n",
       "\\begin{tabular}{lll}\n",
       " Portaria\\_443 & Portaria\\_300 & Diferença\\\\\n",
       " <int> & <int> & <int>\\\\\n",
       "\\hline\n",
       "\t 2113 & 3112 & 999\\\\\n",
       "\\end{tabular}\n"
      ],
      "text/markdown": [
       "\n",
       "A tibble: 1 × 3\n",
       "\n",
       "| Portaria_443 &lt;int&gt; | Portaria_300 &lt;int&gt; | Diferença &lt;int&gt; |\n",
       "|---|---|---|\n",
       "| 2113 | 3112 | 999 |\n",
       "\n"
      ],
      "text/plain": [
       "  Portaria_443 Portaria_300 Diferença\n",
       "1 2113         3112         999      "
      ]
     },
     "metadata": {},
     "output_type": "display_data"
    }
   ],
   "source": [
    "# Portaria MMA 443\n",
    "port443 <- read.csv('D:/data/jbrio/port443.csv')\n",
    "\n",
    "df_flora <- data.frame(Portaria_443 = nrow(port443),\n",
    "                       Portaria_300 = nrow(df),\n",
    "                       Diferença = (nrow(df) - nrow(port443)))\n",
    "\n",
    "as_tibble(df_flora)"
   ]
  },
  {
   "cell_type": "markdown",
   "id": "e744c422",
   "metadata": {},
   "source": [
    "<p style=\"text-align=justify\">Podemos observar que houve um acrescimo de 999 novas espécies ameaçadas de extinção para a flora brasileira.</p>"
   ]
  },
  {
   "cell_type": "code",
   "execution_count": 133,
   "id": "40114251",
   "metadata": {},
   "outputs": [
    {
     "data": {
      "image/png": "[encoded data removed]",
      "text/plain": [
       "plot without title"
      ]
     },
     "metadata": {
      "image/png": {
       "height": 600,
       "width": 720
      }
     },
     "output_type": "display_data"
    }
   ],
   "source": [
    "# Set figure size\n",
    "options(repr.plot.width = 12, repr.plot.height = 10)\n",
    "\n",
    "# Set theme to the plots\n",
    "my_theme <- theme(plot.title = element_text(hjust = 0.5, size = 18, face = 'bold'),\n",
    "          axis.title = element_text(size = 17),\n",
    "          axis.text = element_text(size = 17),\n",
    "          legend.text = element_text(size = 17),\n",
    "          legend.position = c(0.9, 0.5))\n",
    "\n",
    "# Set status dataframe\n",
    "species_status <- df %>%\n",
    "        group_by(categoria) %>%\n",
    "        count(categoria, sort = TRUE)\n",
    "# Reorder status dataframe by \"n\" and \"categoria\" columns\n",
    "species_status$categoria <- with(species_status, \n",
    "                                 reorder(categoria, n, decreasing = TRUE))\n",
    "\n",
    "# Legend\n",
    "labels <- c('EN\\nEm Perigo', 'VU\\nVulnerável', 'CR\\nCriticamente em Perigo', \n",
    "            'CR (PEX)\\nCriticamente em Perigo\\n(Provavelmente Extinta)')\n",
    "\n",
    "status_cod <- c('EN' , 'VU', 'CR' , 'CR (PEX)')\n",
    "\n",
    "# Status plot        \n",
    "ggplot(species_status, aes(x = categoria, y = n, fill = n)) +\n",
    "    geom_col() +\n",
    "    my_theme +\n",
    "    scale_x_discrete(limits = status_cod, labels = labels) +\n",
    "    labs(\n",
    "            title = 'Espécies da Flora Ameaçadas de Extinção no Brasil',\n",
    "            x = 'Categoria',\n",
    "            y = 'Nº de espécies',\n",
    "            fill = ''\n",
    "    )"
   ]
  },
  {
   "cell_type": "code",
   "execution_count": 140,
   "id": "9a6bb7c4",
   "metadata": {},
   "outputs": [
    {
     "data": {
      "image/png": "[encoded data removed]",
      "text/plain": [
       "plot without title"
      ]
     },
     "metadata": {
      "image/png": {
       "height": 600,
       "width": 720
      }
     },
     "output_type": "display_data"
    }
   ],
   "source": [
    "# Set figure size\n",
    "options(repr.plot.width = 12, repr.plot.height = 10)\n",
    "\n",
    "statusFamily <- df %>%\n",
    "        #filter(familia != \"\") %>%\n",
    "        count(familia, sort = TRUE) %>%\n",
    "        slice_max(n, n = 10)\n",
    "\n",
    "statusFamily$familia <- with(statusFamily, reorder(familia, n))\n",
    "\n",
    "ggplot(statusFamily, aes(familia, n)) +\n",
    "        geom_col(fill = 'steelblue') + coord_flip() +\n",
    "        geom_text(aes(label = n, hjust = 2), color = 'white', size = 8) +\n",
    "        my_theme +\n",
    "        labs(\n",
    "                title = '10 Famílias da Flora com Maior Número de Espécies Ameaçadas de Extinção',\n",
    "                x = '',\n",
    "                y = ''\n",
    "            )"
   ]
  },
  {
   "cell_type": "markdown",
   "id": "aad52a15",
   "metadata": {},
   "source": [
    "<p style=\"text-align:justify\">Ao comparar a lista da Portaria MMA 300/2022 com a lista de espécies do projeto REFLORA, foi obervado que há 15 nomes cientificos com grafia de sinônimo taxonômico</p>"
   ]
  },
  {
   "cell_type": "code",
   "execution_count": null,
   "id": "bcf9c034",
   "metadata": {},
   "outputs": [],
   "source": [
    "lista_completa <- tbl_join %>%\n",
    "        select(c(-4)) %>%\n",
    "        distinct(n, .keep_all = TRUE)\n",
    "        \n",
    "\n",
    "nrow(lista_completa[!is.na(lista_completa$acceptedNameUsage), ])"
   ]
  },
  {
   "cell_type": "code",
   "execution_count": null,
   "id": "64c58afe",
   "metadata": {},
   "outputs": [],
   "source": []
  }
 ],
 "metadata": {
  "kernelspec": {
   "display_name": "R",
   "language": "R",
   "name": "ir"
  },
  "language_info": {
   "codemirror_mode": "r",
   "file_extension": ".r",
   "mimetype": "text/x-r-source",
   "name": "R",
   "pygments_lexer": "r",
   "version": "3.6.1"
  }
 },
 "nbformat": 4,
 "nbformat_minor": 5
}
