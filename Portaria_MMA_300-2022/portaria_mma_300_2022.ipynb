{
 "cells": [
  {
   "cell_type": "markdown",
   "id": "7199bbb5",
   "metadata": {},
   "source": [
    "<h1 align=\"center\">Espécies Ameaçadas de Extinção no Brasil</h1>\n",
    "\n",
    "<h3>1. Introdução</h3>\n",
    "<p style=\"text-align:justify\">A Portaria MMA 300/2022 revogou as Portarias 443/2014, 444/2014 e 445/2014, as quais em seua anexos definiam as listas de espécie da flora, fauna e peixes e invertebrados aquáticos ameaçados de extinção no Brasil. Estas listas foram atualizadas e hoje fazem parte da Portaria MMA 300/2022. Os dados aqui utilizados foram obtidos em 14 de dezembro de 2022.</p>\n",
    "<p style=\"text-align:justify\"></p>\n",
    "<p style=\"text-align:justify\">O objetivo deste <i>notebook</i> é utilizar a técncia <i>web scraping</i> para extrair as tabelas referentes as espécies da flora, fauna brasileiras ameçadas de extinção, conforme <a href=\"http://www.in.gov.br/web/dou/-/portaria-gm/mma-n-300-de-13-de-dezembro-de-2022-450425464\">Portaria MMA nº 300</a>, de 13 de dezembro de 2022. Para tal utilizaremos a linguagem de programação R</p>"
   ]
  },
  {
   "cell_type": "markdown",
   "id": "658bcb45",
   "metadata": {},
   "source": [
    "### 2. Import pacotes necessários"
   ]
  },
  {
   "cell_type": "code",
   "execution_count": 2,
   "id": "f00aae3f",
   "metadata": {},
   "outputs": [],
   "source": [
    "# Import libraries\n",
    "library(rvest)\n",
    "library(dplyr, warn.conflicts = FALSE)\n",
    "library(ggplot2)\n",
    "library(stringr)\n",
    "library(finch)"
   ]
  },
  {
   "cell_type": "markdown",
   "id": "c3622aa7",
   "metadata": {},
   "source": [
    "### 3. Definição do endereço web"
   ]
  },
  {
   "cell_type": "code",
   "execution_count": 3,
   "id": "8770391f",
   "metadata": {},
   "outputs": [],
   "source": [
    "# Set url\n",
    "url = 'https://www.in.gov.br/en/web/dou/-/portaria-gm/mma-n-300-de-13-de-dezembro-de-2022-450425464'"
   ]
  },
  {
   "cell_type": "markdown",
   "id": "df4411de",
   "metadata": {},
   "source": [
    "### 4. Aplicando a técnica _web scraping_"
   ]
  },
  {
   "cell_type": "code",
   "execution_count": 4,
   "id": "db1493a8",
   "metadata": {},
   "outputs": [],
   "source": [
    "# web scraping the url\n",
    "tab_lst <- url %>%\n",
    "        read_html() %>%\n",
    "        html_nodes(xpath = '//table') %>%\n",
    "        html_table(header = FALSE)"
   ]
  },
  {
   "cell_type": "markdown",
   "id": "023bdc0b",
   "metadata": {},
   "source": [
    "### 5. Obter informações dos dados"
   ]
  },
  {
   "cell_type": "code",
   "execution_count": 5,
   "id": "f4e07542",
   "metadata": {},
   "outputs": [
    {
     "name": "stdout",
     "output_type": "stream",
     "text": [
      "List of 96\n",
      " $ : tibble [83 × 5] (S3: tbl_df/tbl/data.frame)\n",
      "  ..$ X1: chr [1:83] \"ANEXO 1. LISTA NACIONAL DE ESPÉCIES DA FLORA AMEAÇADAS DE EXTINÇÃO\" \"\" \"1\" \"2\" ...\n",
      "  ..$ X2: chr [1:83] \"ANEXO 1. LISTA NACIONAL DE ESPÉCIES DA FLORA AMEAÇADAS DE EXTINÇÃO\" \"#\" \"*\" \"*\" ...\n",
      "  ..$ X3: chr [1:83] \"ANEXO 1. LISTA NACIONAL DE ESPÉCIES DA FLORA AMEAÇADAS DE EXTINÇÃO\" \"Família\" \"Acanthaceae\" \"Acanthaceae\" ...\n",
      "  ..$ X4: chr [1:83] \"ANEXO 1. LISTA NACIONAL DE ESPÉCIES DA FLORA AMEAÇADAS DE EXTINÇÃO\" \"Espécie ou Subespécie/Variedade\" \"Aphelandra espirito-santensis\" \"Aphelandra margaritae\" ...\n",
      "  ..$ X5: chr [1:83] \"ANEXO 1. LISTA NACIONAL DE ESPÉCIES DA FLORA AMEAÇADAS DE EXTINÇÃO\" \"Categoria\" \"EN\" \"VU\" ...\n",
      " $ : tibble [3 × 5] (S3: tbl_df/tbl/data.frame)\n",
      "  ..$ X1: int [1:3] 82 83 84\n",
      "  ..$ X2: logi [1:3] NA NA NA\n",
      "  ..$ X3: chr [1:3] \"Anacardiaceae\" \"Anacardiaceae\" \"Anacardiaceae\"\n",
      "  ..$ X4: chr [1:3] \"Schinus ramboi\" \"Spondiasadmirabilis\" \"Spondiasbahiensis\"\n",
      "  ..$ X5: chr [1:3] \"EN\" \"EN\" \"EN\"\n",
      " $ : tibble [87 × 5] (S3: tbl_df/tbl/data.frame)\n",
      "  ..$ X1: int [1:87] 85 86 87 88 89 90 91 92 93 94 ...\n",
      "  ..$ X2: chr [1:87] \"\" \"*\" \"*\" \"*\" ...\n",
      "  ..$ X3: chr [1:87] \"Anacardiaceae\" \"Anemiaceae\" \"Anemiaceae\" \"Anemiaceae\" ...\n",
      "  ..$ X4: chr [1:87] \"Thyrsodiumbolivianum\" \"Anemiablechnoides\" \"Anemia dentata\" \"Anemia gardneri\" ...\n",
      "  ..$ X5: chr [1:87] \"EN\" \"VU\" \"VU\" \"VU\" ...\n",
      " $ : tibble [15 × 5] (S3: tbl_df/tbl/data.frame)\n",
      "  ..$ X1: int [1:15] 172 173 174 175 176 177 178 179 180 181 ...\n",
      "  ..$ X2: chr [1:15] \"*\" \"*\" \"*\" \"\" ...\n",
      "  ..$ X3: chr [1:15] \"Apocynaceae\" \"Apocynaceae\" \"Apocynaceae\" \"Apocynaceae\" ...\n",
      "  ..$ X4: chr [1:15] \"Hemipogonabietoides\" \"Hemipogonhatschbachii\" \"Jobiniahatschbachii\" \"Lacmelleabahiensis\" ...\n",
      "  ..$ X5: chr [1:15] \"CR\" \"CR\" \"EN\" \"EN\" ...\n",
      " $ : tibble [72 × 5] (S3: tbl_df/tbl/data.frame)\n",
      "  ..$ X1: int [1:72] 187 188 189 190 191 192 193 194 195 196 ...\n",
      "  ..$ X2: chr [1:72] \"*\" \"*\" \"*\" \"*\" ...\n",
      "  ..$ X3: chr [1:72] \"Apocynaceae\" \"Apocynaceae\" \"Apocynaceae\" \"Apocynaceae\" ...\n",
      "  ..$ X4: chr [1:72] \"Matelea marcoassisii\" \"Metastelmagiuliettianum\" \"Metastelmaharleyi\" \"Minariabifurcata\" ...\n",
      "  ..$ X5: chr [1:72] \"VU\" \"EN\" \"EN\" \"CR\" ...\n",
      " $ : tibble [35 × 5] (S3: tbl_df/tbl/data.frame)\n",
      "  ..$ X1: int [1:35] 259 260 261 262 263 264 265 266 267 268 ...\n",
      "  ..$ X2: chr [1:35] \"*\" \"\" \"\" \"\" ...\n",
      "  ..$ X3: chr [1:35] \"Araliaceae\" \"Araliaceae\" \"Araliaceae\" \"Araliaceae\" ...\n",
      "  ..$ X4: chr [1:35] \"Didymopanaxglaziovii\" \"Didymopanax grandigemmus\" \"Didymopanaxkollmannii\" \"Didymopanaxplurifolius\" ...\n",
      "  ..$ X5: chr [1:35] \"EN\" \"CR\" \"EN\" \"VU\" ...\n",
      " $ : tibble [52 × 5] (S3: tbl_df/tbl/data.frame)\n",
      "  ..$ X1: int [1:52] 294 295 296 297 298 299 300 301 302 303 ...\n",
      "  ..$ X2: chr [1:52] \"*\" \"*\" \"*\" \"\" ...\n",
      "  ..$ X3: chr [1:52] \"Arnelliaceae\" \"Aspleniaceae\" \"Aspleniaceae\" \"Aspleniaceae\" ...\n",
      "  ..$ X4: chr [1:52] \"Southbyaorganensis\" \"Asplenium beckeri\" \"Aspleniumbradeanum\" \"Asplenium cariocanum\" ...\n",
      "  ..$ X5: chr [1:52] \"CR\" \"CR\" \"EN\" \"EN\" ...\n",
      " $ : tibble [55 × 5] (S3: tbl_df/tbl/data.frame)\n",
      "  ..$ X1: int [1:55] 346 347 348 349 350 351 352 353 354 355 ...\n",
      "  ..$ X2: chr [1:55] \"*\" \"*\" \"\" \"*\" ...\n",
      "  ..$ X3: chr [1:55] \"Asteraceae\" \"Asteraceae\" \"Asteraceae\" \"Asteraceae\" ...\n",
      "  ..$ X4: chr [1:55] \"Baccharis concinna\" \"Baccharis elliptica\" \"Baccharisfriburgensis\" \"Baccharishypericifolia\" ...\n",
      "  ..$ X5: chr [1:55] \"VU\" \"EN\" \"EN\" \"EN\" ...\n",
      " $ : tibble [32 × 5] (S3: tbl_df/tbl/data.frame)\n",
      "  ..$ X1: int [1:32] 401 402 403 404 405 406 407 408 409 410 ...\n",
      "  ..$ X2: chr [1:32] \"\" \"\" \"\" \"*\" ...\n",
      "  ..$ X3: chr [1:32] \"Asteraceae\" \"Asteraceae\" \"Asteraceae\" \"Asteraceae\" ...\n",
      "  ..$ X4: chr [1:32] \"Heterocomaekmaniana\" \"Heterocomaerecta\" \"Heterocomalanuginosa\" \"Heterocondylus lysimachioides\" ...\n",
      "  ..$ X5: chr [1:32] \"EN\" \"EN\" \"EN\" \"VU\" ...\n",
      " $ : tibble [74 × 5] (S3: tbl_df/tbl/data.frame)\n",
      "  ..$ X1: int [1:74] 433 434 435 436 437 438 439 440 441 442 ...\n",
      "  ..$ X2: chr [1:74] \"*\" \"*\" \"*\" \"*\" ...\n",
      "  ..$ X3: chr [1:74] \"Asteraceae\" \"Asteraceae\" \"Asteraceae\" \"Asteraceae\" ...\n",
      "  ..$ X4: chr [1:74] \"Lessingianthus subcarduoides\" \"Lessingianthus venosissimus\" \"Lessingianthus westermanii\" \"Lessingianthus zuccarinianus\" ...\n",
      "  ..$ X5: chr [1:74] \"EN\" \"EN\" \"EN\" \"VU\" ...\n",
      " $ : tibble [13 × 5] (S3: tbl_df/tbl/data.frame)\n",
      "  ..$ X1: int [1:13] 507 508 509 510 511 512 513 514 515 516 ...\n",
      "  ..$ X2: chr [1:13] \"*\" \"*\" \"*\" \"*\" ...\n",
      "  ..$ X3: chr [1:13] \"Asteraceae\" \"Asteraceae\" \"Asteraceae\" \"Asteraceae\" ...\n",
      "  ..$ X4: chr [1:13] \"Pamphalea cardaminifolia\" \"Pamphalea maxima\" \"Pamphalea ramboi\" \"Pamphalea smithii\" ...\n",
      "  ..$ X5: chr [1:13] \"EN\" \"CR\" \"CR\" \"EN\" ...\n",
      " $ : tibble [93 × 9] (S3: tbl_df/tbl/data.frame)\n",
      "  ..$ X1: int [1:93] 520 521 522 523 524 525 526 527 528 529 ...\n",
      "  ..$ X2: int [1:93] 520 521 522 523 524 525 526 527 528 529 ...\n",
      "  ..$ X3: chr [1:93] \"\" \"*\" \"*\" \"*\" ...\n",
      "  ..$ X4: chr [1:93] \"Asteraceae\" \"Asteraceae\" \"Asteraceae\" \"Asteraceae\" ...\n",
      "  ..$ X5: chr [1:93] \"Asteraceae\" \"Asteraceae\" \"Asteraceae\" \"Asteraceae\" ...\n",
      "  ..$ X6: chr [1:93] \"Piptocarpha verticillata\" \"Piptolepisbuxoides\" \"Piptolepisimbricata\" \"Piptolepis leptospermoides\" ...\n",
      "  ..$ X7: chr [1:93] \"Piptocarpha verticillata\" \"Piptolepisbuxoides\" \"Piptolepisimbricata\" \"Piptolepis leptospermoides\" ...\n",
      "  ..$ X8: chr [1:93] \"Piptocarpha verticillata\" \"Piptolepisbuxoides\" \"Piptolepisimbricata\" \"Piptolepis leptospermoides\" ...\n",
      "  ..$ X9: chr [1:93] \"EN\" \"EN\" \"CR\" \"CR\" ...\n",
      " $ : tibble [81 × 5] (S3: tbl_df/tbl/data.frame)\n",
      "  ..$ X1: int [1:81] 613 614 615 616 617 618 619 620 621 622 ...\n",
      "  ..$ X2: chr [1:81] \"*\" \"*\" \"*\" \"*\" ...\n",
      "  ..$ X3: chr [1:81] \"Begoniaceae\" \"Begoniaceae\" \"Begoniaceae\" \"Begoniaceae\" ...\n",
      "  ..$ X4: chr [1:81] \"Begoniaorganensis\" \"Begoniaparanaensis\" \"Begoniapaulensis\" \"Begoniaperdusenii\" ...\n",
      "  ..$ X5: chr [1:81] \"EN\" \"EN\" \"EN\" \"EN\" ...\n",
      " $ : tibble [25 × 5] (S3: tbl_df/tbl/data.frame)\n",
      "  ..$ X1: int [1:25] 694 695 696 697 698 699 700 701 702 703 ...\n",
      "  ..$ X2: chr [1:25] \"*\" \"*\" \"*\" \"*\" ...\n",
      "  ..$ X3: chr [1:25] \"Bromeliaceae\" \"Bromeliaceae\" \"Bromeliaceae\" \"Bromeliaceae\" ...\n",
      "  ..$ X4: chr [1:25] \"Aechmea werdermannii\" \"Aechmea winkleri\" \"Alcantareabenzingii\" \"Alcantareaduarteana\" ...\n",
      "  ..$ X5: chr [1:25] \"EN\" \"CR\" \"CR\" \"EN\" ...\n",
      " $ : tibble [62 × 5] (S3: tbl_df/tbl/data.frame)\n",
      "  ..$ X1: int [1:62] 719 720 721 722 723 724 725 726 727 728 ...\n",
      "  ..$ X2: chr [1:62] \"*\" \"*\" \"*\" \"*\" ...\n",
      "  ..$ X3: chr [1:62] \"Bromeliaceae\" \"Bromeliaceae\" \"Bromeliaceae\" \"Bromeliaceae\" ...\n",
      "  ..$ X4: chr [1:62] \"Canistrumguzmanioides\" \"Canistrummontanum\" \"Canistrumpickelii\" \"Canistrumtriangulare\" ...\n",
      "  ..$ X5: chr [1:62] \"EN\" \"EN\" \"VU\" \"EN\" ...\n",
      " $ : tibble [45 × 5] (S3: tbl_df/tbl/data.frame)\n",
      "  ..$ X1: int [1:45] 781 782 783 784 785 786 787 788 789 790 ...\n",
      "  ..$ X2: chr [1:45] \"\" \"\" \"\" \"\" ...\n",
      "  ..$ X3: chr [1:45] \"Bromeliaceae\" \"Bromeliaceae\" \"Bromeliaceae\" \"Bromeliaceae\" ...\n",
      "  ..$ X4: chr [1:45] \"Neoregelia coimbrae\" \"Neoregelia coriacea\" \"Neoregelia eltoniana\" \"Neoregeliafosteriana\" ...\n",
      "  ..$ X5: chr [1:45] \"EN\" \"EN\" \"EN\" \"CR\" ...\n",
      " $ : tibble [42 × 5] (S3: tbl_df/tbl/data.frame)\n",
      "  ..$ X1: int [1:42] 826 827 828 829 830 831 832 833 834 835 ...\n",
      "  ..$ X2: chr [1:42] \"*\" \"*\" \"*\" \"*\" ...\n",
      "  ..$ X3: chr [1:42] \"Bromeliaceae\" \"Bromeliaceae\" \"Bromeliaceae\" \"Bromeliaceae\" ...\n",
      "  ..$ X4: chr [1:42] \"Orthophytum magalhaesii\" \"Orthophytumzanonii\" \"Pitcairnia albiflos\" \"Pitcairnia bradei\" ...\n",
      "  ..$ X5: chr [1:42] \"EN\" \"CR\" \"VU\" \"CR\" ...\n",
      " $ : tibble [65 × 5] (S3: tbl_df/tbl/data.frame)\n",
      "  ..$ X1: int [1:65] 868 869 870 871 872 873 874 875 876 877 ...\n",
      "  ..$ X2: chr [1:65] \"*\" \"*\" \"*\" \"*\" ...\n",
      "  ..$ X3: chr [1:65] \"Bromeliaceae\" \"Bromeliaceae\" \"Bromeliaceae\" \"Bromeliaceae\" ...\n",
      "  ..$ X4: chr [1:65] \"Tillandsiacrocata\" \"Tillandsiagrazielae\" \"Tillandsiaheubergeri\" \"Tillandsiajonesii\" ...\n",
      "  ..$ X5: chr [1:65] \"EN\" \"EN\" \"VU\" \"CR\" ...\n",
      " $ : tibble [22 × 5] (S3: tbl_df/tbl/data.frame)\n",
      "  ..$ X1: int [1:22] 933 934 935 936 937 938 939 940 941 942 ...\n",
      "  ..$ X2: chr [1:22] \"*\" \"*\" \"*\" \"*\" ...\n",
      "  ..$ X3: chr [1:22] \"Burseraceae\" \"Cactaceae\" \"Cactaceae\" \"Cactaceae\" ...\n",
      "  ..$ X4: chr [1:22] \"Trattinnickiamensalis\" \"Arrojadoabahiensis\" \"Arrojadoa eriocaulis\" \"Arthrocereusglaziovii\" ...\n",
      "  ..$ X5: chr [1:22] \"EN\" \"EN\" \"EN\" \"EN\" ...\n",
      " $ : tibble [84 × 5] (S3: tbl_df/tbl/data.frame)\n",
      "  ..$ X1: int [1:84] 955 956 957 958 959 960 961 962 963 964 ...\n",
      "  ..$ X2: chr [1:84] \"*\" \"*\" \"*\" \"*\" ...\n",
      "  ..$ X3: chr [1:84] \"Cactaceae\" \"Cactaceae\" \"Cactaceae\" \"Cactaceae\" ...\n",
      "  ..$ X4: chr [1:84] \"Echinopsiscalochlora\" \"Echinopsisoxygona\" \"Espostoopsisdybowskii\" \"Facheiroa cephaliomelana\" ...\n",
      "  ..$ X5: chr [1:84] \"CR\" \"EN\" \"EN\" \"EN\" ...\n",
      " $ : tibble [3 × 5] (S3: tbl_df/tbl/data.frame)\n",
      "  ..$ X1: int [1:3] 1039 1040 1041\n",
      "  ..$ X2: chr [1:3] \"*\" \"*\" \"*\"\n",
      "  ..$ X3: chr [1:3] \"Campanulaceae\" \"Campanulaceae\" \"Campanulaceae\"\n",
      "  ..$ X4: chr [1:3] \"Lobeliahilaireana\" \"Lobelialangeana\" \"Lobeliasantos-limae\"\n",
      "  ..$ X5: chr [1:3] \"EN\" \"EN\" \"CR\"\n",
      " $ : tibble [87 × 5] (S3: tbl_df/tbl/data.frame)\n",
      "  ..$ X1: int [1:87] 1042 1043 1044 1045 1046 1047 1048 1049 1050 1051 ...\n",
      "  ..$ X2: chr [1:87] \"\" \"\" \"\" \"\" ...\n",
      "  ..$ X3: chr [1:87] \"Canellaceae\" \"Canellaceae\" \"Cannabaceae\" \"Capparaceae\" ...\n",
      "  ..$ X4: chr [1:87] \"Cinnamodendronaxillare\" \"Cinnamodendron occhionianum\" \"Celtisorthacanthos\" \"Colicodendronbahianum\" ...\n",
      "  ..$ X5: chr [1:87] \"EN\" \"CR\" \"EN\" \"VU\" ...\n",
      " $ : tibble [16 × 5] (S3: tbl_df/tbl/data.frame)\n",
      "  ..$ X1: int [1:16] 1129 1130 1131 1132 1133 1134 1135 1136 1137 1138 ...\n",
      "  ..$ X2: chr [1:16] \"\" \"*\" \"\" \"*\" ...\n",
      "  ..$ X3: chr [1:16] \"Connaraceae\" \"Connaraceae\" \"Convolvulaceae\" \"Convolvulaceae\" ...\n",
      "  ..$ X4: chr [1:16] \"Rourealaurifolia\" \"Roureapseudospadicea\" \"Bonamiaumbellata\" \"Distimake repens\" ...\n",
      "  ..$ X5: chr [1:16] \"VU\" \"EN\" \"CR\" \"EN\" ...\n",
      " $ : tibble [71 × 5] (S3: tbl_df/tbl/data.frame)\n",
      "  ..$ X1: int [1:71] 1145 1146 1147 1148 1149 1150 1151 1152 1153 1154 ...\n",
      "  ..$ X2: chr [1:71] \"*\" \"*\" \"\" \"\" ...\n",
      "  ..$ X3: chr [1:71] \"Convolvulaceae\" \"Crassulaceae\" \"Cucurbitaceae\" \"Cunoniaceae\" ...\n",
      "  ..$ X4: chr [1:71] \"Jacquemontia revoluta\" \"Crassulapeduncularis\" \"Wilbrandiaglaziovii\" \"Lamanoniabrasiliensis\" ...\n",
      "  ..$ X5: chr [1:71] \"EN\" \"CR\" \"EN\" \"EN\" ...\n",
      " $ : tibble [36 × 5] (S3: tbl_df/tbl/data.frame)\n",
      "  ..$ X1: int [1:36] 1216 1217 1218 1219 1220 1221 1222 1223 1224 1225 ...\n",
      "  ..$ X2: chr [1:36] \"\" \"\" \"*\" \"*\" ...\n",
      "  ..$ X3: chr [1:36] \"Ericaceae\" \"Ericaceae\" \"Ericaceae\" \"Ericaceae\" ...\n",
      "  ..$ X4: chr [1:36] \"Agaristaorganensis\" \"Agarista uleana\" \"Gaultheriasleumeriana\" \"Gaylussaciaangulata\" ...\n",
      "  ..$ X5: chr [1:36] \"CR\" \"VU\" \"CR\" \"EN\" ...\n",
      " $ : tibble [51 × 5] (S3: tbl_df/tbl/data.frame)\n",
      "  ..$ X1: int [1:51] 1252 1253 1254 1255 1256 1257 1258 1259 1260 1261 ...\n",
      "  ..$ X2: chr [1:51] \"*\" \"*\" \"\" \"\" ...\n",
      "  ..$ X3: chr [1:51] \"Eriocaulaceae\" \"Eriocaulaceae\" \"Eriocaulaceae\" \"Erythropalaceae\" ...\n",
      "  ..$ X4: chr [1:51] \"Syngonanthus itambeensis\" \"Syngonanthuslaricifolius\" \"Syngonanthusvittatus\" \"Heisteriahuberiana\" ...\n",
      "  ..$ X5: chr [1:51] \"EN\" \"VU\" \"EN\" \"CR\" ...\n",
      " $ : tibble [56 × 5] (S3: tbl_df/tbl/data.frame)\n",
      "  ..$ X1: int [1:56] 1303 1304 1305 1306 1307 1308 1309 1310 1311 1312 ...\n",
      "  ..$ X2: chr [1:56] \"*\" \"*\" \"*\" \"*\" ...\n",
      "  ..$ X3: chr [1:56] \"Euphorbiaceae\" \"Euphorbiaceae\" \"Euphorbiaceae\" \"Euphorbiaceae\" ...\n",
      "  ..$ X4: chr [1:56] \"Dalechampiariparia\" \"Euphorbiaappariciana\" \"Euphorbiaattastoma\" \"Euphorbiacrossadenia\" ...\n",
      "  ..$ X5: chr [1:56] \"CR\" \"EN\" \"EN\" \"EN\" ...\n",
      " $ : tibble [31 × 5] (S3: tbl_df/tbl/data.frame)\n",
      "  ..$ X1: int [1:31] 1359 1360 1361 1362 1363 1364 1365 1366 1367 1368 ...\n",
      "  ..$ X2: chr [1:31] \"\" \"\" \"\" \"\" ...\n",
      "  ..$ X3: chr [1:31] \"Fabaceae\" \"Fabaceae\" \"Fabaceae\" \"Fabaceae\" ...\n",
      "  ..$ X4: chr [1:31] \"Dahlstedtiagrandiflora\" \"Dahlstedtiapeckoltii\" \"Dalbergiaernest-ulei\" \"Dalbergiaglaziovii\" ...\n",
      "  ..$ X5: chr [1:31] \"EN\" \"EN\" \"EN\" \"EN\" ...\n",
      " $ : tibble [75 × 5] (S3: tbl_df/tbl/data.frame)\n",
      "  ..$ X1: int [1:75] 1390 1391 1392 1393 1394 1395 1396 1397 1398 1399 ...\n",
      "  ..$ X2: chr [1:75] \"*\" \"*\" \"*\" \"*\" ...\n",
      "  ..$ X3: chr [1:75] \"Fabaceae\" \"Fabaceae\" \"Fabaceae\" \"Fabaceae\" ...\n",
      "  ..$ X4: chr [1:75] \"Inga pleiogyna\" \"Inga praegnans\" \"Ingasuborbicularis\" \"Inga unica\" ...\n",
      "  ..$ X5: chr [1:75] \"EN\" \"EN\" \"EN\" \"EN\" ...\n",
      " $ : tibble [12 × 5] (S3: tbl_df/tbl/data.frame)\n",
      "  ..$ X1: int [1:12] 1465 1466 1467 1468 1469 1470 1471 1472 1473 1474 ...\n",
      "  ..$ X2: chr [1:12] \"\" \"\" \"\" \"\" ...\n",
      "  ..$ X3: chr [1:12] \"Fabaceae\" \"Fabaceae\" \"Fabaceae\" \"Fabaceae\" ...\n",
      "  ..$ X4: chr [1:12] \"Moldenhawera blanchetiana\" \"Moldenhawera longipedicellata\" \"Moldenhawera luschnathiana\" \"Moldenhaweranutans\" ...\n",
      "  ..$ X5: chr [1:12] \"VU\" \"EN\" \"VU\" \"EN\" ...\n",
      " $ : tibble [87 × 5] (S3: tbl_df/tbl/data.frame)\n",
      "  ..$ X1: int [1:87] 1477 1478 1479 1480 1481 1482 1483 1484 1485 1486 ...\n",
      "  ..$ X2: chr [1:87] \"\" \"\" \"\" \"\" ...\n",
      "  ..$ X3: chr [1:87] \"Fabaceae\" \"Fabaceae\" \"Fabaceae\" \"Fabaceae\" ...\n",
      "  ..$ X4: chr [1:87] \"Muellera torrensis\" \"Muellera tozziana\" \"Muellera variabilis\" \"Muellera virgilioides\" ...\n",
      "  ..$ X5: chr [1:87] \"EN\" \"EN\" \"EN\" \"VU\" ...\n",
      " $ : tibble [7 × 5] (S3: tbl_df/tbl/data.frame)\n",
      "  ..$ X1: int [1:7] 1564 1565 1566 1567 1568 1569 1570\n",
      "  ..$ X2: chr [1:7] \"*\" \"*\" \"*\" \"*\" ...\n",
      "  ..$ X3: chr [1:7] \"Gesneriaceae\" \"Gesneriaceae\" \"Gesneriaceae\" \"Gesneriaceae\" ...\n",
      "  ..$ X4: chr [1:7] \"Codonanthecarnosa\" \"Codonanthevenosa\" \"Goyazia petraea\" \"Nematanthus monanthos\" ...\n",
      "  ..$ X5: chr [1:7] \"VU\" \"VU\" \"EN\" \"EN\" ...\n",
      " $ : tibble [80 × 5] (S3: tbl_df/tbl/data.frame)\n",
      "  ..$ X1: int [1:80] 1571 1572 1573 1574 1575 1576 1577 1578 1579 1580 ...\n",
      "  ..$ X2: chr [1:80] \"*\" \"*\" \"\" \"*\" ...\n",
      "  ..$ X3: chr [1:80] \"Gesneriaceae\" \"Gesneriaceae\" \"Gesneriaceae\" \"Gesneriaceae\" ...\n",
      "  ..$ X4: chr [1:80] \"Sinningiaaghensis\" \"Sinningiaaraneosa\" \"Sinningiabulbosa\" \"Sinningiacarangolensis\" ...\n",
      "  ..$ X5: chr [1:80] \"EN\" \"VU\" \"EN\" \"EN\" ...\n",
      " $ : tibble [27 × 5] (S3: tbl_df/tbl/data.frame)\n",
      "  ..$ X1: int [1:27] 1651 1652 1653 1654 1655 1656 1657 1658 1659 1660 ...\n",
      "  ..$ X2: chr [1:27] \"*\" \"*\" \"*\" \"*\" ...\n",
      "  ..$ X3: chr [1:27] \"Lamiaceae\" \"Lamiaceae\" \"Lamiaceae\" \"Lamiaceae\" ...\n",
      "  ..$ X4: chr [1:27] \"Hyptisalpestris\" \"Hyptisangustifolia\" \"Hyptisarenaria\" \"Hyptisbahiensis\" ...\n",
      "  ..$ X5: chr [1:27] \"EN\" \"EN\" \"VU\" \"EN\" ...\n",
      " $ : tibble [60 × 5] (S3: tbl_df/tbl/data.frame)\n",
      "  ..$ X1: int [1:60] 1678 1679 1680 1681 1682 1683 1684 1685 1686 1687 ...\n",
      "  ..$ X2: chr [1:60] \"\" \"*\" \"\" \"*\" ...\n",
      "  ..$ X3: chr [1:60] \"Lauraceae\" \"Lauraceae\" \"Lauraceae\" \"Lauraceae\" ...\n",
      "  ..$ X4: chr [1:60] \"Beilschmiediafluminensis\" \"Beilschmiedia rigida\" \"Beilschmiedia vestita\" \"Cinnamomum erythropus\" ...\n",
      "  ..$ X5: chr [1:60] \"EN\" \"EN\" \"CR\" \"EN\" ...\n",
      " $ : tibble [47 × 5] (S3: tbl_df/tbl/data.frame)\n",
      "  ..$ X1: int [1:47] 1738 1739 1740 1741 1742 1743 1744 1745 1746 1747 ...\n",
      "  ..$ X2: chr [1:47] \"\" \"*\" \"\" \"\" ...\n",
      "  ..$ X3: chr [1:47] \"Lauraceae\" \"Lauraceae\" \"Lauraceae\" \"Lauraceae\" ...\n",
      "  ..$ X4: chr [1:47] \"Ocoteasulcata\" \"Ocotea tabacifolia\" \"Ocotea thinicola\" \"Ocotea vegrandis\" ...\n",
      "  ..$ X5: chr [1:47] \"VU\" \"EN\" \"CR\" \"VU\" ...\n",
      " $ : tibble [40 × 5] (S3: tbl_df/tbl/data.frame)\n",
      "  ..$ X1: int [1:40] 1785 1786 1787 1788 1789 1790 1791 1792 1793 1794 ...\n",
      "  ..$ X2: chr [1:40] \"*\" \"*\" \"*\" \"*\" ...\n",
      "  ..$ X3: chr [1:40] \"Loganiaceae\" \"Loganiaceae\" \"Loganiaceae\" \"Loganiaceae\" ...\n",
      "  ..$ X4: chr [1:40] \"Spigelia flava\" \"Spigeliakuhlmannii\" \"Spigelialundiana\" \"Spigelia vestita\" ...\n",
      "  ..$ X5: chr [1:40] \"VU\" \"EN\" \"EN\" \"EN\" ...\n",
      " $ : tibble [67 × 5] (S3: tbl_df/tbl/data.frame)\n",
      "  ..$ X1: int [1:67] 1825 1826 1827 1828 1829 1830 1831 1832 1833 1834 ...\n",
      "  ..$ X2: chr [1:67] \"*\" \"*\" \"\" \"*\" ...\n",
      "  ..$ X3: chr [1:67] \"Lythraceae\" \"Lythraceae\" \"Lythraceae\" \"Lythraceae\" ...\n",
      "  ..$ X4: chr [1:67] \"Diplusodon retroimbricatus\" \"Diplusodonvillosissimus\" \"Lafoensiaglyptocarpa\" \"Lafoensia nummularifolia\" ...\n",
      "  ..$ X5: chr [1:67] \"CR\" \"VU\" \"EN\" \"VU\" ...\n",
      " $ : tibble [20 × 5] (S3: tbl_df/tbl/data.frame)\n",
      "  ..$ X1: int [1:20] 1892 1893 1894 1895 1896 1897 1898 1899 1900 1901 ...\n",
      "  ..$ X2: chr [1:20] \"*\" \"*\" \"*\" \"*\" ...\n",
      "  ..$ X3: chr [1:20] \"Malpighiaceae\" \"Malpighiaceae\" \"Malpighiaceae\" \"Malpighiaceae\" ...\n",
      "  ..$ X4: chr [1:20] \"Peixotoa bahiana\" \"Peixotoa barnebyi\" \"Peixotoa catarinensis\" \"Peixotoa cipoana\" ...\n",
      "  ..$ X5: chr [1:20] \"CR\" \"EN\" \"EN\" \"EN\" ...\n",
      " $ : tibble [86 × 5] (S3: tbl_df/tbl/data.frame)\n",
      "  ..$ X1: int [1:86] 1912 1913 1914 1915 1916 1917 1918 1919 1920 1921 ...\n",
      "  ..$ X2: chr [1:86] \"*\" \"\" \"\" \"\" ...\n",
      "  ..$ X3: chr [1:86] \"Malvaceae\" \"Malvaceae\" \"Malvaceae\" \"Malvaceae\" ...\n",
      "  ..$ X4: chr [1:86] \"Abutilonnigricans\" \"Apeiba trombetensis\" \"Bastardiopsisgrewiifolia\" \"Callianthebezerrae\" ...\n",
      "  ..$ X5: chr [1:86] \"CR\" \"CR\" \"CR\" \"EN\" ...\n",
      " $ : tibble [1 × 5] (S3: tbl_df/tbl/data.frame)\n",
      "  ..$ X1: int 1998\n",
      "  ..$ X2: logi NA\n",
      "  ..$ X3: chr \"Melastomataceae\"\n",
      "  ..$ X4: chr \"Huberiaorganensis\"\n",
      "  ..$ X5: chr \"EN\"\n",
      " $ : tibble [87 × 5] (S3: tbl_df/tbl/data.frame)\n",
      "  ..$ X1: int [1:87] 1999 2000 2001 2002 2003 2004 2005 2006 2007 2008 ...\n",
      "  ..$ X2: chr [1:87] \"\" \"*\" \"\" \"\" ...\n",
      "  ..$ X3: chr [1:87] \"Melastomataceae\" \"Melastomataceae\" \"Melastomataceae\" \"Melastomataceae\" ...\n",
      "  ..$ X4: chr [1:87] \"Huberiapiranii\" \"Lavoisieracordata\" \"Lavoisieranervulosa\" \"Leandraalpestris\" ...\n",
      "  ..$ X5: chr [1:87] \"EN\" \"VU\" \"EN\" \"VU\" ...\n",
      " $ : tibble [18 × 5] (S3: tbl_df/tbl/data.frame)\n",
      "  ..$ X1: int [1:18] 2086 2087 2088 2089 2090 2091 2092 2093 2094 2095 ...\n",
      "  ..$ X2: chr [1:18] \"*\" \"\" \"\" \"*\" ...\n",
      "  ..$ X3: chr [1:18] \"Melastomataceae\" \"Melastomataceae\" \"Melastomataceae\" \"Melastomataceae\" ...\n",
      "  ..$ X4: chr [1:18] \"Pleromaapparicioi\" \"Pleroma axillare\" \"Pleromabenthamianum\" \"Pleromabergianum\" ...\n",
      "  ..$ X5: chr [1:18] \"EN\" \"EN\" \"EN\" \"EN\" ...\n",
      " $ : tibble [69 × 5] (S3: tbl_df/tbl/data.frame)\n",
      "  ..$ X1: int [1:69] 2104 2105 2106 2107 2108 2109 2110 2111 2112 2113 ...\n",
      "  ..$ X2: chr [1:69] \"\" \"*\" \"*\" \"\" ...\n",
      "  ..$ X3: chr [1:69] \"Melastomataceae\" \"Melastomataceae\" \"Melastomataceae\" \"Melastomataceae\" ...\n",
      "  ..$ X4: chr [1:69] \"Pleroma pallidum\" \"Pleromaquartzophilum\" \"Pleroma riedelianum\" \"Pleroma rigidulum\" ...\n",
      "  ..$ X5: chr [1:69] \"CR\" \"EN\" \"EN\" \"EN\" ...\n",
      " $ : tibble [38 × 5] (S3: tbl_df/tbl/data.frame)\n",
      "  ..$ X1: int [1:38] 2173 2174 2175 2176 2177 2178 2179 2180 2181 2182 ...\n",
      "  ..$ X2: chr [1:38] \"\" \"\" \"\" \"\" ...\n",
      "  ..$ X3: chr [1:38] \"Myrtaceae\" \"Myrtaceae\" \"Myrtaceae\" \"Myrtaceae\" ...\n",
      "  ..$ X4: chr [1:38] \"Campomanesia sepalifolia\" \"Curitibaprismatica\" \"Eugeniaaltissima\" \"Eugeniaamorimii\" ...\n",
      "  ..$ X5: chr [1:38] \"CR\" \"VU\" \"EN\" \"CR\" ...\n",
      " $ : tibble [49 × 5] (S3: tbl_df/tbl/data.frame)\n",
      "  ..$ X1: int [1:49] 2211 2212 2213 2214 2215 2216 2217 2218 2219 2220 ...\n",
      "  ..$ X2: chr [1:49] \"\" \"*\" \"\" \"\" ...\n",
      "  ..$ X3: chr [1:49] \"Myrtaceae\" \"Myrtaceae\" \"Myrtaceae\" \"Myrtaceae\" ...\n",
      "  ..$ X4: chr [1:49] \"Eugenialagoensis\" \"Eugenialeonorae\" \"Eugenialongifolia\" \"Eugenialongipetiolata\" ...\n",
      "  ..$ X5: chr [1:49] \"EN\" \"EN\" \"EN\" \"EN\" ...\n",
      " $ : tibble [58 × 5] (S3: tbl_df/tbl/data.frame)\n",
      "  ..$ X1: int [1:58] 2260 2261 2262 2263 2264 2265 2266 2267 2268 2269 ...\n",
      "  ..$ X2: chr [1:58] \"*\" \"*\" \"*\" \"*\" ...\n",
      "  ..$ X3: chr [1:58] \"Myrtaceae\" \"Myrtaceae\" \"Myrtaceae\" \"Myrtaceae\" ...\n",
      "  ..$ X4: chr [1:58] \"Myrceugeniafranciscensis\" \"Myrceugenia gertii\" \"Myrceugeniahamoniana\" \"Myrceugeniahatschbachii\" ...\n",
      "  ..$ X5: chr [1:58] \"VU\" \"EN\" \"EN\" \"EN\" ...\n",
      " $ : tibble [29 × 5] (S3: tbl_df/tbl/data.frame)\n",
      "  ..$ X1: int [1:29] 2318 2319 2320 2321 2322 2323 2324 2325 2326 2327 ...\n",
      "  ..$ X2: chr [1:29] \"\" \"*\" \"\" \"\" ...\n",
      "  ..$ X3: chr [1:29] \"Myrtaceae\" \"Myrtaceae\" \"Myrtaceae\" \"Myrtaceae\" ...\n",
      "  ..$ X4: chr [1:29] \"Psidiumgrazielae\" \"Psidium reptans\" \"Psidium rotundidiscum\" \"Psidiumsessiliflorum\" ...\n",
      "  ..$ X5: chr [1:29] \"EN\" \"EN\" \"EN\" \"EN\" ...\n",
      " $ : tibble [77 × 5] (S3: tbl_df/tbl/data.frame)\n",
      "  ..$ X1: int [1:77] 2347 2348 2349 2350 2351 2352 2353 2354 2355 2356 ...\n",
      "  ..$ X2: chr [1:77] \"\" \"*\" \"\" \"\" ...\n",
      "  ..$ X3: chr [1:77] \"Oleaceae\" \"Oleaceae\" \"Oleaceae\" \"Oleaceae\" ...\n",
      "  ..$ X4: chr [1:77] \"Chionanthusferrugineus\" \"Chionanthusfluminensis\" \"Chionanthusmicranthus\" \"Chionanthusparviflorus\" ...\n",
      "  ..$ X5: chr [1:77] \"EN\" \"CR\" \"EN\" \"EN\" ...\n",
      " $ : tibble [10 × 5] (S3: tbl_df/tbl/data.frame)\n",
      "  ..$ X1: int [1:10] 2424 2425 2426 2427 2428 2429 2430 2431 2432 2433\n",
      "  ..$ X2: chr [1:10] \"*\" \"*\" \"*\" \"*\" ...\n",
      "  ..$ X3: chr [1:10] \"Orchidaceae\" \"Orchidaceae\" \"Orchidaceae\" \"Orchidaceae\" ...\n",
      "  ..$ X4: chr [1:10] \"Chloraeamembranacea\" \"Cirrhaeafuscolutea\" \"Cirrhaealoddigesii\" \"Cirrhaealongiracemosa\" ...\n",
      "  ..$ X5: chr [1:10] \"EN\" \"EN\" \"CR\" \"VU\" ...\n",
      " $ : tibble [87 × 5] (S3: tbl_df/tbl/data.frame)\n",
      "  ..$ X1: int [1:87] 2434 2435 2436 2437 2438 2439 2440 2441 2442 2443 ...\n",
      "  ..$ X2: chr [1:87] \"*\" \"*\" \"*\" \"*\" ...\n",
      "  ..$ X3: chr [1:87] \"Orchidaceae\" \"Orchidaceae\" \"Orchidaceae\" \"Orchidaceae\" ...\n",
      "  ..$ X4: chr [1:87] \"Cyrtopodiumcaiapoense\" \"Cyrtopodium hatschbachii\" \"Cyrtopodium lamellaticallosum\" \"Cyrtopodiumlatifolium\" ...\n",
      "  ..$ X5: chr [1:87] \"VU\" \"EN\" \"CR\" \"CR\" ...\n",
      " $ : tibble [9 × 5] (S3: tbl_df/tbl/data.frame)\n",
      "  ..$ X1: int [1:9] 2521 2522 2523 2524 2525 2526 2527 2528 2529\n",
      "  ..$ X2: chr [1:9] \"*\" \"*\" \"*\" \"*\" ...\n",
      "  ..$ X3: chr [1:9] \"Orchidaceae\" \"Orchidaceae\" \"Orchidaceae\" \"Orchidaceae\" ...\n",
      "  ..$ X4: chr [1:9] \"Scuticariaitirapinensis\" \"Scuticariakautskyi\" \"Scuticariastrictifolia\" \"Specklinia gomesferreirae\" ...\n",
      "  ..$ X5: chr [1:9] \"CR\" \"CR\" \"EN\" \"CR\" ...\n",
      " $ : tibble [78 × 5] (S3: tbl_df/tbl/data.frame)\n",
      "  ..$ X1: int [1:78] 2530 2531 2532 2533 2534 2535 2536 2537 2538 2539 ...\n",
      "  ..$ X2: chr [1:78] \"*\" \"*\" \"*\" \"*\" ...\n",
      "  ..$ X3: chr [1:78] \"Orchidaceae\" \"Orchidaceae\" \"Orchidaceae\" \"Orchidaceae\" ...\n",
      "  ..$ X4: chr [1:78] \"Vanilladietschiana\" \"Vanilla dubia\" \"Zygopetalumcrinitumsubsp. pabstii\" \"Zygopetalumjugosum\" ...\n",
      "  ..$ X5: chr [1:78] \"VU\" \"EN\" \"EN\" \"EN\" ...\n",
      " $ : tibble [29 × 5] (S3: tbl_df/tbl/data.frame)\n",
      "  ..$ X1: int [1:29] 2608 2609 2610 2611 2612 2613 2614 2615 2616 2617 ...\n",
      "  ..$ X2: chr [1:29] \"*\" \"\" \"\" \"*\" ...\n",
      "  ..$ X3: chr [1:29] \"Piperaceae\" \"Piperaceae\" \"Piperaceae\" \"Piperaceae\" ...\n",
      "  ..$ X4: chr [1:29] \"Piper loefgrenii\" \"Piper morisonianum\" \"Piperniteroiense\" \"Piperoblancifolium\" ...\n",
      "  ..$ X5: chr [1:29] \"VU\" \"CR\" \"CR\" \"EN\" ...\n",
      " $ : tibble [58 × 5] (S3: tbl_df/tbl/data.frame)\n",
      "  ..$ X1: int [1:58] 2637 2638 2639 2640 2641 2642 2643 2644 2645 2646 ...\n",
      "  ..$ X2: chr [1:58] \"*\" \"*\" \"*\" \"*\" ...\n",
      "  ..$ X3: chr [1:58] \"Poaceae\" \"Poaceae\" \"Poaceae\" \"Poaceae\" ...\n",
      "  ..$ X4: chr [1:58] \"Arundinelladeppeana\" \"Axonopus carajasensis\" \"Axonopusfastigiatus\" \"Axonopushydrolithicus\" ...\n",
      "  ..$ X5: chr [1:58] \"VU\" \"EN\" \"VU\" \"CR\" ...\n",
      " $ : tibble [49 × 5] (S3: tbl_df/tbl/data.frame)\n",
      "  ..$ X1: int [1:49] 2695 2696 2697 2698 2699 2700 2701 2702 2703 2704 ...\n",
      "  ..$ X2: chr [1:49] \"*\" \"*\" \"*\" \"*\" ...\n",
      "  ..$ X3: chr [1:49] \"Poaceae\" \"Poaceae\" \"Podocarpaceae\" \"Podocarpaceae\" ...\n",
      "  ..$ X4: chr [1:49] \"Triraphisdevia\" \"Zizaniopsisbonariensis\" \"Podocarpusbarretoi\" \"Podocarpusbrasiliensis\" ...\n",
      "  ..$ X5: chr [1:49] \"EN\" \"EN\" \"CR\" \"EN\" ...\n",
      " $ : tibble [38 × 5] (S3: tbl_df/tbl/data.frame)\n",
      "  ..$ X1: int [1:38] 2744 2745 2746 2747 2748 2749 2750 2751 2752 2753 ...\n",
      "  ..$ X2: chr [1:38] \"\" \"\" \"*\" \"\" ...\n",
      "  ..$ X3: chr [1:38] \"Primulaceae\" \"Primulaceae\" \"Proteaceae\" \"Proteaceae\" ...\n",
      "  ..$ X4: chr [1:38] \"Stylogyneleptantha\" \"Stylogynesordida\" \"Euplassacantareirae\" \"Euplassahoehnei\" ...\n",
      "  ..$ X5: chr [1:38] \"EN\" \"CR\" \"EN\" \"EN\" ...\n",
      " $ : tibble [69 × 5] (S3: tbl_df/tbl/data.frame)\n",
      "  ..$ X1: int [1:69] 2782 2783 2784 2785 2786 2787 2788 2789 2790 2791 ...\n",
      "  ..$ X2: chr [1:69] \"*\" \"\" \"*\" \"*\" ...\n",
      "  ..$ X3: chr [1:69] \"Pteridaceae\" \"Quiinaceae\" \"Rhamnaceae\" \"Rhamnaceae\" ...\n",
      "  ..$ X4: chr [1:69] \"Pteris limae\" \"Lacunariasampaioi\" \"Colletia exserta\" \"Colletiaparadoxa\" ...\n",
      "  ..$ X5: chr [1:69] \"CR\" \"EN\" \"EN\" \"EN\" ...\n",
      " $ : tibble [18 × 5] (S3: tbl_df/tbl/data.frame)\n",
      "  ..$ X1: int [1:18] 2851 2852 2853 2854 2855 2856 2857 2858 2859 2860 ...\n",
      "  ..$ X2: chr [1:18] \"\" \"\" \"*\" \"*\" ...\n",
      "  ..$ X3: chr [1:18] \"Rubiaceae\" \"Rubiaceae\" \"Rubiaceae\" \"Rubiaceae\" ...\n",
      "  ..$ X4: chr [1:18] \"Keriantheralongiflora\" \"Keriantherapreclara\" \"Manettia campanulacea\" \"Manettiapauciflora\" ...\n",
      "  ..$ X5: chr [1:18] \"VU\" \"EN\" \"CR\" \"EN\" ...\n",
      " $ : tibble [87 × 5] (S3: tbl_df/tbl/data.frame)\n",
      "  ..$ X1: int [1:87] 2869 2870 2871 2872 2873 2874 2875 2876 2877 2878 ...\n",
      "  ..$ X2: chr [1:87] \"\" \"*\" \"*\" \"*\" ...\n",
      "  ..$ X3: chr [1:87] \"Rubiaceae\" \"Rubiaceae\" \"Rubiaceae\" \"Rubiaceae\" ...\n",
      "  ..$ X4: chr [1:87] \"Psychotriaglaziovii\" \"Psychotrialoefgrenii\" \"Psychotria microcarpa\" \"Psychotriapaludosa\" ...\n",
      "  ..$ X5: chr [1:87] \"VU\" \"EN\" \"EN\" \"EN\" ...\n",
      " $ : tibble [87 × 5] (S3: tbl_df/tbl/data.frame)\n",
      "  ..$ X1: int [1:87] 2956 2957 2958 2959 2960 2961 2962 2963 2964 2965 ...\n",
      "  ..$ X2: chr [1:87] \"\" \"\" \"\" \"\" ...\n",
      "  ..$ X3: chr [1:87] \"Salicaceae\" \"Salicaceae\" \"Salicaceae\" \"Salicaceae\" ...\n",
      "  ..$ X4: chr [1:87] \"Banara trinitatis\" \"Caseariacatharinensis\" \"Caseariamurceana\" \"Xylosmaglaberrima\" ...\n",
      "  ..$ X5: chr [1:87] \"CR\" \"EN\" \"VU\" \"VU\" ...\n",
      " $ : tibble [21 × 5] (S3: tbl_df/tbl/data.frame)\n",
      "  ..$ X1: int [1:21] 3043 3044 3045 3046 3047 3048 3049 3050 3051 3052 ...\n",
      "  ..$ X2: chr [1:21] \"*\" \"*\" \"*\" \"*\" ...\n",
      "  ..$ X3: chr [1:21] \"Solanaceae\" \"Solanaceae\" \"Solanaceae\" \"Solanaceae\" ...\n",
      "  ..$ X4: chr [1:21] \"Petunia exserta\" \"Petunia mantiqueirensis\" \"Petunia reitzii\" \"Petunia saxicola\" ...\n",
      "  ..$ X5: chr [1:21] \"EN\" \"EN\" \"CR\" \"CR\" ...\n",
      " $ : tibble [66 × 5] (S3: tbl_df/tbl/data.frame)\n",
      "  ..$ X1: int [1:66] 3064 3065 3066 3067 3068 3069 3070 3071 3072 3073 ...\n",
      "  ..$ X2: chr [1:66] \"*\" \"\" \"\" \"\" ...\n",
      "  ..$ X3: chr [1:66] \"Solanaceae\" \"Styracaceae\" \"Styracaceae\" \"Symplocaceae\" ...\n",
      "  ..$ X4: chr [1:66] \"Solanumviscosissimum\" \"Styrax aureus\" \"Styraxpauciflorus\" \"Symplocosangulata\" ...\n",
      "  ..$ X5: chr [1:66] \"EN\" \"EN\" \"CR\" \"CR\" ...\n",
      " $ : tibble [41 × 5] (S3: tbl_df/tbl/data.frame)\n",
      "  ..$ X1: int [1:41] 3130 3131 3132 3133 3134 3135 3136 3137 3138 3139 ...\n",
      "  ..$ X2: chr [1:41] \"*\" \"*\" \"\" \"*\" ...\n",
      "  ..$ X3: chr [1:41] \"Velloziaceae\" \"Velloziaceae\" \"Verbenaceae\" \"Verbenaceae\" ...\n",
      "  ..$ X4: chr [1:41] \"Velloziastreptophylla\" \"Velloziasubalata\" \"Aloysia cordata\" \"Aloysiahatschbachii\" ...\n",
      "  ..$ X5: chr [1:41] \"EN\" \"EN\" \"EN\" \"EN\" ...\n",
      " $ : tibble [39 × 5] (S3: tbl_df/tbl/data.frame)\n",
      "  ..$ X1: int [1:39] 3171 3172 3173 3174 3175 3176 3177 3178 3179 3180 ...\n",
      "  ..$ X2: chr [1:39] \"\" \"\" \"\" \"*\" ...\n",
      "  ..$ X3: chr [1:39] \"Vochysiaceae\" \"Vochysiaceae\" \"Vochysiaceae\" \"Vochysiaceae\" ...\n",
      "  ..$ X4: chr [1:39] \"Vochysiagummifera\" \"Vochysiamapuerae\" \"Vochysiaoblongifolia\" \"Vochysiapygmaea\" ...\n",
      "  ..$ X5: chr [1:39] \"EN\" \"VU\" \"EN\" \"EN\" ...\n",
      " $ : tibble [64 × 6] (S3: tbl_df/tbl/data.frame)\n",
      "  ..$ X1: chr [1:64] \"ANEXO 2. LISTA NACIONAL DE ESPÉCIES DA FAUNA AMEAÇADA DE EXTINÇÃO\" \"\" \"\" \"1\" ...\n",
      "  ..$ X2: chr [1:64] \"ANEXO 2. LISTA NACIONAL DE ESPÉCIES DA FAUNA AMEAÇADA DE EXTINÇÃO\" \"#\" \"\" \"*\" ...\n",
      "  ..$ X3: chr [1:64] \"ANEXO 2. LISTA NACIONAL DE ESPÉCIES DA FAUNA AMEAÇADA DE EXTINÇÃO\" \"Ordem\" \"INVERTEBRADOS TERRESTRES\" \"Amblypygi\" ...\n",
      "  ..$ X4: chr [1:64] \"ANEXO 2. LISTA NACIONAL DE ESPÉCIES DA FAUNA AMEAÇADA DE EXTINÇÃO\" \"Família\" \"INVERTEBRADOS TERRESTRES\" \"Charinidae\" ...\n",
      "  ..$ X5: chr [1:64] \"ANEXO 2. LISTA NACIONAL DE ESPÉCIES DA FAUNA AMEAÇADA DE EXTINÇÃO\" \"Espécie ou Subespécie\" \"INVERTEBRADOS TERRESTRES\" \"Charinus acaraje\" ...\n",
      "  ..$ X6: chr [1:64] \"ANEXO 2. LISTA NACIONAL DE ESPÉCIES DA FAUNA AMEAÇADA DE EXTINÇÃO\" \"Categoria\" \"\" \"VU\" ...\n",
      " $ : tibble [16 × 6] (S3: tbl_df/tbl/data.frame)\n",
      "  ..$ X1: int [1:16] 62 63 64 65 66 67 68 69 70 71 ...\n",
      "  ..$ X2: chr [1:16] \"*\" \"*\" \"*\" \"\" ...\n",
      "  ..$ X3: chr [1:16] \"Coleoptera\" \"Coleoptera\" \"Coleoptera\" \"Coleoptera\" ...\n",
      "  ..$ X4: chr [1:16] \"Scarabaeidae\" \"Scarabaeidae\" \"Scarabaeidae\" \"Staphylinidae\" ...\n",
      "  ..$ X5: chr [1:16] \"Dichotomius mysticus\" \"Dichotomiusschiffleri\" \"Pedaridium hirsutum\" \"Metopiellus painensis\" ...\n",
      "  ..$ X6: chr [1:16] \"EN\" \"EN\" \"VU\" \"EN\" ...\n",
      " $ : tibble [81 × 6] (S3: tbl_df/tbl/data.frame)\n",
      "  ..$ X1: int [1:81] 78 79 80 81 82 83 84 85 86 87 ...\n",
      "  ..$ X2: chr [1:81] \"*\" \"\" \"\" \"\" ...\n",
      "  ..$ X3: chr [1:81] \"Collembola\" \"Diplura\" \"Entomobryomorpha\" \"Entomobryomorpha\" ...\n",
      "  ..$ X4: chr [1:81] \"Sminthuridae\" \"Campodeidae\" \"Entomobryidae\" \"Entomobryidae\" ...\n",
      "  ..$ X5: chr [1:81] \"Pararrhopalites wallacei\" \"Oncinocampa trajanoae\" \"Seira arenicola\" \"Seira mataraquensis\" ...\n",
      "  ..$ X6: chr [1:81] \"CR\" \"CR\" \"EN\" \"EN\" ...\n",
      " $ : tibble [9 × 6] (S3: tbl_df/tbl/data.frame)\n",
      "  ..$ X1: int [1:9] 159 160 161 162 163 164 165 166 167\n",
      "  ..$ X2: chr [1:9] \"*\" \"\" \"*\" \"*\" ...\n",
      "  ..$ X3: chr [1:9] \"Lepidoptera\" \"Lepidoptera\" \"Lepidoptera\" \"Lepidoptera\" ...\n",
      "  ..$ X4: chr [1:9] \"Nymphalidae\" \"Nymphalidae\" \"Nymphalidae\" \"Nymphalidae\" ...\n",
      "  ..$ X5: chr [1:9] \"Pampasatyrusglaucope boenninghauseni\" \"Pampasatyrus glaucope eberti\" \"Pampasatyrus glaucope glaucope\" \"Pampasatyrus gyrtone\" ...\n",
      "  ..$ X6: chr [1:9] \"EN\" \"VU\" \"EN\" \"EN\" ...\n",
      " $ : tibble [72 × 6] (S3: tbl_df/tbl/data.frame)\n",
      "  ..$ X1: int [1:72] 168 169 170 171 172 173 174 175 176 177 ...\n",
      "  ..$ X2: chr [1:72] \"*\" \"*\" \"\" \"*\" ...\n",
      "  ..$ X3: chr [1:72] \"Lepidoptera\" \"Lepidoptera\" \"Lepidoptera\" \"Lepidoptera\" ...\n",
      "  ..$ X4: chr [1:72] \"Nymphalidae\" \"Nymphalidae\" \"Nymphalidae\" \"Papilionidae\" ...\n",
      "  ..$ X5: chr [1:72] \"Scada karschina delicata\" \"Tithorea harmonia caissara\" \"Yphthimoidesiserhardi\" \"Heraclides himeros baia\" ...\n",
      "  ..$ X6: chr [1:72] \"CR\" \"VU\" \"EN\" \"EN\" ...\n",
      " $ : tibble [35 × 6] (S3: tbl_df/tbl/data.frame)\n",
      "  ..$ X1: int [1:35] 240 241 242 243 244 245 246 247 248 249 ...\n",
      "  ..$ X2: chr [1:35] \"*\" \"*\" \"*\" \"*\" ...\n",
      "  ..$ X3: chr [1:35] \"Pseudoscorpiones\" \"Pulmonata\" \"Pulmonata\" \"Pulmonata\" ...\n",
      "  ..$ X4: chr [1:35] \"Olpiidae\" \"Bulimulidae\" \"Lymnaeidae\" \"Odontostomidae\" ...\n",
      "  ..$ X5: chr [1:35] \"Progarypus nigrimanus\" \"Thaumastus lundi\" \"Lymnaea rupestris\" \"Macrodontesdautzenbergianus\" ...\n",
      "  ..$ X6: chr [1:35] \"CR\" \"CR\" \"VU\" \"VU\" ...\n",
      " $ : tibble [46 × 6] (S3: tbl_df/tbl/data.frame)\n",
      "  ..$ X1: int [1:46] 275 NA 276 277 278 279 280 281 282 283 ...\n",
      "  ..$ X2: chr [1:46] \"\" \"\" \"\" \"\" ...\n",
      "  ..$ X3: chr [1:46] \"Zygentoma\" \"ANFÍBIOS\" \"Anura\" \"Anura\" ...\n",
      "  ..$ X4: chr [1:46] \"Nicoletiidae\" \"ANFÍBIOS\" \"Aromobatidae\" \"Aromobatidae\" ...\n",
      "  ..$ X5: chr [1:46] \"Cubacubana spelaea\" \"ANFÍBIOS\" \"Anomaloglossus apiau\" \"Anomaloglossus tepequem\" ...\n",
      "  ..$ X6: chr [1:46] \"VU\" \"\" \"EN\" \"CR (PEX)\" ...\n",
      " $ : tibble [61 × 6] (S3: tbl_df/tbl/data.frame)\n",
      "  ..$ X1: int [1:61] 320 321 322 323 324 325 326 327 328 329 ...\n",
      "  ..$ X2: chr [1:61] \"\" \"\" \"\" \"\" ...\n",
      "  ..$ X3: chr [1:61] \"Anura\" \"Anura\" \"Anura\" \"Anura\" ...\n",
      "  ..$ X4: chr [1:61] \"Hylodidae\" \"Hylodidae\" \"Leptodactylidae\" \"Leptodactylidae\" ...\n",
      "  ..$ X5: chr [1:61] \"Hylodes mertensi\" \"Hylodes sazimai\" \"Crossodactylodesitambe\" \"Crossodactylodesizecksohni\" ...\n",
      "  ..$ X6: chr [1:61] \"CR\" \"EN\" \"CR\" \"EN\" ...\n",
      " $ : tibble [20 × 6] (S3: tbl_df/tbl/data.frame)\n",
      "  ..$ X1: int [1:20] 380 381 382 383 384 385 386 387 388 389 ...\n",
      "  ..$ X2: chr [1:20] \"*\" \"*\" \"*\" \"*\" ...\n",
      "  ..$ X3: chr [1:20] \"Squamata\" \"Squamata\" \"Squamata\" \"Squamata\" ...\n",
      "  ..$ X4: chr [1:20] \"Sphaerodactylidae\" \"Sphaerodactylidae\" \"Teiidae\" \"Teiidae\" ...\n",
      "  ..$ X5: chr [1:20] \"Coleodactylusnatalensis\" \"Gonatodes tapajonicus\" \"Ameiva parecis\" \"Ameivula nativo\" ...\n",
      "  ..$ X6: chr [1:20] \"EN\" \"EN\" \"EN\" \"EN\" ...\n",
      " $ : tibble [81 × 6] (S3: tbl_df/tbl/data.frame)\n",
      "  ..$ X1: int [1:81] 400 401 402 403 404 405 NA 406 407 408 ...\n",
      "  ..$ X2: chr [1:81] \"*\" \"*\" \"*\" \"*\" ...\n",
      "  ..$ X3: chr [1:81] \"Squamata\" \"Testudines\" \"Testudines\" \"Testudines\" ...\n",
      "  ..$ X4: chr [1:81] \"Viperidae\" \"Chelidae\" \"Cheloniidae\" \"Cheloniidae\" ...\n",
      "  ..$ X5: chr [1:81] \"Bothrops pirajai\" \"Ranacephala hogei\" \"Caretta caretta\" \"Eretmochelysimbricata\" ...\n",
      "  ..$ X6: chr [1:81] \"EN\" \"VU\" \"VU\" \"EN\" ...\n",
      " $ : tibble [5 × 6] (S3: tbl_df/tbl/data.frame)\n",
      "  ..$ X1: int [1:5] 480 481 482 483 484\n",
      "  ..$ X2: chr [1:5] \"*\" \"*\" \"*\" \"*\" ...\n",
      "  ..$ X3: chr [1:5] \"Passeriformes\" \"Passeriformes\" \"Passeriformes\" \"Passeriformes\" ...\n",
      "  ..$ X4: chr [1:5] \"Dendrocolaptidae\" \"Dendrocolaptidae\" \"Dendrocolaptidae\" \"Dendrocolaptidae\" ...\n",
      "  ..$ X5: chr [1:5] \"Dendrocolaptes medius\" \"Dendrocolaptes retentus\" \"Dendrocolaptes transfasciatus\" \"Hylexetastesbrigidai\" ...\n",
      "  ..$ X6: chr [1:5] \"VU\" \"VU\" \"VU\" \"VU\" ...\n",
      " $ : tibble [76 × 6] (S3: tbl_df/tbl/data.frame)\n",
      "  ..$ X1: int [1:76] 485 486 487 488 489 490 491 492 493 494 ...\n",
      "  ..$ X2: chr [1:76] \"*\" \"*\" \"*\" \"*\" ...\n",
      "  ..$ X3: chr [1:76] \"Passeriformes\" \"Passeriformes\" \"Passeriformes\" \"Passeriformes\" ...\n",
      "  ..$ X4: chr [1:76] \"Dendrocolaptidae\" \"Dendrocolaptidae\" \"Dendrocolaptidae\" \"Dendrocolaptidae\" ...\n",
      "  ..$ X5: chr [1:76] \"Xiphocolaptes carajaensis\" \"Xiphocolaptesfalcirostris\" \"Xiphorhynchusatlanticus\" \"Xiphorhynchusguttatoidesgracilirostris\" ...\n",
      "  ..$ X6: chr [1:76] \"VU\" \"VU\" \"VU\" \"EN\" ...\n",
      " $ : tibble [31 × 6] (S3: tbl_df/tbl/data.frame)\n",
      "  ..$ X1: int [1:31] 561 562 563 564 565 566 567 568 569 570 ...\n",
      "  ..$ X2: chr [1:31] \"*\" \"*\" \"*\" \"\" ...\n",
      "  ..$ X3: chr [1:31] \"Passeriformes\" \"Passeriformes\" \"Passeriformes\" \"Passeriformes\" ...\n",
      "  ..$ X4: chr [1:31] \"Thamnophilidae\" \"Thamnophilidae\" \"Thamnophilidae\" \"Thamnophilidae\" ...\n",
      "  ..$ X5: chr [1:31] \"Pyriglena atra\" \"Pyriglena pernambucensis\" \"Rhegmatorhina gymnops\" \"Rhegmatorhina hoffmannsi\" ...\n",
      "  ..$ X6: chr [1:31] \"EN\" \"VU\" \"VU\" \"VU\" ...\n",
      " $ : tibble [50 × 6] (S3: tbl_df/tbl/data.frame)\n",
      "  ..$ X1: int [1:50] 592 593 594 595 596 597 598 599 600 601 ...\n",
      "  ..$ X2: chr [1:50] \"\" \"*\" \"\" \"*\" ...\n",
      "  ..$ X3: chr [1:50] \"Passeriformes\" \"Passeriformes\" \"Passeriformes\" \"Passeriformes\" ...\n",
      "  ..$ X4: chr [1:50] \"Tityridae\" \"Tityridae\" \"Troglodytidae\" \"Turdidae\" ...\n",
      "  ..$ X5: chr [1:50] \"Laniisoma elegans\" \"Schiffornis turdina intermedia\" \"Cyphorhinusgriseolateralis\" \"Cichlopsisleucogenys\" ...\n",
      "  ..$ X6: chr [1:50] \"EN\" \"VU\" \"VU\" \"EN\" ...\n",
      " $ : tibble [57 × 6] (S3: tbl_df/tbl/data.frame)\n",
      "  ..$ X1: int [1:57] 642 643 644 645 646 647 648 649 650 651 ...\n",
      "  ..$ X2: chr [1:57] \"\" \"*\" \"*\" \"*\" ...\n",
      "  ..$ X3: chr [1:57] \"Psittaciformes\" \"Psittaciformes\" \"Psittaciformes\" \"Psittaciformes\" ...\n",
      "  ..$ X4: chr [1:57] \"Psittacidae\" \"Psittacidae\" \"Psittacidae\" \"Psittacidae\" ...\n",
      "  ..$ X5: chr [1:57] \"Pyrrhura anerythra\" \"Pyrrhura coerulescens\" \"Pyrrhura cruentata\" \"Pyrrhura griseipectus\" ...\n",
      "  ..$ X6: chr [1:57] \"VU\" \"VU\" \"VU\" \"EN\" ...\n",
      " $ : tibble [18 × 6] (S3: tbl_df/tbl/data.frame)\n",
      "  ..$ X1: int [1:18] 698 699 700 701 702 703 704 705 706 707 ...\n",
      "  ..$ X2: chr [1:18] \"*\" \"*\" \"*\" \"*\" ...\n",
      "  ..$ X3: chr [1:18] \"Primates\" \"Primates\" \"Primates\" \"Primates\" ...\n",
      "  ..$ X4: chr [1:18] \"Atelidae\" \"Atelidae\" \"Atelidae\" \"Callitrichidae\" ...\n",
      "  ..$ X5: chr [1:18] \"Lagothrix lagothricha cana\" \"Lagothrixlagothrichalagothricha\" \"Lagothrixlagothricha poeppigii\" \"Callithrix aurita\" ...\n",
      "  ..$ X6: chr [1:18] \"EN\" \"VU\" \"VU\" \"EN\" ...\n",
      " $ : tibble [49 × 6] (S3: tbl_df/tbl/data.frame)\n",
      "  ..$ X1: int [1:49] 716 717 718 719 720 721 722 723 724 725 ...\n",
      "  ..$ X2: chr [1:49] \"*\" \"*\" \"*\" \"*\" ...\n",
      "  ..$ X3: chr [1:49] \"Primates\" \"Primates\" \"Primates\" \"Primates\" ...\n",
      "  ..$ X4: chr [1:49] \"Pitheciidae\" \"Pitheciidae\" \"Pitheciidae\" \"Pitheciidae\" ...\n",
      "  ..$ X5: chr [1:49] \"Cacajao hosomi\" \"Callicebusbarbarabrownae\" \"Callicebus coimbrai\" \"Callicebus melanochir\" ...\n",
      "  ..$ X6: chr [1:49] \"EN\" \"CR\" \"EN\" \"VU\" ...\n",
      " $ : tibble [35 × 6] (S3: tbl_df/tbl/data.frame)\n",
      "  ..$ X1: chr [1:35] \"ANEXO 3. LISTA NACIONAL DE ESPÉCIES DA FAUNA AQUÁTICA AMEAÇADA DE EXTINÇÃO\" \"\" \"\" \"1\" ...\n",
      "  ..$ X2: chr [1:35] \"ANEXO 3. LISTA NACIONAL DE ESPÉCIES DA FAUNA AQUÁTICA AMEAÇADA DE EXTINÇÃO\" \"#\" \"\" \"\" ...\n",
      "  ..$ X3: chr [1:35] \"ANEXO 3. LISTA NACIONAL DE ESPÉCIES DA FAUNA AQUÁTICA AMEAÇADA DE EXTINÇÃO\" \"Ordem\" \"INVERTEBRADOS AQUÁTICOS\" \"Amphipoda\" ...\n",
      "  ..$ X4: chr [1:35] \"ANEXO 3. LISTA NACIONAL DE ESPÉCIES DA FAUNA AQUÁTICA AMEAÇADA DE EXTINÇÃO\" \"Família\" \"INVERTEBRADOS AQUÁTICOS\" \"Artesiidae\" ...\n",
      "  ..$ X5: chr [1:35] \"ANEXO 3. LISTA NACIONAL DE ESPÉCIES DA FAUNA AQUÁTICA AMEAÇADA DE EXTINÇÃO\" \"Espécie ou Subespécie\" \"INVERTEBRADOS AQUÁTICOS\" \"Spelaeogammarusbahiensis\" ...\n",
      "  ..$ X6: chr [1:35] \"ANEXO 3. LISTA NACIONAL DE ESPÉCIES DA FAUNA AQUÁTICA AMEAÇADA DE EXTINÇÃO\" \"Categoria\" \"\" \"VU\" ...\n",
      " $ : tibble [44 × 6] (S3: tbl_df/tbl/data.frame)\n",
      "  ..$ X1: int [1:44] 33 34 35 36 37 38 39 40 41 42 ...\n",
      "  ..$ X2: chr [1:44] \"*\" \"*\" \"\" \"*\" ...\n",
      "  ..$ X3: chr [1:44] \"Decapoda\" \"Ephemeroptera\" \"Ephemeroptera\" \"Ephemeroptera\" ...\n",
      "  ..$ X4: chr [1:44] \"Aeglidae\" \"Baetidae\" \"Baetidae\" \"Baetidae\" ...\n",
      "  ..$ X5: chr [1:44] \"Aegla violacea\" \"Adebrotus lugoi\" \"Camelobaetidiusjuparana\" \"Camelobaetidius maranhensis\" ...\n",
      "  ..$ X6: chr [1:44] \"EN\" \"VU\" \"VU\" \"VU\" ...\n",
      " $ : tibble [63 × 6] (S3: tbl_df/tbl/data.frame)\n",
      "  ..$ X1: int [1:63] 77 78 79 80 81 82 83 84 85 86 ...\n",
      "  ..$ X2: chr [1:63] \"*\" \"*\" \"*\" \"*\" ...\n",
      "  ..$ X3: chr [1:63] \"Decapoda\" \"Enteropneusta\" \"Eunicida\" \"Eunicida\" ...\n",
      "  ..$ X4: chr [1:63] \"Gecarcinidae\" \"Spengelidae\" \"Eunicidae\" \"Onuphidae\" ...\n",
      "  ..$ X5: chr [1:63] \"Johngarthia lagostoma\" \"Willeya loya\" \"Eunice sebastiani\" \"Diopatra cuprea\" ...\n",
      "  ..$ X6: chr [1:63] \"EN\" \"CR\" \"EN\" \"VU\" ...\n",
      " $ : tibble [17 × 6] (S3: tbl_df/tbl/data.frame)\n",
      "  ..$ X1: int [1:17] 139 140 141 142 143 144 145 146 147 148 ...\n",
      "  ..$ X2: chr [1:17] \"\" \"*\" \"*\" \"*\" ...\n",
      "  ..$ X3: chr [1:17] \"Characiformes\" \"Characiformes\" \"Characiformes\" \"Characiformes\" ...\n",
      "  ..$ X4: chr [1:17] \"Characidae\" \"Characidae\" \"Characidae\" \"Characidae\" ...\n",
      "  ..$ X5: chr [1:17] \"Hasemania uberaba\" \"Henochilus wheatlandii\" \"Hollandichthys taramandahy\" \"Hyphessobryconduragenys\" ...\n",
      "  ..$ X6: chr [1:17] \"EN\" \"CR\" \"EN\" \"EN\" ...\n",
      " $ : tibble [80 × 6] (S3: tbl_df/tbl/data.frame)\n",
      "  ..$ X1: int [1:80] 156 157 158 159 160 161 162 163 164 165 ...\n",
      "  ..$ X2: chr [1:80] \"*\" \"*\" \"*\" \"*\" ...\n",
      "  ..$ X3: chr [1:80] \"Characiformes\" \"Characiformes\" \"Characiformes\" \"Characiformes\" ...\n",
      "  ..$ X4: chr [1:80] \"Characidae\" \"Crenuchidae\" \"Crenuchidae\" \"Crenuchidae\" ...\n",
      "  ..$ X5: chr [1:80] \"Stygichthys typhlops\" \"Characidiumgrajahuensis\" \"Characidium vestigipinne\" \"Melanocharacidium nigrum\" ...\n",
      "  ..$ X6: chr [1:80] \"EN\" \"CR\" \"CR\" \"EN\" ...\n",
      " $ : tibble [9 × 6] (S3: tbl_df/tbl/data.frame)\n",
      "  ..$ X1: int [1:9] 236 237 238 239 240 241 242 243 244\n",
      "  ..$ X2: chr [1:9] \"*\" \"*\" \"*\" \"*\" ...\n",
      "  ..$ X3: chr [1:9] \"Cyprinodontiformes\" \"Cyprinodontiformes\" \"Cyprinodontiformes\" \"Cyprinodontiformes\" ...\n",
      "  ..$ X4: chr [1:9] \"Rivulidae\" \"Rivulidae\" \"Rivulidae\" \"Rivulidae\" ...\n",
      "  ..$ X5: chr [1:9] \"Hypsolebiasjanaubensis\" \"Hypsolebiaslongignatus\" \"Hypsolebias lopesi\" \"Hypsolebias macaubensis\" ...\n",
      "  ..$ X6: chr [1:9] \"CR\" \"VU\" \"CR\" \"EN\" ...\n",
      " $ : tibble [71 × 6] (S3: tbl_df/tbl/data.frame)\n",
      "  ..$ X1: int [1:71] 245 246 247 248 249 250 251 252 253 254 ...\n",
      "  ..$ X2: chr [1:71] \"*\" \"\" \"*\" \"\" ...\n",
      "  ..$ X3: chr [1:71] \"Cyprinodontiformes\" \"Cyprinodontiformes\" \"Cyprinodontiformes\" \"Cyprinodontiformes\" ...\n",
      "  ..$ X4: chr [1:71] \"Rivulidae\" \"Rivulidae\" \"Rivulidae\" \"Rivulidae\" ...\n",
      "  ..$ X5: chr [1:71] \"Hypsolebias notatus\" \"Hypsolebiasnudiorbitatus\" \"Hypsolebiaspicturatus\" \"Hypsolebias radiseriatus\" ...\n",
      "  ..$ X6: chr [1:71] \"EN\" \"VU\" \"EN\" \"EN\" ...\n",
      " $ : tibble [36 × 6] (S3: tbl_df/tbl/data.frame)\n",
      "  ..$ X1: int [1:36] 316 317 318 319 320 321 322 323 324 325 ...\n",
      "  ..$ X2: chr [1:36] \"*\" \"*\" \"*\" \"*\" ...\n",
      "  ..$ X3: chr [1:36] \"Gymnotiformes\" \"Gymnotiformes\" \"Gymnotiformes\" \"Gymnotiformes\" ...\n",
      "  ..$ X4: chr [1:36] \"Apteronotidae\" \"Apteronotidae\" \"Apteronotidae\" \"Apteronotidae\" ...\n",
      "  ..$ X5: chr [1:36] \"Sternarchorhynchusmareikeae\" \"Sternarchorhynchusseverii\" \"Sternarchorhynchusvillasboasi\" \"Tembeassu marauna\" ...\n",
      "  ..$ X6: chr [1:36] \"VU\" \"VU\" \"EN\" \"CR\" ...\n",
      " $ : tibble [44 × 6] (S3: tbl_df/tbl/data.frame)\n",
      "  ..$ X1: int [1:44] 352 353 354 355 356 357 358 359 360 361 ...\n",
      "  ..$ X2: chr [1:44] \"*\" \"*\" \"*\" \"*\" ...\n",
      "  ..$ X3: chr [1:44] \"Perciformes\" \"Perciformes\" \"Perciformes\" \"Perciformes\" ...\n",
      "  ..$ X4: chr [1:44] \"Labridae\" \"Labrisomidae\" \"Lutjanidae\" \"Lutjanidae\" ...\n",
      "  ..$ X5: chr [1:44] \"Halichoeres rubrovirens\" \"Malacoctenus brunoi\" \"Lutjanus cyanopterus\" \"Lutjanus purpureus\" ...\n",
      "  ..$ X6: chr [1:44] \"VU\" \"VU\" \"VU\" \"VU\" ...\n",
      " $ : tibble [63 × 6] (S3: tbl_df/tbl/data.frame)\n",
      "  ..$ X1: int [1:63] 396 397 398 399 400 401 402 403 404 405 ...\n",
      "  ..$ X2: chr [1:63] \"*\" \"*\" \"*\" \"\" ...\n",
      "  ..$ X3: chr [1:63] \"Rajiformes\" \"Rajiformes\" \"Rajiformes\" \"Rajiformes\" ...\n",
      "  ..$ X4: chr [1:63] \"Rajidae\" \"Rajidae\" \"Rhinobatidae\" \"Rhinobatidae\" ...\n",
      "  ..$ X5: chr [1:63] \"Sympterygia acuta\" \"Sympterygiabonapartii\" \"Pseudobatos horkelii\" \"Pseudobatos percellens\" ...\n",
      "  ..$ X6: chr [1:63] \"EN\" \"EN\" \"CR\" \"VU\" ...\n",
      " $ : tibble [17 × 6] (S3: tbl_df/tbl/data.frame)\n",
      "  ..$ X1: int [1:17] 459 460 461 462 463 464 465 466 467 468 ...\n",
      "  ..$ X2: chr [1:17] \"*\" \"\" \"*\" \"*\" ...\n",
      "  ..$ X3: chr [1:17] \"Siluriformes\" \"Siluriformes\" \"Siluriformes\" \"Siluriformes\" ...\n",
      "  ..$ X4: chr [1:17] \"Pseudopimelodidae\" \"Pseudopimelodidae\" \"Pseudopimelodidae\" \"Trichomycteridae\" ...\n",
      "  ..$ X5: chr [1:17] \"Lophiosilurusalexandri\" \"Microglanis maculatus\" \"Microglanis robustus\" \"Cambeva crassicaudata\" ...\n",
      "  ..$ X6: chr [1:17] \"VU\" \"CR\" \"CR\" \"EN\" ...\n",
      " $ : tibble [15 × 6] (S3: tbl_df/tbl/data.frame)\n",
      "  ..$ X1: int [1:15] 476 477 478 479 480 481 482 483 484 485 ...\n",
      "  ..$ X2: chr [1:15] \"*\" \"*\" \"*\" \"*\" ...\n",
      "  ..$ X3: chr [1:15] \"Siluriformes\" \"Siluriformes\" \"Siluriformes\" \"Siluriformes\" ...\n",
      "  ..$ X4: chr [1:15] \"Trichomycteridae\" \"Trichomycteridae\" \"Trichomycteridae\" \"Trichomycteridae\" ...\n",
      "  ..$ X5: chr [1:15] \"Listrura camposi\" \"Listruranematopteryx\" \"Microcambeva draco\" \"Trichogenes claviger\" ...\n",
      "  ..$ X6: chr [1:15] \"CR\" \"CR\" \"EN\" \"CR\" ...\n",
      " $ : tibble [14 × 6] (S3: tbl_df/tbl/data.frame)\n",
      "  ..$ X1: chr [1:14] \"ANEXO 4. LISTA DE ESPÉCIES EXTINTAS NO BRASIL\" \"\" \"\" \"1\" ...\n",
      "  ..$ X2: chr [1:14] \"ANEXO 4. LISTA DE ESPÉCIES EXTINTAS NO BRASIL\" \"#\" \"\" \"\" ...\n",
      "  ..$ X3: chr [1:14] \"ANEXO 4. LISTA DE ESPÉCIES EXTINTAS NO BRASIL\" \"Ordem\" \"ANFÍBIOS\" \"Anura\" ...\n",
      "  ..$ X4: chr [1:14] \"ANEXO 4. LISTA DE ESPÉCIES EXTINTAS NO BRASIL\" \"Família\" \"ANFÍBIOS\" \"Hylidae\" ...\n",
      "  ..$ X5: chr [1:14] \"ANEXO 4. LISTA DE ESPÉCIES EXTINTAS NO BRASIL\" \"Espécie ou Subespécie\" \"ANFÍBIOS\" \"Boana cymbalum\" ...\n",
      "  ..$ X6: chr [1:14] \"ANEXO 4. LISTA DE ESPÉCIES EXTINTAS NO BRASIL\" \"Categoria\" \"\" \"EX\" ...\n",
      " $ : tibble [2 × 2] (S3: tbl_df/tbl/data.frame)\n",
      "  ..$ X1: chr [1:2] \"Páginas vistas\" \"Visitantes únicos\"\n",
      "  ..$ X2: chr [1:2] \"9.228.149 dez 2022\" \"1.070.871 dez 2022\"\n"
     ]
    }
   ],
   "source": [
    "glimpse(tab_lst)"
   ]
  },
  {
   "cell_type": "code",
   "execution_count": 6,
   "id": "e4f57552",
   "metadata": {},
   "outputs": [
    {
     "data": {
      "text/html": [
       "96"
      ],
      "text/latex": [
       "96"
      ],
      "text/markdown": [
       "96"
      ],
      "text/plain": [
       "[1] 96"
      ]
     },
     "metadata": {},
     "output_type": "display_data"
    }
   ],
   "source": [
    "length(tab_lst)"
   ]
  },
  {
   "cell_type": "code",
   "execution_count": 87,
   "id": "69a896c7",
   "metadata": {},
   "outputs": [
    {
     "data": {
      "text/html": [
       "<table class=\"dataframe\">\n",
       "<caption>A tibble: 10 × 5</caption>\n",
       "<thead>\n",
       "\t<tr><th scope=col>n</th><th scope=col>port443</th><th scope=col>familia</th><th scope=col>especie_subespecie_var</th><th scope=col>categoria</th></tr>\n",
       "\t<tr><th scope=col>&lt;int&gt;</th><th scope=col>&lt;chr&gt;</th><th scope=col>&lt;chr&gt;</th><th scope=col>&lt;chr&gt;</th><th scope=col>&lt;chr&gt;</th></tr>\n",
       "</thead>\n",
       "<tbody>\n",
       "\t<tr><td>3200</td><td>*</td><td>Xyridaceae   </td><td>Xyris retrorsifimbriata</td><td>CR</td></tr>\n",
       "\t<tr><td>3201</td><td>*</td><td>Xyridaceae   </td><td>Xyris rigida           </td><td>CR</td></tr>\n",
       "\t<tr><td>3202</td><td>*</td><td>Xyridaceae   </td><td>Xyrissincorana         </td><td>EN</td></tr>\n",
       "\t<tr><td>3203</td><td>*</td><td>Xyridaceae   </td><td>Xyris sororia          </td><td>CR</td></tr>\n",
       "\t<tr><td>3204</td><td>*</td><td>Xyridaceae   </td><td>Xyrisstenophylla       </td><td>VU</td></tr>\n",
       "\t<tr><td>3205</td><td>*</td><td>Xyridaceae   </td><td>Xyris tortilis         </td><td>CR</td></tr>\n",
       "\t<tr><td>3206</td><td>*</td><td>Xyridaceae   </td><td>Xyrisuninervis         </td><td>CR</td></tr>\n",
       "\t<tr><td>3207</td><td>*</td><td>Xyridaceae   </td><td>Xyris vacillans        </td><td>EN</td></tr>\n",
       "\t<tr><td>3208</td><td>*</td><td>Xyridaceae   </td><td>Xyris wawrae           </td><td>EN</td></tr>\n",
       "\t<tr><td>3209</td><td>*</td><td>Zingiberaceae</td><td>Renealmiabrasiliensis  </td><td>EN</td></tr>\n",
       "</tbody>\n",
       "</table>\n"
      ],
      "text/latex": [
       "A tibble: 10 × 5\n",
       "\\begin{tabular}{lllll}\n",
       " n & port443 & familia & especie\\_subespecie\\_var & categoria\\\\\n",
       " <int> & <chr> & <chr> & <chr> & <chr>\\\\\n",
       "\\hline\n",
       "\t 3200 & * & Xyridaceae    & Xyris retrorsifimbriata & CR\\\\\n",
       "\t 3201 & * & Xyridaceae    & Xyris rigida            & CR\\\\\n",
       "\t 3202 & * & Xyridaceae    & Xyrissincorana          & EN\\\\\n",
       "\t 3203 & * & Xyridaceae    & Xyris sororia           & CR\\\\\n",
       "\t 3204 & * & Xyridaceae    & Xyrisstenophylla        & VU\\\\\n",
       "\t 3205 & * & Xyridaceae    & Xyris tortilis          & CR\\\\\n",
       "\t 3206 & * & Xyridaceae    & Xyrisuninervis          & CR\\\\\n",
       "\t 3207 & * & Xyridaceae    & Xyris vacillans         & EN\\\\\n",
       "\t 3208 & * & Xyridaceae    & Xyris wawrae            & EN\\\\\n",
       "\t 3209 & * & Zingiberaceae & Renealmiabrasiliensis   & EN\\\\\n",
       "\\end{tabular}\n"
      ],
      "text/markdown": [
       "\n",
       "A tibble: 10 × 5\n",
       "\n",
       "| n &lt;int&gt; | port443 &lt;chr&gt; | familia &lt;chr&gt; | especie_subespecie_var &lt;chr&gt; | categoria &lt;chr&gt; |\n",
       "|---|---|---|---|---|\n",
       "| 3200 | * | Xyridaceae    | Xyris retrorsifimbriata | CR |\n",
       "| 3201 | * | Xyridaceae    | Xyris rigida            | CR |\n",
       "| 3202 | * | Xyridaceae    | Xyrissincorana          | EN |\n",
       "| 3203 | * | Xyridaceae    | Xyris sororia           | CR |\n",
       "| 3204 | * | Xyridaceae    | Xyrisstenophylla        | VU |\n",
       "| 3205 | * | Xyridaceae    | Xyris tortilis          | CR |\n",
       "| 3206 | * | Xyridaceae    | Xyrisuninervis          | CR |\n",
       "| 3207 | * | Xyridaceae    | Xyris vacillans         | EN |\n",
       "| 3208 | * | Xyridaceae    | Xyris wawrae            | EN |\n",
       "| 3209 | * | Zingiberaceae | Renealmiabrasiliensis   | EN |\n",
       "\n"
      ],
      "text/plain": [
       "   n    port443 familia       especie_subespecie_var  categoria\n",
       "1  3200 *       Xyridaceae    Xyris retrorsifimbriata CR       \n",
       "2  3201 *       Xyridaceae    Xyris rigida            CR       \n",
       "3  3202 *       Xyridaceae    Xyrissincorana          EN       \n",
       "4  3203 *       Xyridaceae    Xyris sororia           CR       \n",
       "5  3204 *       Xyridaceae    Xyrisstenophylla        VU       \n",
       "6  3205 *       Xyridaceae    Xyris tortilis          CR       \n",
       "7  3206 *       Xyridaceae    Xyrisuninervis          CR       \n",
       "8  3207 *       Xyridaceae    Xyris vacillans         EN       \n",
       "9  3208 *       Xyridaceae    Xyris wawrae            EN       \n",
       "10 3209 *       Zingiberaceae Renealmiabrasiliensis   EN       "
      ]
     },
     "metadata": {},
     "output_type": "display_data"
    }
   ],
   "source": [
    "# FLORA - lists 1-65\n",
    "tail(tab_lst[[65]], 10)"
   ]
  },
  {
   "cell_type": "code",
   "execution_count": 85,
   "id": "edb47613",
   "metadata": {},
   "outputs": [
    {
     "data": {
      "text/html": [
       "<table class=\"dataframe\">\n",
       "<caption>A tibble: 6 × 6</caption>\n",
       "<thead>\n",
       "\t<tr><th scope=col>n</th><th scope=col>port443</th><th scope=col>ordem</th><th scope=col>familia</th><th scope=col>especie_subespecie</th><th scope=col>categoria</th></tr>\n",
       "\t<tr><th scope=col>&lt;chr&gt;</th><th scope=col>&lt;chr&gt;</th><th scope=col>&lt;chr&gt;</th><th scope=col>&lt;chr&gt;</th><th scope=col>&lt;chr&gt;</th><th scope=col>&lt;chr&gt;</th></tr>\n",
       "</thead>\n",
       "<tbody>\n",
       "\t<tr><td>5</td><td>*</td><td>Passeriformes </td><td>Furnariidae</td><td>Philydor novaesi     </td><td>EX</td></tr>\n",
       "\t<tr><td>6</td><td>*</td><td>Passeriformes </td><td>Icteridae  </td><td>Leistes defilippii   </td><td>RE</td></tr>\n",
       "\t<tr><td>7</td><td>*</td><td>Psittaciformes</td><td>Psittacidae</td><td>Anodorhynchus glaucus</td><td>RE</td></tr>\n",
       "\t<tr><td>8</td><td>*</td><td>Strigiformes  </td><td>Strigidae  </td><td>Glaucidium mooreorum </td><td>EX</td></tr>\n",
       "\t<tr><td> </td><td> </td><td>MAMÍFEROS     </td><td>MAMÍFEROS  </td><td>MAMÍFEROS            </td><td>  </td></tr>\n",
       "\t<tr><td>9</td><td>*</td><td>Rodentia      </td><td>Cricetidae </td><td>Noronhomys vespuccii </td><td>EX</td></tr>\n",
       "</tbody>\n",
       "</table>\n"
      ],
      "text/latex": [
       "A tibble: 6 × 6\n",
       "\\begin{tabular}{llllll}\n",
       " n & port443 & ordem & familia & especie\\_subespecie & categoria\\\\\n",
       " <chr> & <chr> & <chr> & <chr> & <chr> & <chr>\\\\\n",
       "\\hline\n",
       "\t 5 & * & Passeriformes  & Furnariidae & Philydor novaesi      & EX\\\\\n",
       "\t 6 & * & Passeriformes  & Icteridae   & Leistes defilippii    & RE\\\\\n",
       "\t 7 & * & Psittaciformes & Psittacidae & Anodorhynchus glaucus & RE\\\\\n",
       "\t 8 & * & Strigiformes   & Strigidae   & Glaucidium mooreorum  & EX\\\\\n",
       "\t   &   & MAMÍFEROS      & MAMÍFEROS   & MAMÍFEROS             &   \\\\\n",
       "\t 9 & * & Rodentia       & Cricetidae  & Noronhomys vespuccii  & EX\\\\\n",
       "\\end{tabular}\n"
      ],
      "text/markdown": [
       "\n",
       "A tibble: 6 × 6\n",
       "\n",
       "| n &lt;chr&gt; | port443 &lt;chr&gt; | ordem &lt;chr&gt; | familia &lt;chr&gt; | especie_subespecie &lt;chr&gt; | categoria &lt;chr&gt; |\n",
       "|---|---|---|---|---|---|\n",
       "| 5 | * | Passeriformes  | Furnariidae | Philydor novaesi      | EX |\n",
       "| 6 | * | Passeriformes  | Icteridae   | Leistes defilippii    | RE |\n",
       "| 7 | * | Psittaciformes | Psittacidae | Anodorhynchus glaucus | RE |\n",
       "| 8 | * | Strigiformes   | Strigidae   | Glaucidium mooreorum  | EX |\n",
       "| <!----> | <!----> | MAMÍFEROS      | MAMÍFEROS   | MAMÍFEROS             | <!----> |\n",
       "| 9 | * | Rodentia       | Cricetidae  | Noronhomys vespuccii  | EX |\n",
       "\n"
      ],
      "text/plain": [
       "  n port443 ordem          familia     especie_subespecie    categoria\n",
       "1 5 *       Passeriformes  Furnariidae Philydor novaesi      EX       \n",
       "2 6 *       Passeriformes  Icteridae   Leistes defilippii    RE       \n",
       "3 7 *       Psittaciformes Psittacidae Anodorhynchus glaucus RE       \n",
       "4 8 *       Strigiformes   Strigidae   Glaucidium mooreorum  EX       \n",
       "5           MAMÍFEROS      MAMÍFEROS   MAMÍFEROS                      \n",
       "6 9 *       Rodentia       Cricetidae  Noronhomys vespuccii  EX       "
      ]
     },
     "metadata": {},
     "output_type": "display_data"
    }
   ],
   "source": [
    "# Fauna - lists 66-95\n",
    "tail(tab_lst[[95]])"
   ]
  },
  {
   "cell_type": "markdown",
   "id": "edbc99c4",
   "metadata": {},
   "source": [
    "<p style=\"text-align=justify\">Ao inspercionar os dados podemos verificar que temos uma lista composta por 96 <i>dataframes</i>, sendo que o último é um dado que não faz parte das tabelas da fauna e flora, o que deveremos excluí-lo da lista.</p>\n",
    "<p style=\"text-align=justify\">Também é possível verificar que os elementos da lista de 1 a 65 são referentes as tabelas da flora, o restante refere-se as espécies da fauna. Os dataframes de flora possuem 5 colunas, enquato que os da fauna 6</p>"
   ]
  },
  {
   "cell_type": "code",
   "execution_count": 9,
   "id": "3909410d",
   "metadata": {},
   "outputs": [],
   "source": [
    "# Remove undesirable data\n",
    "tab_lst[[96]] <- NULL"
   ]
  },
  {
   "cell_type": "markdown",
   "id": "3adeb778",
   "metadata": {},
   "source": [
    "### 5. Limpeza de dados\n",
    "<p style=\"text-alig:justify\">Precisamos redefinir os nomes das colunas para os dados de fauna e flora, pois possuem número de colunas diferentes, o que permitira unir todos em um único <i>dataframe</i></p>"
   ]
  },
  {
   "cell_type": "code",
   "execution_count": 10,
   "id": "f9a43506",
   "metadata": {},
   "outputs": [
    {
     "data": {
      "text/html": [
       "<style>\n",
       ".list-inline {list-style: none; margin:0; padding: 0}\n",
       ".list-inline>li {display: inline-block}\n",
       ".list-inline>li:not(:last-child)::after {content: \"\\00b7\"; padding: 0 .5ex}\n",
       "</style>\n",
       "<ol class=list-inline><li>'n'</li><li>'port443'</li><li>'familia'</li><li>'especie_subespecie_var'</li><li>'categoria'</li></ol>\n"
      ],
      "text/latex": [
       "\\begin{enumerate*}\n",
       "\\item 'n'\n",
       "\\item 'port443'\n",
       "\\item 'familia'\n",
       "\\item 'especie\\_subespecie\\_var'\n",
       "\\item 'categoria'\n",
       "\\end{enumerate*}\n"
      ],
      "text/markdown": [
       "1. 'n'\n",
       "2. 'port443'\n",
       "3. 'familia'\n",
       "4. 'especie_subespecie_var'\n",
       "5. 'categoria'\n",
       "\n",
       "\n"
      ],
      "text/plain": [
       "[1] \"n\"                      \"port443\"                \"familia\"               \n",
       "[4] \"especie_subespecie_var\" \"categoria\"             "
      ]
     },
     "metadata": {},
     "output_type": "display_data"
    },
    {
     "data": {
      "text/html": [
       "<style>\n",
       ".list-inline {list-style: none; margin:0; padding: 0}\n",
       ".list-inline>li {display: inline-block}\n",
       ".list-inline>li:not(:last-child)::after {content: \"\\00b7\"; padding: 0 .5ex}\n",
       "</style>\n",
       "<ol class=list-inline><li>'n'</li><li>'port443'</li><li>'ordem'</li><li>'familia'</li><li>'especie_subespecie'</li><li>'categoria'</li></ol>\n"
      ],
      "text/latex": [
       "\\begin{enumerate*}\n",
       "\\item 'n'\n",
       "\\item 'port443'\n",
       "\\item 'ordem'\n",
       "\\item 'familia'\n",
       "\\item 'especie\\_subespecie'\n",
       "\\item 'categoria'\n",
       "\\end{enumerate*}\n"
      ],
      "text/markdown": [
       "1. 'n'\n",
       "2. 'port443'\n",
       "3. 'ordem'\n",
       "4. 'familia'\n",
       "5. 'especie_subespecie'\n",
       "6. 'categoria'\n",
       "\n",
       "\n"
      ],
      "text/plain": [
       "[1] \"n\"                  \"port443\"            \"ordem\"             \n",
       "[4] \"familia\"            \"especie_subespecie\" \"categoria\"         "
      ]
     },
     "metadata": {},
     "output_type": "display_data"
    }
   ],
   "source": [
    "# Set column names for each dataframe in a list\n",
    "for (i in 1:length(tab_lst)) {\n",
    "    if (length(unlist(attributes(tab_lst[[i]])[2])) == 5) {\n",
    "        names(tab_lst[[i]]) <- c('n', 'port443', 'familia',\n",
    "                                 'especie_subespecie_var', \n",
    "                                 'categoria')\n",
    "    }\n",
    "    else {\n",
    "        if (length(unlist(attributes(tab_lst[[i]])[2])) == 6) {\n",
    "            names(tab_lst[[i]]) <- c('n', 'port443', 'ordem',\n",
    "                                   'familia', 'especie_subespecie', \n",
    "                                   'categoria')\n",
    "        }\n",
    "    }\n",
    "}\n",
    "\n",
    "# Check attributes       \n",
    "names(tab_lst[[1]])  # flora\n",
    "names(tab_lst[[94]]) # fauna"
   ]
  },
  {
   "cell_type": "markdown",
   "id": "31d1a958",
   "metadata": {},
   "source": [
    "### 5.1 Extrair apenas os dados referentes à flora e salvá-los em planilha csv"
   ]
  },
  {
   "cell_type": "code",
   "execution_count": 11,
   "id": "10d73862",
   "metadata": {},
   "outputs": [],
   "source": [
    "# Subset the flora dataframes in the list\n",
    "df_list <- tab_lst[1:65]\n",
    "\n",
    "# Loop over the list to merge all flora dataframes in a single dataframe\n",
    "for (i in 1:65) {\n",
    "    \n",
    "    df_list[[i]][1] <- NULL\n",
    "    df <- bind_rows(df_list)\n",
    "    df <- df[c(-1, -2), c(1:4)]\n",
    "    df <- df %>% \n",
    "        tibble::rowid_to_column(var = 'n')\n",
    "    \n",
    "    df <- df[complete.cases(df), ]\n",
    "    \n",
    "    write.csv2(\n",
    "        df, './port_mma300_2022_flora.csv', \n",
    "        row.names = FALSE)\n",
    "    \n",
    "}"
   ]
  },
  {
   "cell_type": "markdown",
   "id": "db565a90",
   "metadata": {},
   "source": [
    "<p style=\"text-align:justify\">Chama atenção o fato de muitas espécies, tanto da flora quanto da fauna, estarem com a grafia do nome científico errado, a exemplo de <i>Vochysia gummifera</i>, a qual está grafada como <i>Vochysiagummifera</i>, o que pode induzir o público leigo a erros quando busca por expécies ameaçadas. O trecho de código abaixo mostra o número total de espécies da flora que apresentam erro grave de grafia.</p>"
   ]
  },
  {
   "cell_type": "code",
   "execution_count": 104,
   "id": "2b00123b",
   "metadata": {},
   "outputs": [
    {
     "data": {
      "text/html": [
       "1864"
      ],
      "text/latex": [
       "1864"
      ],
      "text/markdown": [
       "1864"
      ],
      "text/plain": [
       "[1] 1864"
      ]
     },
     "metadata": {},
     "output_type": "display_data"
    }
   ],
   "source": [
    "df_flora <- read.csv2('./port_mma300_2022_flora.csv', fileEncoding = 'UTF-8')\n",
    "\n",
    "nomes_incorretos <- df_flora %>%\n",
    "        mutate(especie_subespecie_var = tolower(especie_subespecie_var)) %>%\n",
    "        mutate(especie_subespecie_var = R.utils::capitalize(especie_subespecie_var)) %>%\n",
    "        mutate(especie_subespecie_var = str_trim(especie_subespecie_var)) %>%\n",
    "        mutate(especie_subespecie_var = str_squish(especie_subespecie_var)) %>%\n",
    "        filter(!especie_subespecie_var %in% str_extract(especie_subespecie_var, '(\\\\b\\\\w+\\\\s\\\\w+\\\\b)')) %>%\n",
    "        filter(!especie_subespecie_var %in% str_extract(especie_subespecie_var, '(\\\\b\\\\w+\\\\s\\\\w+\\\\s\\\\w+\\\\b)')) %>%\n",
    "        filter(!especie_subespecie_var %in% str_extract(especie_subespecie_var, '(\\\\b\\\\w+\\\\s\\\\w+-\\\\w+\\\\b)'))\n",
    "\n",
    "dim(nomes_incorretos)[1]"
   ]
  },
  {
   "cell_type": "markdown",
   "id": "69f98cbb",
   "metadata": {},
   "source": [
    "### 5.2 Correção dos Nomes Científicos\n",
    "<p style=\"text-align:justify\">Para corrigir os erros de grafia nos 1.864 nomes científicos, usaremos como referência a lista de espécies do projeto <a href=\"https://reflora.jbrj.gov.br/reflora\">REFLORA, cuja base de dados encontra-se no <a href=\"http://ipt.jbrj.gov.br/jbrj/archive.do?r=lista_especies_flora_brasil&v=393.291\">site do jardim botânico do Rio de Janeiro</a></p>"
   ]
  },
  {
   "cell_type": "code",
   "execution_count": 106,
   "id": "cd351814",
   "metadata": {},
   "outputs": [],
   "source": [
    "# nomes corretos\n",
    "correto <- df_flora %>%\n",
    "        anti_join(nomes_incorretos, by = 'especie_subespecie_var')\n",
    "\n",
    "# Reflora\n",
    "reflora <- read.csv2('./reflora20210929.csv',\n",
    "                     fileEncoding = 'UTF-8') %>%\n",
    "        mutate(especie_subespecie_var = paste0(genus, specificEpithet)) %>%\n",
    "        select(specie, especie_subespecie_var)\n",
    "        \n",
    "\n",
    "nomes_corrigidos <- reflora %>%\n",
    "        inner_join(df_flora, by = 'especie_subespecie_var') %>%\n",
    "        select(-2) %>%\n",
    "        rename(especie_subespecie_var = specie) %>%\n",
    "        select(2:3, 1, 4, 5)\n",
    "\n",
    "df <- rbind(correto, nomes_corrigidos)\n",
    "\n",
    "# epecies faltantes\n",
    "nomes_ainda_incorretos <- df_flora %>%\n",
    "        anti_join(df, by = 'n')\n",
    "\n",
    "df_fim <- rbind(df, nomes_ainda_incorretos)\n",
    "\n",
    "# salvar como csv\n",
    "write.csv2(df_fim, './port_MMA_300-2022_flora_lista_definitiva.csv', row.names = FALSE)"
   ]
  },
  {
   "cell_type": "markdown",
   "id": "61ff2f6c",
   "metadata": {},
   "source": [
    "## 5.4 Consultar todas as Espécies dos Gêneros _Manilkara_ e _Vochysia_"
   ]
  },
  {
   "cell_type": "code",
   "execution_count": 93,
   "id": "89a628bc",
   "metadata": {},
   "outputs": [
    {
     "data": {
      "text/html": [
       "<table class=\"dataframe\">\n",
       "<caption>A data.frame: 3 × 5</caption>\n",
       "<thead>\n",
       "\t<tr><th scope=col>n</th><th scope=col>port443</th><th scope=col>familia</th><th scope=col>especie_subespecie_var</th><th scope=col>categoria</th></tr>\n",
       "\t<tr><th scope=col>&lt;int&gt;</th><th scope=col>&lt;chr&gt;</th><th scope=col>&lt;chr&gt;</th><th scope=col>&lt;chr&gt;</th><th scope=col>&lt;chr&gt;</th></tr>\n",
       "</thead>\n",
       "<tbody>\n",
       "\t<tr><td>2987</td><td>*</td><td>Sapotaceae</td><td>Manilkara maxima    </td><td>EN</td></tr>\n",
       "\t<tr><td>2985</td><td>*</td><td>Sapotaceae</td><td>Manilkara dardanoi  </td><td>CR</td></tr>\n",
       "\t<tr><td>2986</td><td>*</td><td>Sapotaceae</td><td>Manilkara decrescens</td><td>VU</td></tr>\n",
       "</tbody>\n",
       "</table>\n"
      ],
      "text/latex": [
       "A data.frame: 3 × 5\n",
       "\\begin{tabular}{lllll}\n",
       " n & port443 & familia & especie\\_subespecie\\_var & categoria\\\\\n",
       " <int> & <chr> & <chr> & <chr> & <chr>\\\\\n",
       "\\hline\n",
       "\t 2987 & * & Sapotaceae & Manilkara maxima     & EN\\\\\n",
       "\t 2985 & * & Sapotaceae & Manilkara dardanoi   & CR\\\\\n",
       "\t 2986 & * & Sapotaceae & Manilkara decrescens & VU\\\\\n",
       "\\end{tabular}\n"
      ],
      "text/markdown": [
       "\n",
       "A data.frame: 3 × 5\n",
       "\n",
       "| n &lt;int&gt; | port443 &lt;chr&gt; | familia &lt;chr&gt; | especie_subespecie_var &lt;chr&gt; | categoria &lt;chr&gt; |\n",
       "|---|---|---|---|---|\n",
       "| 2987 | * | Sapotaceae | Manilkara maxima     | EN |\n",
       "| 2985 | * | Sapotaceae | Manilkara dardanoi   | CR |\n",
       "| 2986 | * | Sapotaceae | Manilkara decrescens | VU |\n",
       "\n"
      ],
      "text/plain": [
       "  n    port443 familia    especie_subespecie_var categoria\n",
       "1 2987 *       Sapotaceae Manilkara maxima       EN       \n",
       "2 2985 *       Sapotaceae Manilkara dardanoi     CR       \n",
       "3 2986 *       Sapotaceae Manilkara decrescens   VU       "
      ]
     },
     "metadata": {},
     "output_type": "display_data"
    },
    {
     "data": {
      "text/html": [
       "<table class=\"dataframe\">\n",
       "<caption>A data.frame: 26 × 5</caption>\n",
       "<thead>\n",
       "\t<tr><th scope=col>n</th><th scope=col>port443</th><th scope=col>familia</th><th scope=col>especie_subespecie_var</th><th scope=col>categoria</th></tr>\n",
       "\t<tr><th scope=col>&lt;int&gt;</th><th scope=col>&lt;chr&gt;</th><th scope=col>&lt;chr&gt;</th><th scope=col>&lt;chr&gt;</th><th scope=col>&lt;chr&gt;</th></tr>\n",
       "</thead>\n",
       "<tbody>\n",
       "\t<tr><td>3168</td><td> </td><td>Vochysiaceae</td><td>Vochysia eximia      </td><td>VU</td></tr>\n",
       "\t<tr><td>3169</td><td> </td><td>Vochysiaceae</td><td>Vochysia expansa     </td><td>VU</td></tr>\n",
       "\t<tr><td>3176</td><td> </td><td>Vochysiaceae</td><td>Vochysia rufescens   </td><td>VU</td></tr>\n",
       "\t<tr><td>3180</td><td> </td><td>Vochysiaceae</td><td>Vochysia talmonii    </td><td>CR</td></tr>\n",
       "\t<tr><td>3165</td><td>*</td><td>Vochysiaceae</td><td>Vochysia angelica    </td><td>EN</td></tr>\n",
       "\t<tr><td>3165</td><td>*</td><td>Vochysiaceae</td><td>Vochysia angelica    </td><td>EN</td></tr>\n",
       "\t<tr><td>3165</td><td>*</td><td>Vochysiaceae</td><td>Vochysia angelica    </td><td>EN</td></tr>\n",
       "\t<tr><td>3170</td><td> </td><td>Vochysiaceae</td><td>Vochysia glazioviana </td><td>EN</td></tr>\n",
       "\t<tr><td>3170</td><td> </td><td>Vochysiaceae</td><td>Vochysia glazioviana </td><td>EN</td></tr>\n",
       "\t<tr><td>3171</td><td> </td><td>Vochysiaceae</td><td>Vochysia gummifera   </td><td>EN</td></tr>\n",
       "\t<tr><td>3171</td><td> </td><td>Vochysiaceae</td><td>Vochysia gummifera   </td><td>EN</td></tr>\n",
       "\t<tr><td>3171</td><td> </td><td>Vochysiaceae</td><td>Vochysia gummifera   </td><td>EN</td></tr>\n",
       "\t<tr><td>3173</td><td> </td><td>Vochysiaceae</td><td>Vochysia oblongifolia</td><td>EN</td></tr>\n",
       "\t<tr><td>3173</td><td> </td><td>Vochysiaceae</td><td>Vochysia oblongifolia</td><td>EN</td></tr>\n",
       "\t<tr><td>3174</td><td>*</td><td>Vochysiaceae</td><td>Vochysia pygmaea     </td><td>EN</td></tr>\n",
       "\t<tr><td>3175</td><td> </td><td>Vochysiaceae</td><td>Vochysia rotundifolia</td><td>EN</td></tr>\n",
       "\t<tr><td>3178</td><td> </td><td>Vochysiaceae</td><td>Vochysia selloi      </td><td>EN</td></tr>\n",
       "\t<tr><td>3179</td><td> </td><td>Vochysiaceae</td><td>Vochysia spathulata  </td><td>EN</td></tr>\n",
       "\t<tr><td>3179</td><td> </td><td>Vochysiaceae</td><td>Vochysia spathulata  </td><td>EN</td></tr>\n",
       "\t<tr><td>3179</td><td> </td><td>Vochysiaceae</td><td>Vochysia spathulata  </td><td>EN</td></tr>\n",
       "\t<tr><td>3166</td><td> </td><td>Vochysiaceae</td><td>Vochysia assua       </td><td>VU</td></tr>\n",
       "\t<tr><td>3166</td><td> </td><td>Vochysiaceae</td><td>Vochysia assua       </td><td>VU</td></tr>\n",
       "\t<tr><td>3172</td><td> </td><td>Vochysiaceae</td><td>Vochysia mapuerae    </td><td>VU</td></tr>\n",
       "\t<tr><td>3177</td><td>*</td><td>Vochysiaceae</td><td>Vochysia santaluciae </td><td>EN</td></tr>\n",
       "\t<tr><td>3167</td><td> </td><td>Vochysiaceae</td><td>Vochysia dardanoi    </td><td>EN</td></tr>\n",
       "\t<tr><td>3167</td><td> </td><td>Vochysiaceae</td><td>Vochysia dardanoi    </td><td>EN</td></tr>\n",
       "</tbody>\n",
       "</table>\n"
      ],
      "text/latex": [
       "A data.frame: 26 × 5\n",
       "\\begin{tabular}{lllll}\n",
       " n & port443 & familia & especie\\_subespecie\\_var & categoria\\\\\n",
       " <int> & <chr> & <chr> & <chr> & <chr>\\\\\n",
       "\\hline\n",
       "\t 3168 &   & Vochysiaceae & Vochysia eximia       & VU\\\\\n",
       "\t 3169 &   & Vochysiaceae & Vochysia expansa      & VU\\\\\n",
       "\t 3176 &   & Vochysiaceae & Vochysia rufescens    & VU\\\\\n",
       "\t 3180 &   & Vochysiaceae & Vochysia talmonii     & CR\\\\\n",
       "\t 3165 & * & Vochysiaceae & Vochysia angelica     & EN\\\\\n",
       "\t 3165 & * & Vochysiaceae & Vochysia angelica     & EN\\\\\n",
       "\t 3165 & * & Vochysiaceae & Vochysia angelica     & EN\\\\\n",
       "\t 3170 &   & Vochysiaceae & Vochysia glazioviana  & EN\\\\\n",
       "\t 3170 &   & Vochysiaceae & Vochysia glazioviana  & EN\\\\\n",
       "\t 3171 &   & Vochysiaceae & Vochysia gummifera    & EN\\\\\n",
       "\t 3171 &   & Vochysiaceae & Vochysia gummifera    & EN\\\\\n",
       "\t 3171 &   & Vochysiaceae & Vochysia gummifera    & EN\\\\\n",
       "\t 3173 &   & Vochysiaceae & Vochysia oblongifolia & EN\\\\\n",
       "\t 3173 &   & Vochysiaceae & Vochysia oblongifolia & EN\\\\\n",
       "\t 3174 & * & Vochysiaceae & Vochysia pygmaea      & EN\\\\\n",
       "\t 3175 &   & Vochysiaceae & Vochysia rotundifolia & EN\\\\\n",
       "\t 3178 &   & Vochysiaceae & Vochysia selloi       & EN\\\\\n",
       "\t 3179 &   & Vochysiaceae & Vochysia spathulata   & EN\\\\\n",
       "\t 3179 &   & Vochysiaceae & Vochysia spathulata   & EN\\\\\n",
       "\t 3179 &   & Vochysiaceae & Vochysia spathulata   & EN\\\\\n",
       "\t 3166 &   & Vochysiaceae & Vochysia assua        & VU\\\\\n",
       "\t 3166 &   & Vochysiaceae & Vochysia assua        & VU\\\\\n",
       "\t 3172 &   & Vochysiaceae & Vochysia mapuerae     & VU\\\\\n",
       "\t 3177 & * & Vochysiaceae & Vochysia santaluciae  & EN\\\\\n",
       "\t 3167 &   & Vochysiaceae & Vochysia dardanoi     & EN\\\\\n",
       "\t 3167 &   & Vochysiaceae & Vochysia dardanoi     & EN\\\\\n",
       "\\end{tabular}\n"
      ],
      "text/markdown": [
       "\n",
       "A data.frame: 26 × 5\n",
       "\n",
       "| n &lt;int&gt; | port443 &lt;chr&gt; | familia &lt;chr&gt; | especie_subespecie_var &lt;chr&gt; | categoria &lt;chr&gt; |\n",
       "|---|---|---|---|---|\n",
       "| 3168 | <!----> | Vochysiaceae | Vochysia eximia       | VU |\n",
       "| 3169 | <!----> | Vochysiaceae | Vochysia expansa      | VU |\n",
       "| 3176 | <!----> | Vochysiaceae | Vochysia rufescens    | VU |\n",
       "| 3180 | <!----> | Vochysiaceae | Vochysia talmonii     | CR |\n",
       "| 3165 | * | Vochysiaceae | Vochysia angelica     | EN |\n",
       "| 3165 | * | Vochysiaceae | Vochysia angelica     | EN |\n",
       "| 3165 | * | Vochysiaceae | Vochysia angelica     | EN |\n",
       "| 3170 | <!----> | Vochysiaceae | Vochysia glazioviana  | EN |\n",
       "| 3170 | <!----> | Vochysiaceae | Vochysia glazioviana  | EN |\n",
       "| 3171 | <!----> | Vochysiaceae | Vochysia gummifera    | EN |\n",
       "| 3171 | <!----> | Vochysiaceae | Vochysia gummifera    | EN |\n",
       "| 3171 | <!----> | Vochysiaceae | Vochysia gummifera    | EN |\n",
       "| 3173 | <!----> | Vochysiaceae | Vochysia oblongifolia | EN |\n",
       "| 3173 | <!----> | Vochysiaceae | Vochysia oblongifolia | EN |\n",
       "| 3174 | * | Vochysiaceae | Vochysia pygmaea      | EN |\n",
       "| 3175 | <!----> | Vochysiaceae | Vochysia rotundifolia | EN |\n",
       "| 3178 | <!----> | Vochysiaceae | Vochysia selloi       | EN |\n",
       "| 3179 | <!----> | Vochysiaceae | Vochysia spathulata   | EN |\n",
       "| 3179 | <!----> | Vochysiaceae | Vochysia spathulata   | EN |\n",
       "| 3179 | <!----> | Vochysiaceae | Vochysia spathulata   | EN |\n",
       "| 3166 | <!----> | Vochysiaceae | Vochysia assua        | VU |\n",
       "| 3166 | <!----> | Vochysiaceae | Vochysia assua        | VU |\n",
       "| 3172 | <!----> | Vochysiaceae | Vochysia mapuerae     | VU |\n",
       "| 3177 | * | Vochysiaceae | Vochysia santaluciae  | EN |\n",
       "| 3167 | <!----> | Vochysiaceae | Vochysia dardanoi     | EN |\n",
       "| 3167 | <!----> | Vochysiaceae | Vochysia dardanoi     | EN |\n",
       "\n"
      ],
      "text/plain": [
       "   n    port443 familia      especie_subespecie_var categoria\n",
       "1  3168         Vochysiaceae Vochysia eximia        VU       \n",
       "2  3169         Vochysiaceae Vochysia expansa       VU       \n",
       "3  3176         Vochysiaceae Vochysia rufescens     VU       \n",
       "4  3180         Vochysiaceae Vochysia talmonii      CR       \n",
       "5  3165 *       Vochysiaceae Vochysia angelica      EN       \n",
       "6  3165 *       Vochysiaceae Vochysia angelica      EN       \n",
       "7  3165 *       Vochysiaceae Vochysia angelica      EN       \n",
       "8  3170         Vochysiaceae Vochysia glazioviana   EN       \n",
       "9  3170         Vochysiaceae Vochysia glazioviana   EN       \n",
       "10 3171         Vochysiaceae Vochysia gummifera     EN       \n",
       "11 3171         Vochysiaceae Vochysia gummifera     EN       \n",
       "12 3171         Vochysiaceae Vochysia gummifera     EN       \n",
       "13 3173         Vochysiaceae Vochysia oblongifolia  EN       \n",
       "14 3173         Vochysiaceae Vochysia oblongifolia  EN       \n",
       "15 3174 *       Vochysiaceae Vochysia pygmaea       EN       \n",
       "16 3175         Vochysiaceae Vochysia rotundifolia  EN       \n",
       "17 3178         Vochysiaceae Vochysia selloi        EN       \n",
       "18 3179         Vochysiaceae Vochysia spathulata    EN       \n",
       "19 3179         Vochysiaceae Vochysia spathulata    EN       \n",
       "20 3179         Vochysiaceae Vochysia spathulata    EN       \n",
       "21 3166         Vochysiaceae Vochysia assua         VU       \n",
       "22 3166         Vochysiaceae Vochysia assua         VU       \n",
       "23 3172         Vochysiaceae Vochysia mapuerae      VU       \n",
       "24 3177 *       Vochysiaceae Vochysia santaluciae   EN       \n",
       "25 3167         Vochysiaceae Vochysia dardanoi      EN       \n",
       "26 3167         Vochysiaceae Vochysia dardanoi      EN       "
      ]
     },
     "metadata": {},
     "output_type": "display_data"
    }
   ],
   "source": [
    "# Consultas\n",
    "df_fim %>%\n",
    "        filter(especie_subespecie_var == str_extract(especie_subespecie_var, '(^Manilkara\\\\s\\\\w+)*'))\n",
    "\n",
    "df_fim %>%\n",
    "        filter(especie_subespecie_var == str_extract(especie_subespecie_var, '(^Vochysia\\\\s\\\\w+)*'))"
   ]
  },
  {
   "cell_type": "markdown",
   "id": "327e817a",
   "metadata": {},
   "source": [
    "### 6. Análise dos dados de flora"
   ]
  },
  {
   "cell_type": "markdown",
   "id": "89fd94e2",
   "metadata": {},
   "source": [
    "## 6.1 Famílias da Flora Mais Ameaçadas"
   ]
  },
  {
   "cell_type": "code",
   "execution_count": 20,
   "id": "9a6bb7c4",
   "metadata": {},
   "outputs": [
    {
     "data": {
      "image/png": "[encoded data removed]",
      "text/plain": [
       "plot without title"
      ]
     },
     "metadata": {
      "image/png": {
       "height": 600,
       "width": 720
      }
     },
     "output_type": "display_data"
    }
   ],
   "source": [
    "# Set figure size\n",
    "options(repr.plot.width = 12, repr.plot.height = 10)\n",
    "\n",
    "statusFamily <- df_fim %>%\n",
    "        #filter(familia != \"\") %>%\n",
    "        count(familia, sort = TRUE) %>%\n",
    "        slice_max(n, n = 10)\n",
    "\n",
    "statusFamily$familia <- with(statusFamily, reorder(familia, n))\n",
    "\n",
    "ggplot(statusFamily, aes(familia, n)) +\n",
    "        geom_col(fill = 'steelblue') + coord_flip() +\n",
    "        geom_text(aes(label = n, hjust = 2), color = 'white', size = 8) +\n",
    "        my_theme +\n",
    "        labs(\n",
    "                title = '10 Famílias da Flora com Maior Número de Espécies Ameaçadas de Extinção',\n",
    "                x = '',\n",
    "                y = ''\n",
    "            )"
   ]
  },
  {
   "cell_type": "markdown",
   "id": "c198c80b",
   "metadata": {},
   "source": [
    "## 6.2 Resumo dos Dados da Flora Por Categoria de Ameaça"
   ]
  },
  {
   "cell_type": "code",
   "execution_count": 19,
   "id": "40114251",
   "metadata": {
    "scrolled": false
   },
   "outputs": [
    {
     "data": {
      "image/png": "[encoded data removed]",
      "text/plain": [
       "plot without title"
      ]
     },
     "metadata": {
      "image/png": {
       "height": 600,
       "width": 720
      }
     },
     "output_type": "display_data"
    }
   ],
   "source": [
    "# Set theme to the plots\n",
    "my_theme <- theme(plot.title = element_text(hjust = 0.5, size = 18, face = 'bold'),\n",
    "          axis.title = element_text(size = 17),\n",
    "          axis.text = element_text(size = 17),\n",
    "          legend.text = element_text(size = 17),\n",
    "          legend.position = c(0.9, 0.5))\n",
    "\n",
    "# Set status dataframe\n",
    "species_status <- df_fim %>%\n",
    "        group_by(categoria) %>%\n",
    "        count(categoria, sort = TRUE)\n",
    "\n",
    "# Reorder status dataframe by \"n\" and \"categoria\" columns\n",
    "species_status$categoria <- with(species_status, \n",
    "                                 reorder(categoria, n, decreasing = TRUE))\n",
    "\n",
    "# Legend\n",
    "labels <- c('EN\\nEm Perigo', 'VU\\nVulnerável', 'CR\\nCriticamente em Perigo', \n",
    "            'CR (PEX)\\nCriticamente em Perigo\\n(Provavelmente Extinta)')\n",
    "\n",
    "status_cod <- c('EN' , 'VU', 'CR' , 'CR (PEX)')\n",
    "\n",
    "# Status plot        \n",
    "ggplot(species_status, aes(x = categoria, y = n, fill = n)) +\n",
    "    geom_col() +\n",
    "    my_theme +\n",
    "    scale_x_discrete(limits = status_cod, labels = labels) +\n",
    "    labs(\n",
    "            title = 'Espécies da Flora Ameaçadas de Extinção no Brasil',\n",
    "            x = 'Categoria',\n",
    "            y = 'Nº de espécies',\n",
    "            fill = ''\n",
    "    )"
   ]
  },
  {
   "cell_type": "code",
   "execution_count": 107,
   "id": "18197a79",
   "metadata": {},
   "outputs": [
    {
     "data": {
      "text/html": [
       "<table class=\"dataframe\">\n",
       "<caption>A tibble: 1 × 3</caption>\n",
       "<thead>\n",
       "\t<tr><th scope=col>Portaria_443</th><th scope=col>Portaria_300</th><th scope=col>Diferença</th></tr>\n",
       "\t<tr><th scope=col>&lt;int&gt;</th><th scope=col>&lt;int&gt;</th><th scope=col>&lt;int&gt;</th></tr>\n",
       "</thead>\n",
       "<tbody>\n",
       "\t<tr><td>2113</td><td>3831</td><td>1718</td></tr>\n",
       "</tbody>\n",
       "</table>\n"
      ],
      "text/latex": [
       "A tibble: 1 × 3\n",
       "\\begin{tabular}{lll}\n",
       " Portaria\\_443 & Portaria\\_300 & Diferença\\\\\n",
       " <int> & <int> & <int>\\\\\n",
       "\\hline\n",
       "\t 2113 & 3831 & 1718\\\\\n",
       "\\end{tabular}\n"
      ],
      "text/markdown": [
       "\n",
       "A tibble: 1 × 3\n",
       "\n",
       "| Portaria_443 &lt;int&gt; | Portaria_300 &lt;int&gt; | Diferença &lt;int&gt; |\n",
       "|---|---|---|\n",
       "| 2113 | 3831 | 1718 |\n",
       "\n"
      ],
      "text/plain": [
       "  Portaria_443 Portaria_300 Diferença\n",
       "1 2113         3831         1718     "
      ]
     },
     "metadata": {},
     "output_type": "display_data"
    }
   ],
   "source": [
    "# Portaria MMA 443\n",
    "port443 <- read.csv('D:/data/jbrio/port443.csv')\n",
    "\n",
    "df_flora <- data.frame(Portaria_443 = nrow(port443),\n",
    "                       Portaria_300 = nrow(df_fim),\n",
    "                       Diferença = (nrow(df_fim) - nrow(port443)))\n",
    "\n",
    "as_tibble(df_flora)"
   ]
  },
  {
   "cell_type": "markdown",
   "id": "e744c422",
   "metadata": {},
   "source": [
    "<p style=\"text-align=justify\">Podemos observar que houve um acrescimo de 1.718 novas espécies ameaçadas de extinção para a flora brasileira.</p>"
   ]
  },
  {
   "cell_type": "code",
   "execution_count": 100,
   "id": "d3237084",
   "metadata": {},
   "outputs": [
    {
     "data": {
      "text/html": [
       "25"
      ],
      "text/latex": [
       "25"
      ],
      "text/markdown": [
       "25"
      ],
      "text/plain": [
       "[1] 25"
      ]
     },
     "metadata": {},
     "output_type": "display_data"
    }
   ],
   "source": [
    "reflora <- read.csv2('./reflora20210929.csv',\n",
    "                     fileEncoding = 'UTF-8')\n",
    "\n",
    "# Sinonimos\n",
    "sinonimos_flora <- reflora %>%\n",
    "rename(especie_subespecie_var = specie) %>%\n",
    "inner_join(df_fim, by = 'especie_subespecie_var') %>%\n",
    "filter(taxonomicStatus == 'SINONIMO')\n",
    "\n",
    "# Salvar como csv\n",
    "write.csv2(sinonimos_flora, './port_MMA_300-2022_flora_sinonimos.csv', row.names = FALSE)\n",
    "\n",
    "# Mostrar número de linhas\n",
    "dim(sinonimos_flora)[1]"
   ]
  },
  {
   "cell_type": "markdown",
   "id": "aad52a15",
   "metadata": {},
   "source": [
    "<p style=\"text-align:justify\">Ao comparar a lista da Portaria MMA 300/2022 com a lista de espécies do projeto REFLORA, foi obervado que há 25 nomes cientificos com grafia de sinônimo taxonômico</p>"
   ]
  },
  {
   "cell_type": "code",
   "execution_count": 99,
   "id": "b1e44e08",
   "metadata": {},
   "outputs": [
    {
     "data": {
      "text/html": [
       "<table class=\"dataframe\">\n",
       "<caption>A data.frame: 25 × 4</caption>\n",
       "<thead>\n",
       "\t<tr><th scope=col>n</th><th scope=col>especie_subespecie_var</th><th scope=col>acceptedNameUsage</th><th scope=col>categoria</th></tr>\n",
       "\t<tr><th scope=col>&lt;int&gt;</th><th scope=col>&lt;chr&gt;</th><th scope=col>&lt;chr&gt;</th><th scope=col>&lt;chr&gt;</th></tr>\n",
       "</thead>\n",
       "<tbody>\n",
       "\t<tr><td>2821</td><td>Coussarea viridis         </td><td>Faramea calyciflora       </td><td>EN</td></tr>\n",
       "\t<tr><td>2871</td><td>Psychotria microcarpa     </td><td>Palicourea minutiflora    </td><td>EN</td></tr>\n",
       "\t<tr><td>2900</td><td>Rudgea vellerea           </td><td>Simira rubra              </td><td>VU</td></tr>\n",
       "\t<tr><td>2813</td><td>Coussarea ampla           </td><td>Coussarea hydrangeifolia  </td><td>VU</td></tr>\n",
       "\t<tr><td>1298</td><td>Croton leptobotryus       </td><td>Croton fulvus             </td><td>VU</td></tr>\n",
       "\t<tr><td>2460</td><td>Grobya cipoensis          </td><td>Gomesa ramosa             </td><td>CR</td></tr>\n",
       "\t<tr><td>2810</td><td>Chomelia tristis          </td><td>Chomelia brasiliana       </td><td>EN</td></tr>\n",
       "\t<tr><td>2866</td><td>Psychotria clavipes       </td><td>Psychotria rhytidocarpa   </td><td>EN</td></tr>\n",
       "\t<tr><td>2410</td><td>Cattleya purpurata        </td><td>Cattleya purpurata        </td><td>VU</td></tr>\n",
       "\t<tr><td>2410</td><td>Cattleya purpurata        </td><td>Cattleya purpurata        </td><td>VU</td></tr>\n",
       "\t<tr><td>2410</td><td>Cattleya purpurata        </td><td>Cattleya purpurata        </td><td>VU</td></tr>\n",
       "\t<tr><td>2410</td><td>Cattleya purpurata        </td><td>Cattleya purpurata        </td><td>VU</td></tr>\n",
       "\t<tr><td>2766</td><td>Doryopteris rediviva      </td><td>Lytoneuron subsimplex     </td><td>VU</td></tr>\n",
       "\t<tr><td>2766</td><td>Doryopteris rediviva      </td><td>Lytoneuron subsimplex     </td><td>VU</td></tr>\n",
       "\t<tr><td>2766</td><td>Doryopteris rediviva      </td><td>Lytoneuron subsimplex     </td><td>VU</td></tr>\n",
       "\t<tr><td> 435</td><td>Lessingianthus westermanii</td><td>Lessingianthus westermanii</td><td>EN</td></tr>\n",
       "\t<tr><td>2325</td><td>Bougainvillea fasciculata </td><td>Asplenium douglasii       </td><td>EN</td></tr>\n",
       "\t<tr><td>3005</td><td>Pouteria velutinicarpa    </td><td>Tinantia erecta           </td><td>CR</td></tr>\n",
       "\t<tr><td>2717</td><td>Alansmia senilis          </td><td>Palicourea tetraphylla    </td><td>CR</td></tr>\n",
       "\t<tr><td>1965</td><td>Goeppertia widgrenii      </td><td>Goeppertia widgrenii      </td><td>EN</td></tr>\n",
       "\t<tr><td>1238</td><td>Paepalanthus capixaba     </td><td>Vandenboschia rupestris   </td><td>CR</td></tr>\n",
       "\t<tr><td>2136</td><td>Mollinedia dolichotricha  </td><td>NA                        </td><td>EN</td></tr>\n",
       "\t<tr><td> 153</td><td>Aspidosperma occidentale  </td><td>Aspidosperma tambopatense </td><td>EN</td></tr>\n",
       "\t<tr><td> 153</td><td>Aspidosperma occidentale  </td><td>Aspidosperma tambopatense </td><td>EN</td></tr>\n",
       "\t<tr><td>2321</td><td>Psidium sessiliflorum     </td><td>Pinus strobus             </td><td>EN</td></tr>\n",
       "</tbody>\n",
       "</table>\n"
      ],
      "text/latex": [
       "A data.frame: 25 × 4\n",
       "\\begin{tabular}{llll}\n",
       " n & especie\\_subespecie\\_var & acceptedNameUsage & categoria\\\\\n",
       " <int> & <chr> & <chr> & <chr>\\\\\n",
       "\\hline\n",
       "\t 2821 & Coussarea viridis          & Faramea calyciflora        & EN\\\\\n",
       "\t 2871 & Psychotria microcarpa      & Palicourea minutiflora     & EN\\\\\n",
       "\t 2900 & Rudgea vellerea            & Simira rubra               & VU\\\\\n",
       "\t 2813 & Coussarea ampla            & Coussarea hydrangeifolia   & VU\\\\\n",
       "\t 1298 & Croton leptobotryus        & Croton fulvus              & VU\\\\\n",
       "\t 2460 & Grobya cipoensis           & Gomesa ramosa              & CR\\\\\n",
       "\t 2810 & Chomelia tristis           & Chomelia brasiliana        & EN\\\\\n",
       "\t 2866 & Psychotria clavipes        & Psychotria rhytidocarpa    & EN\\\\\n",
       "\t 2410 & Cattleya purpurata         & Cattleya purpurata         & VU\\\\\n",
       "\t 2410 & Cattleya purpurata         & Cattleya purpurata         & VU\\\\\n",
       "\t 2410 & Cattleya purpurata         & Cattleya purpurata         & VU\\\\\n",
       "\t 2410 & Cattleya purpurata         & Cattleya purpurata         & VU\\\\\n",
       "\t 2766 & Doryopteris rediviva       & Lytoneuron subsimplex      & VU\\\\\n",
       "\t 2766 & Doryopteris rediviva       & Lytoneuron subsimplex      & VU\\\\\n",
       "\t 2766 & Doryopteris rediviva       & Lytoneuron subsimplex      & VU\\\\\n",
       "\t  435 & Lessingianthus westermanii & Lessingianthus westermanii & EN\\\\\n",
       "\t 2325 & Bougainvillea fasciculata  & Asplenium douglasii        & EN\\\\\n",
       "\t 3005 & Pouteria velutinicarpa     & Tinantia erecta            & CR\\\\\n",
       "\t 2717 & Alansmia senilis           & Palicourea tetraphylla     & CR\\\\\n",
       "\t 1965 & Goeppertia widgrenii       & Goeppertia widgrenii       & EN\\\\\n",
       "\t 1238 & Paepalanthus capixaba      & Vandenboschia rupestris    & CR\\\\\n",
       "\t 2136 & Mollinedia dolichotricha   & NA                         & EN\\\\\n",
       "\t  153 & Aspidosperma occidentale   & Aspidosperma tambopatense  & EN\\\\\n",
       "\t  153 & Aspidosperma occidentale   & Aspidosperma tambopatense  & EN\\\\\n",
       "\t 2321 & Psidium sessiliflorum      & Pinus strobus              & EN\\\\\n",
       "\\end{tabular}\n"
      ],
      "text/markdown": [
       "\n",
       "A data.frame: 25 × 4\n",
       "\n",
       "| n &lt;int&gt; | especie_subespecie_var &lt;chr&gt; | acceptedNameUsage &lt;chr&gt; | categoria &lt;chr&gt; |\n",
       "|---|---|---|---|\n",
       "| 2821 | Coussarea viridis          | Faramea calyciflora        | EN |\n",
       "| 2871 | Psychotria microcarpa      | Palicourea minutiflora     | EN |\n",
       "| 2900 | Rudgea vellerea            | Simira rubra               | VU |\n",
       "| 2813 | Coussarea ampla            | Coussarea hydrangeifolia   | VU |\n",
       "| 1298 | Croton leptobotryus        | Croton fulvus              | VU |\n",
       "| 2460 | Grobya cipoensis           | Gomesa ramosa              | CR |\n",
       "| 2810 | Chomelia tristis           | Chomelia brasiliana        | EN |\n",
       "| 2866 | Psychotria clavipes        | Psychotria rhytidocarpa    | EN |\n",
       "| 2410 | Cattleya purpurata         | Cattleya purpurata         | VU |\n",
       "| 2410 | Cattleya purpurata         | Cattleya purpurata         | VU |\n",
       "| 2410 | Cattleya purpurata         | Cattleya purpurata         | VU |\n",
       "| 2410 | Cattleya purpurata         | Cattleya purpurata         | VU |\n",
       "| 2766 | Doryopteris rediviva       | Lytoneuron subsimplex      | VU |\n",
       "| 2766 | Doryopteris rediviva       | Lytoneuron subsimplex      | VU |\n",
       "| 2766 | Doryopteris rediviva       | Lytoneuron subsimplex      | VU |\n",
       "|  435 | Lessingianthus westermanii | Lessingianthus westermanii | EN |\n",
       "| 2325 | Bougainvillea fasciculata  | Asplenium douglasii        | EN |\n",
       "| 3005 | Pouteria velutinicarpa     | Tinantia erecta            | CR |\n",
       "| 2717 | Alansmia senilis           | Palicourea tetraphylla     | CR |\n",
       "| 1965 | Goeppertia widgrenii       | Goeppertia widgrenii       | EN |\n",
       "| 1238 | Paepalanthus capixaba      | Vandenboschia rupestris    | CR |\n",
       "| 2136 | Mollinedia dolichotricha   | NA                         | EN |\n",
       "|  153 | Aspidosperma occidentale   | Aspidosperma tambopatense  | EN |\n",
       "|  153 | Aspidosperma occidentale   | Aspidosperma tambopatense  | EN |\n",
       "| 2321 | Psidium sessiliflorum      | Pinus strobus              | EN |\n",
       "\n"
      ],
      "text/plain": [
       "   n    especie_subespecie_var     acceptedNameUsage          categoria\n",
       "1  2821 Coussarea viridis          Faramea calyciflora        EN       \n",
       "2  2871 Psychotria microcarpa      Palicourea minutiflora     EN       \n",
       "3  2900 Rudgea vellerea            Simira rubra               VU       \n",
       "4  2813 Coussarea ampla            Coussarea hydrangeifolia   VU       \n",
       "5  1298 Croton leptobotryus        Croton fulvus              VU       \n",
       "6  2460 Grobya cipoensis           Gomesa ramosa              CR       \n",
       "7  2810 Chomelia tristis           Chomelia brasiliana        EN       \n",
       "8  2866 Psychotria clavipes        Psychotria rhytidocarpa    EN       \n",
       "9  2410 Cattleya purpurata         Cattleya purpurata         VU       \n",
       "10 2410 Cattleya purpurata         Cattleya purpurata         VU       \n",
       "11 2410 Cattleya purpurata         Cattleya purpurata         VU       \n",
       "12 2410 Cattleya purpurata         Cattleya purpurata         VU       \n",
       "13 2766 Doryopteris rediviva       Lytoneuron subsimplex      VU       \n",
       "14 2766 Doryopteris rediviva       Lytoneuron subsimplex      VU       \n",
       "15 2766 Doryopteris rediviva       Lytoneuron subsimplex      VU       \n",
       "16  435 Lessingianthus westermanii Lessingianthus westermanii EN       \n",
       "17 2325 Bougainvillea fasciculata  Asplenium douglasii        EN       \n",
       "18 3005 Pouteria velutinicarpa     Tinantia erecta            CR       \n",
       "19 2717 Alansmia senilis           Palicourea tetraphylla     CR       \n",
       "20 1965 Goeppertia widgrenii       Goeppertia widgrenii       EN       \n",
       "21 1238 Paepalanthus capixaba      Vandenboschia rupestris    CR       \n",
       "22 2136 Mollinedia dolichotricha   NA                         EN       \n",
       "23  153 Aspidosperma occidentale   Aspidosperma tambopatense  EN       \n",
       "24  153 Aspidosperma occidentale   Aspidosperma tambopatense  EN       \n",
       "25 2321 Psidium sessiliflorum      Pinus strobus              EN       "
      ]
     },
     "metadata": {},
     "output_type": "display_data"
    }
   ],
   "source": [
    "sinonimos_flora %>%\n",
    "    select(n, especie_subespecie_var, acceptedNameUsage, categoria)"
   ]
  },
  {
   "cell_type": "markdown",
   "id": "8443664c",
   "metadata": {},
   "source": [
    "## 6.3 Quais das Espécies Ameçadas da Flora São de Interesse Madeireiro?\n",
    "Para saber as espécies de interesse madeireiro, utilizamos como referência os dados do Sistema Nacional de Controle da Origem dos Produtos Florestais (SINAFLOR). Os dados são referentes as autorizações emitidas para Planos de Manejo Florestal Sustentáveis em 2022."
   ]
  },
  {
   "cell_type": "code",
   "execution_count": 108,
   "id": "ac227c8b",
   "metadata": {},
   "outputs": [],
   "source": [
    "# Especies Madeireiras SINAFLOR\n",
    "sinaflor <- read.csv2('./sinaflor_autorizacoes_pmfs_2022.csv')\n",
    "\n",
    "sp_mad <- sinaflor %>%\n",
    "        mutate(especie = stringr::str_trim(Nome.científico)) %>%\n",
    "        mutate(especie = stringr::str_squish(Nome.científico))\n",
    "\n",
    "# join\n",
    "lista_sp_mad_amecada <- sp_mad %>%\n",
    "        left_join(df_fim, by = c('especie' = 'especie_subespecie_var')) %>%\n",
    "        filter(!is.na(port443)) %>%\n",
    "        rename(nome_vernacular_SFB = Nome.vulgar, especie_SFB = especie) %>%\n",
    "        select(-n)"
   ]
  },
  {
   "cell_type": "code",
   "execution_count": 109,
   "id": "054ac599",
   "metadata": {},
   "outputs": [
    {
     "data": {
      "text/html": [
       "37"
      ],
      "text/latex": [
       "37"
      ],
      "text/markdown": [
       "37"
      ],
      "text/plain": [
       "[1] 37"
      ]
     },
     "metadata": {},
     "output_type": "display_data"
    }
   ],
   "source": [
    "# número de espécies madeireiras ameaçadas de extinção\n",
    "dim(lista_sp_mad_amecada)[1]"
   ]
  },
  {
   "cell_type": "code",
   "execution_count": 111,
   "id": "7ff2eead",
   "metadata": {},
   "outputs": [
    {
     "data": {
      "text/html": [
       "<table class=\"dataframe\">\n",
       "<caption>A data.frame: 37 × 5</caption>\n",
       "<thead>\n",
       "\t<tr><th></th><th scope=col>nome_vernacular_SFB</th><th scope=col>especie_SFB</th><th scope=col>port443</th><th scope=col>familia</th><th scope=col>categoria</th></tr>\n",
       "\t<tr><th></th><th scope=col>&lt;chr&gt;</th><th scope=col>&lt;chr&gt;</th><th scope=col>&lt;chr&gt;</th><th scope=col>&lt;chr&gt;</th><th scope=col>&lt;chr&gt;</th></tr>\n",
       "</thead>\n",
       "<tbody>\n",
       "\t<tr><th scope=row>1</th><td>Cerejeira                    </td><td>Amburana cearensis        </td><td>*</td><td>Fabaceae     </td><td>VU</td></tr>\n",
       "\t<tr><th scope=row>2</th><td>Pinheiro-do-paraná           </td><td>Araucaria angustifolia    </td><td>*</td><td>Araucariaceae</td><td>EN</td></tr>\n",
       "\t<tr><th scope=row>3</th><td>Pinheiro-do-paraná           </td><td>Araucaria angustifolia    </td><td>*</td><td>Araucariaceae</td><td>EN</td></tr>\n",
       "\t<tr><th scope=row>4</th><td>Pinheiro-do-paraná           </td><td>Araucaria angustifolia    </td><td>*</td><td>Araucariaceae</td><td>EN</td></tr>\n",
       "\t<tr><th scope=row>5</th><td>Pinheiro-do-paraná           </td><td>Araucaria angustifolia    </td><td>*</td><td>Araucariaceae</td><td>EN</td></tr>\n",
       "\t<tr><th scope=row>6</th><td>Pinheiro-do-paraná           </td><td>Araucaria angustifolia    </td><td>*</td><td>Araucariaceae</td><td>EN</td></tr>\n",
       "\t<tr><th scope=row>7</th><td>Pinheiro-do-paraná           </td><td>Araucaria angustifolia    </td><td>*</td><td>Araucariaceae</td><td>EN</td></tr>\n",
       "\t<tr><th scope=row>8</th><td>Castanheira                  </td><td>Bertholletia excelsa      </td><td>*</td><td>Lecythidaceae</td><td>VU</td></tr>\n",
       "\t<tr><th scope=row>9</th><td>Jacarandá-da-bahia           </td><td>Dalbergia nigra           </td><td>*</td><td>Fabaceae     </td><td>VU</td></tr>\n",
       "\t<tr><th scope=row>10</th><td>Jacarandá-da-bahia           </td><td>Dalbergia nigra           </td><td>*</td><td>Fabaceae     </td><td>VU</td></tr>\n",
       "\t<tr><th scope=row>11</th><td>Jacarandá-da-bahia           </td><td>Dalbergia nigra           </td><td>*</td><td>Fabaceae     </td><td>VU</td></tr>\n",
       "\t<tr><th scope=row>12</th><td>Jacarandá-da-bahia           </td><td>Dalbergia nigra           </td><td>*</td><td>Fabaceae     </td><td>VU</td></tr>\n",
       "\t<tr><th scope=row>13</th><td>Munguba-grande-da-terra-firme</td><td>Eriotheca longipedicellata</td><td> </td><td>Malvaceae    </td><td>VU</td></tr>\n",
       "\t<tr><th scope=row>14</th><td>Pau-amarelo                  </td><td>Euxylophora paraensis     </td><td>*</td><td>Rutaceae     </td><td>EN</td></tr>\n",
       "\t<tr><th scope=row>15</th><td>Pau-amarelo                  </td><td>Euxylophora paraensis     </td><td>*</td><td>Rutaceae     </td><td>EN</td></tr>\n",
       "\t<tr><th scope=row>16</th><td>Pau-amarelo                  </td><td>Euxylophora paraensis     </td><td>*</td><td>Rutaceae     </td><td>EN</td></tr>\n",
       "\t<tr><th scope=row>17</th><td>Pau-amarelo                  </td><td>Euxylophora paraensis     </td><td>*</td><td>Rutaceae     </td><td>EN</td></tr>\n",
       "\t<tr><th scope=row>18</th><td>Angelim-pedra-amarelo        </td><td>Hymenolobium excelsum     </td><td>*</td><td>Fabaceae     </td><td>VU</td></tr>\n",
       "\t<tr><th scope=row>19</th><td>Angelim-pedra-amarelo        </td><td>Hymenolobium excelsum     </td><td>*</td><td>Fabaceae     </td><td>VU</td></tr>\n",
       "\t<tr><th scope=row>20</th><td>Angelim-pedra-amarelo        </td><td>Hymenolobium excelsum     </td><td>*</td><td>Fabaceae     </td><td>VU</td></tr>\n",
       "\t<tr><th scope=row>21</th><td>Itaúba                       </td><td>Mezilaurus itauba         </td><td>*</td><td>Lauraceae    </td><td>VU</td></tr>\n",
       "\t<tr><th scope=row>22</th><td>Louro-preto                  </td><td>Ocotea fragrantissima     </td><td> </td><td>Lauraceae    </td><td>EN</td></tr>\n",
       "\t<tr><th scope=row>23</th><td>Louro-preto                  </td><td>Ocotea fragrantissima     </td><td> </td><td>Lauraceae    </td><td>EN</td></tr>\n",
       "\t<tr><th scope=row>24</th><td>Imbuia                       </td><td>Ocotea porosa             </td><td>*</td><td>Lauraceae    </td><td>EN</td></tr>\n",
       "\t<tr><th scope=row>25</th><td>Ipê-peroba                   </td><td>Paratecoma peroba         </td><td>*</td><td>Bignoniaceae </td><td>EN</td></tr>\n",
       "\t<tr><th scope=row>26</th><td>Pau-roxo-do-maranhão         </td><td>Peltogyne maranhensis     </td><td>*</td><td>Fabaceae     </td><td>VU</td></tr>\n",
       "\t<tr><th scope=row>27</th><td>Virola-das-ilhas             </td><td>Virola surinamensis       </td><td>*</td><td>Myristicaceae</td><td>VU</td></tr>\n",
       "\t<tr><th scope=row>28</th><td>Virola-das-ilhas             </td><td>Virola surinamensis       </td><td>*</td><td>Myristicaceae</td><td>VU</td></tr>\n",
       "\t<tr><th scope=row>29</th><td>Virola-das-ilhas             </td><td>Virola surinamensis       </td><td>*</td><td>Myristicaceae</td><td>VU</td></tr>\n",
       "\t<tr><th scope=row>30</th><td>Virola-das-ilhas             </td><td>Virola surinamensis       </td><td>*</td><td>Myristicaceae</td><td>VU</td></tr>\n",
       "\t<tr><th scope=row>31</th><td>Virola-das-ilhas             </td><td>Virola surinamensis       </td><td>*</td><td>Myristicaceae</td><td>VU</td></tr>\n",
       "\t<tr><th scope=row>32</th><td>Virola-das-ilhas             </td><td>Virola surinamensis       </td><td>*</td><td>Myristicaceae</td><td>VU</td></tr>\n",
       "\t<tr><th scope=row>33</th><td>Virola-das-ilhas             </td><td>Virola surinamensis       </td><td>*</td><td>Myristicaceae</td><td>VU</td></tr>\n",
       "\t<tr><th scope=row>34</th><td>Virola-das-ilhas             </td><td>Virola surinamensis       </td><td>*</td><td>Myristicaceae</td><td>VU</td></tr>\n",
       "\t<tr><th scope=row>35</th><td>Virola-das-ilhas             </td><td>Virola surinamensis       </td><td>*</td><td>Myristicaceae</td><td>VU</td></tr>\n",
       "\t<tr><th scope=row>36</th><td>Virola-das-ilhas             </td><td>Virola surinamensis       </td><td>*</td><td>Myristicaceae</td><td>VU</td></tr>\n",
       "\t<tr><th scope=row>37</th><td>Virola-das-ilhas             </td><td>Virola surinamensis       </td><td>*</td><td>Myristicaceae</td><td>VU</td></tr>\n",
       "</tbody>\n",
       "</table>\n"
      ],
      "text/latex": [
       "A data.frame: 37 × 5\n",
       "\\begin{tabular}{r|lllll}\n",
       "  & nome\\_vernacular\\_SFB & especie\\_SFB & port443 & familia & categoria\\\\\n",
       "  & <chr> & <chr> & <chr> & <chr> & <chr>\\\\\n",
       "\\hline\n",
       "\t1 & Cerejeira                     & Amburana cearensis         & * & Fabaceae      & VU\\\\\n",
       "\t2 & Pinheiro-do-paraná            & Araucaria angustifolia     & * & Araucariaceae & EN\\\\\n",
       "\t3 & Pinheiro-do-paraná            & Araucaria angustifolia     & * & Araucariaceae & EN\\\\\n",
       "\t4 & Pinheiro-do-paraná            & Araucaria angustifolia     & * & Araucariaceae & EN\\\\\n",
       "\t5 & Pinheiro-do-paraná            & Araucaria angustifolia     & * & Araucariaceae & EN\\\\\n",
       "\t6 & Pinheiro-do-paraná            & Araucaria angustifolia     & * & Araucariaceae & EN\\\\\n",
       "\t7 & Pinheiro-do-paraná            & Araucaria angustifolia     & * & Araucariaceae & EN\\\\\n",
       "\t8 & Castanheira                   & Bertholletia excelsa       & * & Lecythidaceae & VU\\\\\n",
       "\t9 & Jacarandá-da-bahia            & Dalbergia nigra            & * & Fabaceae      & VU\\\\\n",
       "\t10 & Jacarandá-da-bahia            & Dalbergia nigra            & * & Fabaceae      & VU\\\\\n",
       "\t11 & Jacarandá-da-bahia            & Dalbergia nigra            & * & Fabaceae      & VU\\\\\n",
       "\t12 & Jacarandá-da-bahia            & Dalbergia nigra            & * & Fabaceae      & VU\\\\\n",
       "\t13 & Munguba-grande-da-terra-firme & Eriotheca longipedicellata &   & Malvaceae     & VU\\\\\n",
       "\t14 & Pau-amarelo                   & Euxylophora paraensis      & * & Rutaceae      & EN\\\\\n",
       "\t15 & Pau-amarelo                   & Euxylophora paraensis      & * & Rutaceae      & EN\\\\\n",
       "\t16 & Pau-amarelo                   & Euxylophora paraensis      & * & Rutaceae      & EN\\\\\n",
       "\t17 & Pau-amarelo                   & Euxylophora paraensis      & * & Rutaceae      & EN\\\\\n",
       "\t18 & Angelim-pedra-amarelo         & Hymenolobium excelsum      & * & Fabaceae      & VU\\\\\n",
       "\t19 & Angelim-pedra-amarelo         & Hymenolobium excelsum      & * & Fabaceae      & VU\\\\\n",
       "\t20 & Angelim-pedra-amarelo         & Hymenolobium excelsum      & * & Fabaceae      & VU\\\\\n",
       "\t21 & Itaúba                        & Mezilaurus itauba          & * & Lauraceae     & VU\\\\\n",
       "\t22 & Louro-preto                   & Ocotea fragrantissima      &   & Lauraceae     & EN\\\\\n",
       "\t23 & Louro-preto                   & Ocotea fragrantissima      &   & Lauraceae     & EN\\\\\n",
       "\t24 & Imbuia                        & Ocotea porosa              & * & Lauraceae     & EN\\\\\n",
       "\t25 & Ipê-peroba                    & Paratecoma peroba          & * & Bignoniaceae  & EN\\\\\n",
       "\t26 & Pau-roxo-do-maranhão          & Peltogyne maranhensis      & * & Fabaceae      & VU\\\\\n",
       "\t27 & Virola-das-ilhas              & Virola surinamensis        & * & Myristicaceae & VU\\\\\n",
       "\t28 & Virola-das-ilhas              & Virola surinamensis        & * & Myristicaceae & VU\\\\\n",
       "\t29 & Virola-das-ilhas              & Virola surinamensis        & * & Myristicaceae & VU\\\\\n",
       "\t30 & Virola-das-ilhas              & Virola surinamensis        & * & Myristicaceae & VU\\\\\n",
       "\t31 & Virola-das-ilhas              & Virola surinamensis        & * & Myristicaceae & VU\\\\\n",
       "\t32 & Virola-das-ilhas              & Virola surinamensis        & * & Myristicaceae & VU\\\\\n",
       "\t33 & Virola-das-ilhas              & Virola surinamensis        & * & Myristicaceae & VU\\\\\n",
       "\t34 & Virola-das-ilhas              & Virola surinamensis        & * & Myristicaceae & VU\\\\\n",
       "\t35 & Virola-das-ilhas              & Virola surinamensis        & * & Myristicaceae & VU\\\\\n",
       "\t36 & Virola-das-ilhas              & Virola surinamensis        & * & Myristicaceae & VU\\\\\n",
       "\t37 & Virola-das-ilhas              & Virola surinamensis        & * & Myristicaceae & VU\\\\\n",
       "\\end{tabular}\n"
      ],
      "text/markdown": [
       "\n",
       "A data.frame: 37 × 5\n",
       "\n",
       "| <!--/--> | nome_vernacular_SFB &lt;chr&gt; | especie_SFB &lt;chr&gt; | port443 &lt;chr&gt; | familia &lt;chr&gt; | categoria &lt;chr&gt; |\n",
       "|---|---|---|---|---|---|\n",
       "| 1 | Cerejeira                     | Amburana cearensis         | * | Fabaceae      | VU |\n",
       "| 2 | Pinheiro-do-paraná            | Araucaria angustifolia     | * | Araucariaceae | EN |\n",
       "| 3 | Pinheiro-do-paraná            | Araucaria angustifolia     | * | Araucariaceae | EN |\n",
       "| 4 | Pinheiro-do-paraná            | Araucaria angustifolia     | * | Araucariaceae | EN |\n",
       "| 5 | Pinheiro-do-paraná            | Araucaria angustifolia     | * | Araucariaceae | EN |\n",
       "| 6 | Pinheiro-do-paraná            | Araucaria angustifolia     | * | Araucariaceae | EN |\n",
       "| 7 | Pinheiro-do-paraná            | Araucaria angustifolia     | * | Araucariaceae | EN |\n",
       "| 8 | Castanheira                   | Bertholletia excelsa       | * | Lecythidaceae | VU |\n",
       "| 9 | Jacarandá-da-bahia            | Dalbergia nigra            | * | Fabaceae      | VU |\n",
       "| 10 | Jacarandá-da-bahia            | Dalbergia nigra            | * | Fabaceae      | VU |\n",
       "| 11 | Jacarandá-da-bahia            | Dalbergia nigra            | * | Fabaceae      | VU |\n",
       "| 12 | Jacarandá-da-bahia            | Dalbergia nigra            | * | Fabaceae      | VU |\n",
       "| 13 | Munguba-grande-da-terra-firme | Eriotheca longipedicellata | <!----> | Malvaceae     | VU |\n",
       "| 14 | Pau-amarelo                   | Euxylophora paraensis      | * | Rutaceae      | EN |\n",
       "| 15 | Pau-amarelo                   | Euxylophora paraensis      | * | Rutaceae      | EN |\n",
       "| 16 | Pau-amarelo                   | Euxylophora paraensis      | * | Rutaceae      | EN |\n",
       "| 17 | Pau-amarelo                   | Euxylophora paraensis      | * | Rutaceae      | EN |\n",
       "| 18 | Angelim-pedra-amarelo         | Hymenolobium excelsum      | * | Fabaceae      | VU |\n",
       "| 19 | Angelim-pedra-amarelo         | Hymenolobium excelsum      | * | Fabaceae      | VU |\n",
       "| 20 | Angelim-pedra-amarelo         | Hymenolobium excelsum      | * | Fabaceae      | VU |\n",
       "| 21 | Itaúba                        | Mezilaurus itauba          | * | Lauraceae     | VU |\n",
       "| 22 | Louro-preto                   | Ocotea fragrantissima      | <!----> | Lauraceae     | EN |\n",
       "| 23 | Louro-preto                   | Ocotea fragrantissima      | <!----> | Lauraceae     | EN |\n",
       "| 24 | Imbuia                        | Ocotea porosa              | * | Lauraceae     | EN |\n",
       "| 25 | Ipê-peroba                    | Paratecoma peroba          | * | Bignoniaceae  | EN |\n",
       "| 26 | Pau-roxo-do-maranhão          | Peltogyne maranhensis      | * | Fabaceae      | VU |\n",
       "| 27 | Virola-das-ilhas              | Virola surinamensis        | * | Myristicaceae | VU |\n",
       "| 28 | Virola-das-ilhas              | Virola surinamensis        | * | Myristicaceae | VU |\n",
       "| 29 | Virola-das-ilhas              | Virola surinamensis        | * | Myristicaceae | VU |\n",
       "| 30 | Virola-das-ilhas              | Virola surinamensis        | * | Myristicaceae | VU |\n",
       "| 31 | Virola-das-ilhas              | Virola surinamensis        | * | Myristicaceae | VU |\n",
       "| 32 | Virola-das-ilhas              | Virola surinamensis        | * | Myristicaceae | VU |\n",
       "| 33 | Virola-das-ilhas              | Virola surinamensis        | * | Myristicaceae | VU |\n",
       "| 34 | Virola-das-ilhas              | Virola surinamensis        | * | Myristicaceae | VU |\n",
       "| 35 | Virola-das-ilhas              | Virola surinamensis        | * | Myristicaceae | VU |\n",
       "| 36 | Virola-das-ilhas              | Virola surinamensis        | * | Myristicaceae | VU |\n",
       "| 37 | Virola-das-ilhas              | Virola surinamensis        | * | Myristicaceae | VU |\n",
       "\n"
      ],
      "text/plain": [
       "   nome_vernacular_SFB           especie_SFB                port443\n",
       "1  Cerejeira                     Amburana cearensis         *      \n",
       "2  Pinheiro-do-paraná            Araucaria angustifolia     *      \n",
       "3  Pinheiro-do-paraná            Araucaria angustifolia     *      \n",
       "4  Pinheiro-do-paraná            Araucaria angustifolia     *      \n",
       "5  Pinheiro-do-paraná            Araucaria angustifolia     *      \n",
       "6  Pinheiro-do-paraná            Araucaria angustifolia     *      \n",
       "7  Pinheiro-do-paraná            Araucaria angustifolia     *      \n",
       "8  Castanheira                   Bertholletia excelsa       *      \n",
       "9  Jacarandá-da-bahia            Dalbergia nigra            *      \n",
       "10 Jacarandá-da-bahia            Dalbergia nigra            *      \n",
       "11 Jacarandá-da-bahia            Dalbergia nigra            *      \n",
       "12 Jacarandá-da-bahia            Dalbergia nigra            *      \n",
       "13 Munguba-grande-da-terra-firme Eriotheca longipedicellata        \n",
       "14 Pau-amarelo                   Euxylophora paraensis      *      \n",
       "15 Pau-amarelo                   Euxylophora paraensis      *      \n",
       "16 Pau-amarelo                   Euxylophora paraensis      *      \n",
       "17 Pau-amarelo                   Euxylophora paraensis      *      \n",
       "18 Angelim-pedra-amarelo         Hymenolobium excelsum      *      \n",
       "19 Angelim-pedra-amarelo         Hymenolobium excelsum      *      \n",
       "20 Angelim-pedra-amarelo         Hymenolobium excelsum      *      \n",
       "21 Itaúba                        Mezilaurus itauba          *      \n",
       "22 Louro-preto                   Ocotea fragrantissima             \n",
       "23 Louro-preto                   Ocotea fragrantissima             \n",
       "24 Imbuia                        Ocotea porosa              *      \n",
       "25 Ipê-peroba                    Paratecoma peroba          *      \n",
       "26 Pau-roxo-do-maranhão          Peltogyne maranhensis      *      \n",
       "27 Virola-das-ilhas              Virola surinamensis        *      \n",
       "28 Virola-das-ilhas              Virola surinamensis        *      \n",
       "29 Virola-das-ilhas              Virola surinamensis        *      \n",
       "30 Virola-das-ilhas              Virola surinamensis        *      \n",
       "31 Virola-das-ilhas              Virola surinamensis        *      \n",
       "32 Virola-das-ilhas              Virola surinamensis        *      \n",
       "33 Virola-das-ilhas              Virola surinamensis        *      \n",
       "34 Virola-das-ilhas              Virola surinamensis        *      \n",
       "35 Virola-das-ilhas              Virola surinamensis        *      \n",
       "36 Virola-das-ilhas              Virola surinamensis        *      \n",
       "37 Virola-das-ilhas              Virola surinamensis        *      \n",
       "   familia       categoria\n",
       "1  Fabaceae      VU       \n",
       "2  Araucariaceae EN       \n",
       "3  Araucariaceae EN       \n",
       "4  Araucariaceae EN       \n",
       "5  Araucariaceae EN       \n",
       "6  Araucariaceae EN       \n",
       "7  Araucariaceae EN       \n",
       "8  Lecythidaceae VU       \n",
       "9  Fabaceae      VU       \n",
       "10 Fabaceae      VU       \n",
       "11 Fabaceae      VU       \n",
       "12 Fabaceae      VU       \n",
       "13 Malvaceae     VU       \n",
       "14 Rutaceae      EN       \n",
       "15 Rutaceae      EN       \n",
       "16 Rutaceae      EN       \n",
       "17 Rutaceae      EN       \n",
       "18 Fabaceae      VU       \n",
       "19 Fabaceae      VU       \n",
       "20 Fabaceae      VU       \n",
       "21 Lauraceae     VU       \n",
       "22 Lauraceae     EN       \n",
       "23 Lauraceae     EN       \n",
       "24 Lauraceae     EN       \n",
       "25 Bignoniaceae  EN       \n",
       "26 Fabaceae      VU       \n",
       "27 Myristicaceae VU       \n",
       "28 Myristicaceae VU       \n",
       "29 Myristicaceae VU       \n",
       "30 Myristicaceae VU       \n",
       "31 Myristicaceae VU       \n",
       "32 Myristicaceae VU       \n",
       "33 Myristicaceae VU       \n",
       "34 Myristicaceae VU       \n",
       "35 Myristicaceae VU       \n",
       "36 Myristicaceae VU       \n",
       "37 Myristicaceae VU       "
      ]
     },
     "metadata": {},
     "output_type": "display_data"
    }
   ],
   "source": [
    "head(lista_sp_mad_amecada, 37)"
   ]
  },
  {
   "cell_type": "markdown",
   "id": "a1eaf2a5",
   "metadata": {},
   "source": [
    "## 7. Dados Referentes à Fauna"
   ]
  },
  {
   "cell_type": "markdown",
   "id": "46f97aa1",
   "metadata": {},
   "source": [
    "## 7.1 Extrair apenas os dados referentes à fauna e salvá-los em planilha csv"
   ]
  },
  {
   "cell_type": "code",
   "execution_count": 21,
   "id": "3a2cc64e",
   "metadata": {},
   "outputs": [],
   "source": [
    "# Subset the flora dataframes in the list\n",
    "df_list_fauna <- tab_lst[66:95]\n",
    "    \n",
    "#df_list_fauna <- lapply(df_list_fauna, function(x) { x[!is.na(x)] })\n",
    "    \n",
    "df_fauna <- purrr::reduce(df_list_fauna, rbind)\n",
    "df_fauna <- df_fauna[c(-1, -2), ]     \n",
    "\n",
    "write.csv2(\n",
    "    df_fauna, './port_mma300_2022_fauna.csv', \n",
    "    row.names = FALSE,\n",
    "    fileEncoding = 'latin1')"
   ]
  },
  {
   "cell_type": "code",
   "execution_count": 22,
   "id": "cd488b72",
   "metadata": {},
   "outputs": [
    {
     "name": "stdout",
     "output_type": "stream",
     "text": [
      "\u001b[90m# A tibble: 6 × 6\u001b[39m\n",
      "  n     port443 ordem                    familia      especie_subespe… categoria\n",
      "  \u001b[3m\u001b[90m<chr>\u001b[39m\u001b[23m \u001b[3m\u001b[90m<chr>\u001b[39m\u001b[23m   \u001b[3m\u001b[90m<chr>\u001b[39m\u001b[23m                    \u001b[3m\u001b[90m<chr>\u001b[39m\u001b[23m        \u001b[3m\u001b[90m<chr>\u001b[39m\u001b[23m            \u001b[3m\u001b[90m<chr>\u001b[39m\u001b[23m    \n",
      "\u001b[90m1\u001b[39m \u001b[90m\"\u001b[39m\u001b[90m\"\u001b[39m    \u001b[90m\"\u001b[39m\u001b[90m\"\u001b[39m      INVERTEBRADOS TERRESTRES INVERTEBRAD… INVERTEBRADOS T… \u001b[90m\"\u001b[39m\u001b[90m\"\u001b[39m       \n",
      "\u001b[90m2\u001b[39m \u001b[90m\"\u001b[39m1\u001b[90m\"\u001b[39m   \u001b[90m\"\u001b[39m*\u001b[90m\"\u001b[39m     Amblypygi                Charinidae   Charinus acaraje \u001b[90m\"\u001b[39mVU\u001b[90m\"\u001b[39m     \n",
      "\u001b[90m3\u001b[39m \u001b[90m\"\u001b[39m2\u001b[90m\"\u001b[39m   \u001b[90m\"\u001b[39m*\u001b[90m\"\u001b[39m     Amblypygi                Charinidae   Charinus asturi… \u001b[90m\"\u001b[39mEN\u001b[90m\"\u001b[39m     \n",
      "\u001b[90m4\u001b[39m \u001b[90m\"\u001b[39m3\u001b[90m\"\u001b[39m   \u001b[90m\"\u001b[39m\u001b[90m\"\u001b[39m      Amblypygi                Charinidae   Charinus caatin… \u001b[90m\"\u001b[39mCR\u001b[90m\"\u001b[39m     \n",
      "\u001b[90m5\u001b[39m \u001b[90m\"\u001b[39m4\u001b[90m\"\u001b[39m   \u001b[90m\"\u001b[39m*\u001b[90m\"\u001b[39m     Amblypygi                Charinidae   Charinus eleono… \u001b[90m\"\u001b[39mEN\u001b[90m\"\u001b[39m     \n",
      "\u001b[90m6\u001b[39m \u001b[90m\"\u001b[39m5\u001b[90m\"\u001b[39m   \u001b[90m\"\u001b[39m\u001b[90m\"\u001b[39m      Amblypygi                Charinidae   Charinus ferreus \u001b[90m\"\u001b[39mCR\u001b[90m\"\u001b[39m     \n",
      "\u001b[90m# A tibble: 6 × 6\u001b[39m\n",
      "  n     port443 ordem          familia     especie_subespecie    categoria\n",
      "  \u001b[3m\u001b[90m<chr>\u001b[39m\u001b[23m \u001b[3m\u001b[90m<chr>\u001b[39m\u001b[23m   \u001b[3m\u001b[90m<chr>\u001b[39m\u001b[23m          \u001b[3m\u001b[90m<chr>\u001b[39m\u001b[23m       \u001b[3m\u001b[90m<chr>\u001b[39m\u001b[23m                 \u001b[3m\u001b[90m<chr>\u001b[39m\u001b[23m    \n",
      "\u001b[90m1\u001b[39m \u001b[90m\"\u001b[39m5\u001b[90m\"\u001b[39m   \u001b[90m\"\u001b[39m*\u001b[90m\"\u001b[39m     Passeriformes  Furnariidae Philydor novaesi      \u001b[90m\"\u001b[39mEX\u001b[90m\"\u001b[39m     \n",
      "\u001b[90m2\u001b[39m \u001b[90m\"\u001b[39m6\u001b[90m\"\u001b[39m   \u001b[90m\"\u001b[39m*\u001b[90m\"\u001b[39m     Passeriformes  Icteridae   Leistes defilippii    \u001b[90m\"\u001b[39mRE\u001b[90m\"\u001b[39m     \n",
      "\u001b[90m3\u001b[39m \u001b[90m\"\u001b[39m7\u001b[90m\"\u001b[39m   \u001b[90m\"\u001b[39m*\u001b[90m\"\u001b[39m     Psittaciformes Psittacidae Anodorhynchus glaucus \u001b[90m\"\u001b[39mRE\u001b[90m\"\u001b[39m     \n",
      "\u001b[90m4\u001b[39m \u001b[90m\"\u001b[39m8\u001b[90m\"\u001b[39m   \u001b[90m\"\u001b[39m*\u001b[90m\"\u001b[39m     Strigiformes   Strigidae   Glaucidium mooreorum  \u001b[90m\"\u001b[39mEX\u001b[90m\"\u001b[39m     \n",
      "\u001b[90m5\u001b[39m \u001b[90m\"\u001b[39m\u001b[90m\"\u001b[39m    \u001b[90m\"\u001b[39m\u001b[90m\"\u001b[39m      MAMÍFEROS      MAMÍFEROS   MAMÍFEROS             \u001b[90m\"\u001b[39m\u001b[90m\"\u001b[39m       \n",
      "\u001b[90m6\u001b[39m \u001b[90m\"\u001b[39m9\u001b[90m\"\u001b[39m   \u001b[90m\"\u001b[39m*\u001b[90m\"\u001b[39m     Rodentia       Cricetidae  Noronhomys vespuccii  \u001b[90m\"\u001b[39mEX\u001b[90m\"\u001b[39m     \n"
     ]
    }
   ],
   "source": [
    "print(head(df_fauna))\n",
    "print(tail(df_fauna))"
   ]
  },
  {
   "cell_type": "markdown",
   "id": "88ce4753",
   "metadata": {},
   "source": [
    "## 7.2 Correção dos Nomes Científicos da Fauna "
   ]
  },
  {
   "cell_type": "markdown",
   "id": "fdf95305",
   "metadata": {},
   "source": [
    "<p style=\"text-align:justify\">Asssim como nas tabelas da flora, as da fauna também apresentam erros de grafia nos nomes científico, conforme mostrado na saída do código abaixo.</p>"
   ]
  },
  {
   "cell_type": "code",
   "execution_count": 23,
   "id": "0ec9b9ae",
   "metadata": {},
   "outputs": [
    {
     "data": {
      "text/html": [
       "<table class=\"dataframe\">\n",
       "<caption>A data.frame: 235 × 6</caption>\n",
       "<thead>\n",
       "\t<tr><th></th><th scope=col>n</th><th scope=col>port443</th><th scope=col>ordem</th><th scope=col>familia</th><th scope=col>especie_subespecie</th><th scope=col>categoria</th></tr>\n",
       "\t<tr><th></th><th scope=col>&lt;chr&gt;</th><th scope=col>&lt;chr&gt;</th><th scope=col>&lt;chr&gt;</th><th scope=col>&lt;chr&gt;</th><th scope=col>&lt;chr&gt;</th><th scope=col>&lt;chr&gt;</th></tr>\n",
       "</thead>\n",
       "<tbody>\n",
       "\t<tr><th scope=row>20</th><td>19 </td><td>*</td><td>Araneae         </td><td>Ochyroceratidae </td><td>Ochyroceraibitipoca       </td><td>EN</td></tr>\n",
       "\t<tr><th scope=row>28</th><td>27 </td><td>*</td><td>Araneae         </td><td>Theraphosidae   </td><td>Dolichothelediamantinensis</td><td>EN</td></tr>\n",
       "\t<tr><th scope=row>30</th><td>29 </td><td>*</td><td>Araneae         </td><td>Theraphosidae   </td><td>Tmesiphanteshypogeus      </td><td>CR</td></tr>\n",
       "\t<tr><th scope=row>32</th><td>31 </td><td>*</td><td>Araneae         </td><td>Theraphosidae   </td><td>Typhochlaenaseladonia     </td><td>EN</td></tr>\n",
       "\t<tr><th scope=row>33</th><td>32 </td><td>*</td><td>Araneae         </td><td>Theraphosidae   </td><td>Ybyraporadiversipes       </td><td>EN</td></tr>\n",
       "\t<tr><th scope=row>38</th><td>37 </td><td> </td><td>Coleoptera      </td><td>Carabidae       </td><td>Coarazuphiumamazonicus    </td><td>CR</td></tr>\n",
       "\t<tr><th scope=row>41</th><td>40 </td><td>*</td><td>Coleoptera      </td><td>Carabidae       </td><td>Coarazuphiumformoso       </td><td>CR</td></tr>\n",
       "\t<tr><th scope=row>44</th><td>43 </td><td> </td><td>Coleoptera      </td><td>Carabidae       </td><td>Coarazuphiumspinifemur    </td><td>CR</td></tr>\n",
       "\t<tr><th scope=row>47</th><td>46 </td><td>*</td><td>Coleoptera      </td><td>Carabidae       </td><td>Schizogeniusocellatus     </td><td>EN</td></tr>\n",
       "\t<tr><th scope=row>58</th><td>57 </td><td>*</td><td>Coleoptera      </td><td>Lycidae         </td><td>Lycomorphonbrasiliense    </td><td>CR</td></tr>\n",
       "\t<tr><th scope=row>61</th><td>60 </td><td>*</td><td>Coleoptera      </td><td>Scarabaeidae    </td><td>Canthonquadripunctatus    </td><td>VU</td></tr>\n",
       "\t<tr><th scope=row>64</th><td>63 </td><td>*</td><td>Coleoptera      </td><td>Scarabaeidae    </td><td>Dichotomiusschiffleri     </td><td>EN</td></tr>\n",
       "\t<tr><th scope=row>67</th><td>66 </td><td>*</td><td>Coleoptera      </td><td>Vesperidae      </td><td>Hypocephalusarmatus       </td><td>VU</td></tr>\n",
       "\t<tr><th scope=row>73</th><td>72 </td><td>*</td><td>Collembola      </td><td>Paronellidae    </td><td>Troglobiusbrasiliensis    </td><td>CR</td></tr>\n",
       "\t<tr><th scope=row>75</th><td>74 </td><td>*</td><td>Collembola      </td><td>Paronellidae    </td><td>Trogolaphysaaelleni       </td><td>CR</td></tr>\n",
       "\t<tr><th scope=row>84</th><td>83 </td><td> </td><td>Entomobryomorpha</td><td>Entomobryidae   </td><td>Seirapseudoannulata       </td><td>EN</td></tr>\n",
       "\t<tr><th scope=row>93</th><td>92 </td><td>*</td><td>Euonychophora   </td><td>Peripatidae     </td><td>Epiperipatusadenocryptus  </td><td>CR</td></tr>\n",
       "\t<tr><th scope=row>94</th><td>93 </td><td>*</td><td>Euonychophora   </td><td>Peripatidae     </td><td>Epiperipatusdiadenoproctus</td><td>VU</td></tr>\n",
       "\t<tr><th scope=row>96</th><td>95 </td><td>*</td><td>Euonychophora   </td><td>Peripatidae     </td><td>Epiperipatuspaurognostus  </td><td>CR</td></tr>\n",
       "\t<tr><th scope=row>99</th><td>98 </td><td>*</td><td>Haplotaxida     </td><td>Glossoscolecidae</td><td>Fimoscolexsporadochaetus  </td><td>EN</td></tr>\n",
       "\t<tr><th scope=row>110</th><td>109</td><td>*</td><td>Hymenoptera     </td><td>Formicidae      </td><td>Diaphoromyrmasofiae       </td><td>EN</td></tr>\n",
       "\t<tr><th scope=row>127</th><td>126</td><td> </td><td>Isopoda         </td><td>Styloniscidae   </td><td>Xangoniscusitacarambiensis</td><td>CR</td></tr>\n",
       "\t<tr><th scope=row>143</th><td>142</td><td>*</td><td>Lepidoptera     </td><td>Nymphalidae     </td><td>Dasyophthalmageraensis    </td><td>CR</td></tr>\n",
       "\t<tr><th scope=row>150</th><td>149</td><td> </td><td>Lepidoptera     </td><td>Nymphalidae     </td><td>Forsterinariaitatiaia     </td><td>VU</td></tr>\n",
       "\t<tr><th scope=row>159</th><td>158</td><td>*</td><td>Lepidoptera     </td><td>Nymphalidae     </td><td>Orobrassolisornamentalis  </td><td>CR</td></tr>\n",
       "\t<tr><th scope=row>171</th><td>170</td><td> </td><td>Lepidoptera     </td><td>Nymphalidae     </td><td>Yphthimoidesiserhardi     </td><td>EN</td></tr>\n",
       "\t<tr><th scope=row>196</th><td>195</td><td>*</td><td>Opiliones       </td><td>Escadabiidae    </td><td>Spaeleoleptesspaeleus     </td><td>EN</td></tr>\n",
       "\t<tr><th scope=row>198</th><td>197</td><td> </td><td>Opiliones       </td><td>Gonyleptidae    </td><td>Discocyrtuspedrosoi       </td><td>VU</td></tr>\n",
       "\t<tr><th scope=row>207</th><td>206</td><td> </td><td>Orthoptera      </td><td>Phalangopsidae  </td><td>Endecousperuassuensis     </td><td>EN</td></tr>\n",
       "\t<tr><th scope=row>210</th><td>209</td><td> </td><td>Palpigradi      </td><td>Eukoeneniidae   </td><td>Eukoeneniajequitinhonha   </td><td>CR</td></tr>\n",
       "\t<tr><th scope=row>⋮</th><td>⋮</td><td>⋮</td><td>⋮</td><td>⋮</td><td>⋮</td><td>⋮</td></tr>\n",
       "\t<tr><th scope=row>1089</th><td>316</td><td>*</td><td>Gymnotiformes  </td><td>Apteronotidae    </td><td>Sternarchorhynchusmareikeae    </td><td>VU</td></tr>\n",
       "\t<tr><th scope=row>1090</th><td>317</td><td>*</td><td>Gymnotiformes  </td><td>Apteronotidae    </td><td>Sternarchorhynchusseverii      </td><td>VU</td></tr>\n",
       "\t<tr><th scope=row>1091</th><td>318</td><td>*</td><td>Gymnotiformes  </td><td>Apteronotidae    </td><td>Sternarchorhynchusvillasboasi  </td><td>EN</td></tr>\n",
       "\t<tr><th scope=row>1110</th><td>337</td><td>*</td><td>Perciformes    </td><td>Cichlidae        </td><td>Crenicichlahadrostigma         </td><td>VU</td></tr>\n",
       "\t<tr><th scope=row>1113</th><td>340</td><td>*</td><td>Perciformes    </td><td>Cichlidae        </td><td>Crenicichlajupiaensis          </td><td>EN</td></tr>\n",
       "\t<tr><th scope=row>1117</th><td>344</td><td>*</td><td>Perciformes    </td><td>Cichlidae        </td><td>Teleocichlaprionogenys         </td><td>VU</td></tr>\n",
       "\t<tr><th scope=row>1134</th><td>361</td><td>*</td><td>Perciformes    </td><td>Pomacentridae    </td><td>Stegastessanctipauli           </td><td>VU</td></tr>\n",
       "\t<tr><th scope=row>1143</th><td>370</td><td>*</td><td>Perciformes    </td><td>Serranidae       </td><td>Choranthiassalmopunctatus      </td><td>VU</td></tr>\n",
       "\t<tr><th scope=row>1144</th><td>371</td><td>*</td><td>Perciformes    </td><td>Serranidae       </td><td>Hyporthodusnigritus            </td><td>EN</td></tr>\n",
       "\t<tr><th scope=row>1145</th><td>372</td><td>*</td><td>Perciformes    </td><td>Serranidae       </td><td>Hyporthodusniveatus            </td><td>VU</td></tr>\n",
       "\t<tr><th scope=row>1170</th><td>397</td><td>*</td><td>Rajiformes     </td><td>Rajidae          </td><td>Sympterygiabonapartii          </td><td>EN</td></tr>\n",
       "\t<tr><th scope=row>1173</th><td>400</td><td>*</td><td>Rajiformes     </td><td>Rhinobatidae     </td><td>Zapteryxbrevirostris           </td><td>VU</td></tr>\n",
       "\t<tr><th scope=row>1175</th><td>402</td><td>*</td><td>Scorpaeniformes</td><td>Scorpaenidae     </td><td>Scorpaenodesinsularis          </td><td>VU</td></tr>\n",
       "\t<tr><th scope=row>1184</th><td>411</td><td>*</td><td>Siluriformes   </td><td>Heptapteridae    </td><td>Chasmocranusbrachynemus        </td><td>EN</td></tr>\n",
       "\t<tr><th scope=row>1203</th><td>430</td><td> </td><td>Siluriformes   </td><td>Loricariidae     </td><td>Hypostomussubcarinatus         </td><td>CR</td></tr>\n",
       "\t<tr><th scope=row>1205</th><td>432</td><td>*</td><td>Siluriformes   </td><td>Loricariidae     </td><td>Leporacanthicusjoselimai       </td><td>VU</td></tr>\n",
       "\t<tr><th scope=row>1220</th><td>447</td><td>*</td><td>Siluriformes   </td><td>Loricariidae     </td><td>Scobinancistrusaureatus        </td><td>VU</td></tr>\n",
       "\t<tr><th scope=row>1221</th><td>448</td><td>*</td><td>Siluriformes   </td><td>Loricariidae     </td><td>Scobinancistruspariolispos     </td><td>VU</td></tr>\n",
       "\t<tr><th scope=row>1227</th><td>454</td><td>*</td><td>Siluriformes   </td><td>Pimelodidae      </td><td>Steindachneridionamblyurum     </td><td>CR</td></tr>\n",
       "\t<tr><th scope=row>1228</th><td>455</td><td>*</td><td>Siluriformes   </td><td>Pimelodidae      </td><td>Steindachneridiondoceanum      </td><td>CR</td></tr>\n",
       "\t<tr><th scope=row>1229</th><td>456</td><td>*</td><td>Siluriformes   </td><td>Pimelodidae      </td><td>Steindachneridionmelanodermatum</td><td>EN</td></tr>\n",
       "\t<tr><th scope=row>1230</th><td>457</td><td>*</td><td>Siluriformes   </td><td>Pimelodidae      </td><td>Steindachneridionparahybae     </td><td>EN</td></tr>\n",
       "\t<tr><th scope=row>1231</th><td>458</td><td>*</td><td>Siluriformes   </td><td>Pimelodidae      </td><td>Steindachneridionscriptum      </td><td>EN</td></tr>\n",
       "\t<tr><th scope=row>1232</th><td>459</td><td>*</td><td>Siluriformes   </td><td>Pseudopimelodidae</td><td>Lophiosilurusalexandri         </td><td>VU</td></tr>\n",
       "\t<tr><th scope=row>1250</th><td>477</td><td>*</td><td>Siluriformes   </td><td>Trichomycteridae </td><td>Listruranematopteryx           </td><td>CR</td></tr>\n",
       "\t<tr><th scope=row>1254</th><td>481</td><td>*</td><td>Siluriformes   </td><td>Trichomycteridae </td><td>Trichomycterusitacarambiensis  </td><td>CR</td></tr>\n",
       "\t<tr><th scope=row>1261</th><td>488</td><td>*</td><td>Syngnathiformes</td><td>Syngnathidae     </td><td>Hippocampuspatagonicus         </td><td>VU</td></tr>\n",
       "\t<tr><th scope=row>1266</th><td>   </td><td> </td><td>ANFÍBIOS       </td><td>ANFÍBIOS         </td><td>ANFÍBIOS                       </td><td>  </td></tr>\n",
       "\t<tr><th scope=row>1269</th><td>   </td><td> </td><td>AVES           </td><td>AVES             </td><td>AVES                           </td><td>  </td></tr>\n",
       "\t<tr><th scope=row>1276</th><td>   </td><td> </td><td>MAMÍFEROS      </td><td>MAMÍFEROS        </td><td>MAMÍFEROS                      </td><td>  </td></tr>\n",
       "</tbody>\n",
       "</table>\n"
      ],
      "text/latex": [
       "A data.frame: 235 × 6\n",
       "\\begin{tabular}{r|llllll}\n",
       "  & n & port443 & ordem & familia & especie\\_subespecie & categoria\\\\\n",
       "  & <chr> & <chr> & <chr> & <chr> & <chr> & <chr>\\\\\n",
       "\\hline\n",
       "\t20 & 19  & * & Araneae          & Ochyroceratidae  & Ochyroceraibitipoca        & EN\\\\\n",
       "\t28 & 27  & * & Araneae          & Theraphosidae    & Dolichothelediamantinensis & EN\\\\\n",
       "\t30 & 29  & * & Araneae          & Theraphosidae    & Tmesiphanteshypogeus       & CR\\\\\n",
       "\t32 & 31  & * & Araneae          & Theraphosidae    & Typhochlaenaseladonia      & EN\\\\\n",
       "\t33 & 32  & * & Araneae          & Theraphosidae    & Ybyraporadiversipes        & EN\\\\\n",
       "\t38 & 37  &   & Coleoptera       & Carabidae        & Coarazuphiumamazonicus     & CR\\\\\n",
       "\t41 & 40  & * & Coleoptera       & Carabidae        & Coarazuphiumformoso        & CR\\\\\n",
       "\t44 & 43  &   & Coleoptera       & Carabidae        & Coarazuphiumspinifemur     & CR\\\\\n",
       "\t47 & 46  & * & Coleoptera       & Carabidae        & Schizogeniusocellatus      & EN\\\\\n",
       "\t58 & 57  & * & Coleoptera       & Lycidae          & Lycomorphonbrasiliense     & CR\\\\\n",
       "\t61 & 60  & * & Coleoptera       & Scarabaeidae     & Canthonquadripunctatus     & VU\\\\\n",
       "\t64 & 63  & * & Coleoptera       & Scarabaeidae     & Dichotomiusschiffleri      & EN\\\\\n",
       "\t67 & 66  & * & Coleoptera       & Vesperidae       & Hypocephalusarmatus        & VU\\\\\n",
       "\t73 & 72  & * & Collembola       & Paronellidae     & Troglobiusbrasiliensis     & CR\\\\\n",
       "\t75 & 74  & * & Collembola       & Paronellidae     & Trogolaphysaaelleni        & CR\\\\\n",
       "\t84 & 83  &   & Entomobryomorpha & Entomobryidae    & Seirapseudoannulata        & EN\\\\\n",
       "\t93 & 92  & * & Euonychophora    & Peripatidae      & Epiperipatusadenocryptus   & CR\\\\\n",
       "\t94 & 93  & * & Euonychophora    & Peripatidae      & Epiperipatusdiadenoproctus & VU\\\\\n",
       "\t96 & 95  & * & Euonychophora    & Peripatidae      & Epiperipatuspaurognostus   & CR\\\\\n",
       "\t99 & 98  & * & Haplotaxida      & Glossoscolecidae & Fimoscolexsporadochaetus   & EN\\\\\n",
       "\t110 & 109 & * & Hymenoptera      & Formicidae       & Diaphoromyrmasofiae        & EN\\\\\n",
       "\t127 & 126 &   & Isopoda          & Styloniscidae    & Xangoniscusitacarambiensis & CR\\\\\n",
       "\t143 & 142 & * & Lepidoptera      & Nymphalidae      & Dasyophthalmageraensis     & CR\\\\\n",
       "\t150 & 149 &   & Lepidoptera      & Nymphalidae      & Forsterinariaitatiaia      & VU\\\\\n",
       "\t159 & 158 & * & Lepidoptera      & Nymphalidae      & Orobrassolisornamentalis   & CR\\\\\n",
       "\t171 & 170 &   & Lepidoptera      & Nymphalidae      & Yphthimoidesiserhardi      & EN\\\\\n",
       "\t196 & 195 & * & Opiliones        & Escadabiidae     & Spaeleoleptesspaeleus      & EN\\\\\n",
       "\t198 & 197 &   & Opiliones        & Gonyleptidae     & Discocyrtuspedrosoi        & VU\\\\\n",
       "\t207 & 206 &   & Orthoptera       & Phalangopsidae   & Endecousperuassuensis      & EN\\\\\n",
       "\t210 & 209 &   & Palpigradi       & Eukoeneniidae    & Eukoeneniajequitinhonha    & CR\\\\\n",
       "\t⋮ & ⋮ & ⋮ & ⋮ & ⋮ & ⋮ & ⋮\\\\\n",
       "\t1089 & 316 & * & Gymnotiformes   & Apteronotidae     & Sternarchorhynchusmareikeae     & VU\\\\\n",
       "\t1090 & 317 & * & Gymnotiformes   & Apteronotidae     & Sternarchorhynchusseverii       & VU\\\\\n",
       "\t1091 & 318 & * & Gymnotiformes   & Apteronotidae     & Sternarchorhynchusvillasboasi   & EN\\\\\n",
       "\t1110 & 337 & * & Perciformes     & Cichlidae         & Crenicichlahadrostigma          & VU\\\\\n",
       "\t1113 & 340 & * & Perciformes     & Cichlidae         & Crenicichlajupiaensis           & EN\\\\\n",
       "\t1117 & 344 & * & Perciformes     & Cichlidae         & Teleocichlaprionogenys          & VU\\\\\n",
       "\t1134 & 361 & * & Perciformes     & Pomacentridae     & Stegastessanctipauli            & VU\\\\\n",
       "\t1143 & 370 & * & Perciformes     & Serranidae        & Choranthiassalmopunctatus       & VU\\\\\n",
       "\t1144 & 371 & * & Perciformes     & Serranidae        & Hyporthodusnigritus             & EN\\\\\n",
       "\t1145 & 372 & * & Perciformes     & Serranidae        & Hyporthodusniveatus             & VU\\\\\n",
       "\t1170 & 397 & * & Rajiformes      & Rajidae           & Sympterygiabonapartii           & EN\\\\\n",
       "\t1173 & 400 & * & Rajiformes      & Rhinobatidae      & Zapteryxbrevirostris            & VU\\\\\n",
       "\t1175 & 402 & * & Scorpaeniformes & Scorpaenidae      & Scorpaenodesinsularis           & VU\\\\\n",
       "\t1184 & 411 & * & Siluriformes    & Heptapteridae     & Chasmocranusbrachynemus         & EN\\\\\n",
       "\t1203 & 430 &   & Siluriformes    & Loricariidae      & Hypostomussubcarinatus          & CR\\\\\n",
       "\t1205 & 432 & * & Siluriformes    & Loricariidae      & Leporacanthicusjoselimai        & VU\\\\\n",
       "\t1220 & 447 & * & Siluriformes    & Loricariidae      & Scobinancistrusaureatus         & VU\\\\\n",
       "\t1221 & 448 & * & Siluriformes    & Loricariidae      & Scobinancistruspariolispos      & VU\\\\\n",
       "\t1227 & 454 & * & Siluriformes    & Pimelodidae       & Steindachneridionamblyurum      & CR\\\\\n",
       "\t1228 & 455 & * & Siluriformes    & Pimelodidae       & Steindachneridiondoceanum       & CR\\\\\n",
       "\t1229 & 456 & * & Siluriformes    & Pimelodidae       & Steindachneridionmelanodermatum & EN\\\\\n",
       "\t1230 & 457 & * & Siluriformes    & Pimelodidae       & Steindachneridionparahybae      & EN\\\\\n",
       "\t1231 & 458 & * & Siluriformes    & Pimelodidae       & Steindachneridionscriptum       & EN\\\\\n",
       "\t1232 & 459 & * & Siluriformes    & Pseudopimelodidae & Lophiosilurusalexandri          & VU\\\\\n",
       "\t1250 & 477 & * & Siluriformes    & Trichomycteridae  & Listruranematopteryx            & CR\\\\\n",
       "\t1254 & 481 & * & Siluriformes    & Trichomycteridae  & Trichomycterusitacarambiensis   & CR\\\\\n",
       "\t1261 & 488 & * & Syngnathiformes & Syngnathidae      & Hippocampuspatagonicus          & VU\\\\\n",
       "\t1266 &     &   & ANFÍBIOS        & ANFÍBIOS          & ANFÍBIOS                        &   \\\\\n",
       "\t1269 &     &   & AVES            & AVES              & AVES                            &   \\\\\n",
       "\t1276 &     &   & MAMÍFEROS       & MAMÍFEROS         & MAMÍFEROS                       &   \\\\\n",
       "\\end{tabular}\n"
      ],
      "text/markdown": [
       "\n",
       "A data.frame: 235 × 6\n",
       "\n",
       "| <!--/--> | n &lt;chr&gt; | port443 &lt;chr&gt; | ordem &lt;chr&gt; | familia &lt;chr&gt; | especie_subespecie &lt;chr&gt; | categoria &lt;chr&gt; |\n",
       "|---|---|---|---|---|---|---|\n",
       "| 20 | 19  | * | Araneae          | Ochyroceratidae  | Ochyroceraibitipoca        | EN |\n",
       "| 28 | 27  | * | Araneae          | Theraphosidae    | Dolichothelediamantinensis | EN |\n",
       "| 30 | 29  | * | Araneae          | Theraphosidae    | Tmesiphanteshypogeus       | CR |\n",
       "| 32 | 31  | * | Araneae          | Theraphosidae    | Typhochlaenaseladonia      | EN |\n",
       "| 33 | 32  | * | Araneae          | Theraphosidae    | Ybyraporadiversipes        | EN |\n",
       "| 38 | 37  | <!----> | Coleoptera       | Carabidae        | Coarazuphiumamazonicus     | CR |\n",
       "| 41 | 40  | * | Coleoptera       | Carabidae        | Coarazuphiumformoso        | CR |\n",
       "| 44 | 43  | <!----> | Coleoptera       | Carabidae        | Coarazuphiumspinifemur     | CR |\n",
       "| 47 | 46  | * | Coleoptera       | Carabidae        | Schizogeniusocellatus      | EN |\n",
       "| 58 | 57  | * | Coleoptera       | Lycidae          | Lycomorphonbrasiliense     | CR |\n",
       "| 61 | 60  | * | Coleoptera       | Scarabaeidae     | Canthonquadripunctatus     | VU |\n",
       "| 64 | 63  | * | Coleoptera       | Scarabaeidae     | Dichotomiusschiffleri      | EN |\n",
       "| 67 | 66  | * | Coleoptera       | Vesperidae       | Hypocephalusarmatus        | VU |\n",
       "| 73 | 72  | * | Collembola       | Paronellidae     | Troglobiusbrasiliensis     | CR |\n",
       "| 75 | 74  | * | Collembola       | Paronellidae     | Trogolaphysaaelleni        | CR |\n",
       "| 84 | 83  | <!----> | Entomobryomorpha | Entomobryidae    | Seirapseudoannulata        | EN |\n",
       "| 93 | 92  | * | Euonychophora    | Peripatidae      | Epiperipatusadenocryptus   | CR |\n",
       "| 94 | 93  | * | Euonychophora    | Peripatidae      | Epiperipatusdiadenoproctus | VU |\n",
       "| 96 | 95  | * | Euonychophora    | Peripatidae      | Epiperipatuspaurognostus   | CR |\n",
       "| 99 | 98  | * | Haplotaxida      | Glossoscolecidae | Fimoscolexsporadochaetus   | EN |\n",
       "| 110 | 109 | * | Hymenoptera      | Formicidae       | Diaphoromyrmasofiae        | EN |\n",
       "| 127 | 126 | <!----> | Isopoda          | Styloniscidae    | Xangoniscusitacarambiensis | CR |\n",
       "| 143 | 142 | * | Lepidoptera      | Nymphalidae      | Dasyophthalmageraensis     | CR |\n",
       "| 150 | 149 | <!----> | Lepidoptera      | Nymphalidae      | Forsterinariaitatiaia      | VU |\n",
       "| 159 | 158 | * | Lepidoptera      | Nymphalidae      | Orobrassolisornamentalis   | CR |\n",
       "| 171 | 170 | <!----> | Lepidoptera      | Nymphalidae      | Yphthimoidesiserhardi      | EN |\n",
       "| 196 | 195 | * | Opiliones        | Escadabiidae     | Spaeleoleptesspaeleus      | EN |\n",
       "| 198 | 197 | <!----> | Opiliones        | Gonyleptidae     | Discocyrtuspedrosoi        | VU |\n",
       "| 207 | 206 | <!----> | Orthoptera       | Phalangopsidae   | Endecousperuassuensis      | EN |\n",
       "| 210 | 209 | <!----> | Palpigradi       | Eukoeneniidae    | Eukoeneniajequitinhonha    | CR |\n",
       "| ⋮ | ⋮ | ⋮ | ⋮ | ⋮ | ⋮ | ⋮ |\n",
       "| 1089 | 316 | * | Gymnotiformes   | Apteronotidae     | Sternarchorhynchusmareikeae     | VU |\n",
       "| 1090 | 317 | * | Gymnotiformes   | Apteronotidae     | Sternarchorhynchusseverii       | VU |\n",
       "| 1091 | 318 | * | Gymnotiformes   | Apteronotidae     | Sternarchorhynchusvillasboasi   | EN |\n",
       "| 1110 | 337 | * | Perciformes     | Cichlidae         | Crenicichlahadrostigma          | VU |\n",
       "| 1113 | 340 | * | Perciformes     | Cichlidae         | Crenicichlajupiaensis           | EN |\n",
       "| 1117 | 344 | * | Perciformes     | Cichlidae         | Teleocichlaprionogenys          | VU |\n",
       "| 1134 | 361 | * | Perciformes     | Pomacentridae     | Stegastessanctipauli            | VU |\n",
       "| 1143 | 370 | * | Perciformes     | Serranidae        | Choranthiassalmopunctatus       | VU |\n",
       "| 1144 | 371 | * | Perciformes     | Serranidae        | Hyporthodusnigritus             | EN |\n",
       "| 1145 | 372 | * | Perciformes     | Serranidae        | Hyporthodusniveatus             | VU |\n",
       "| 1170 | 397 | * | Rajiformes      | Rajidae           | Sympterygiabonapartii           | EN |\n",
       "| 1173 | 400 | * | Rajiformes      | Rhinobatidae      | Zapteryxbrevirostris            | VU |\n",
       "| 1175 | 402 | * | Scorpaeniformes | Scorpaenidae      | Scorpaenodesinsularis           | VU |\n",
       "| 1184 | 411 | * | Siluriformes    | Heptapteridae     | Chasmocranusbrachynemus         | EN |\n",
       "| 1203 | 430 | <!----> | Siluriformes    | Loricariidae      | Hypostomussubcarinatus          | CR |\n",
       "| 1205 | 432 | * | Siluriformes    | Loricariidae      | Leporacanthicusjoselimai        | VU |\n",
       "| 1220 | 447 | * | Siluriformes    | Loricariidae      | Scobinancistrusaureatus         | VU |\n",
       "| 1221 | 448 | * | Siluriformes    | Loricariidae      | Scobinancistruspariolispos      | VU |\n",
       "| 1227 | 454 | * | Siluriformes    | Pimelodidae       | Steindachneridionamblyurum      | CR |\n",
       "| 1228 | 455 | * | Siluriformes    | Pimelodidae       | Steindachneridiondoceanum       | CR |\n",
       "| 1229 | 456 | * | Siluriformes    | Pimelodidae       | Steindachneridionmelanodermatum | EN |\n",
       "| 1230 | 457 | * | Siluriformes    | Pimelodidae       | Steindachneridionparahybae      | EN |\n",
       "| 1231 | 458 | * | Siluriformes    | Pimelodidae       | Steindachneridionscriptum       | EN |\n",
       "| 1232 | 459 | * | Siluriformes    | Pseudopimelodidae | Lophiosilurusalexandri          | VU |\n",
       "| 1250 | 477 | * | Siluriformes    | Trichomycteridae  | Listruranematopteryx            | CR |\n",
       "| 1254 | 481 | * | Siluriformes    | Trichomycteridae  | Trichomycterusitacarambiensis   | CR |\n",
       "| 1261 | 488 | * | Syngnathiformes | Syngnathidae      | Hippocampuspatagonicus          | VU |\n",
       "| 1266 | <!----> | <!----> | ANFÍBIOS        | ANFÍBIOS          | ANFÍBIOS                        | <!----> |\n",
       "| 1269 | <!----> | <!----> | AVES            | AVES              | AVES                            | <!----> |\n",
       "| 1276 | <!----> | <!----> | MAMÍFEROS       | MAMÍFEROS         | MAMÍFEROS                       | <!----> |\n",
       "\n"
      ],
      "text/plain": [
       "     n   port443 ordem            familia          \n",
       "20   19  *       Araneae          Ochyroceratidae  \n",
       "28   27  *       Araneae          Theraphosidae    \n",
       "30   29  *       Araneae          Theraphosidae    \n",
       "32   31  *       Araneae          Theraphosidae    \n",
       "33   32  *       Araneae          Theraphosidae    \n",
       "38   37          Coleoptera       Carabidae        \n",
       "41   40  *       Coleoptera       Carabidae        \n",
       "44   43          Coleoptera       Carabidae        \n",
       "47   46  *       Coleoptera       Carabidae        \n",
       "58   57  *       Coleoptera       Lycidae          \n",
       "61   60  *       Coleoptera       Scarabaeidae     \n",
       "64   63  *       Coleoptera       Scarabaeidae     \n",
       "67   66  *       Coleoptera       Vesperidae       \n",
       "73   72  *       Collembola       Paronellidae     \n",
       "75   74  *       Collembola       Paronellidae     \n",
       "84   83          Entomobryomorpha Entomobryidae    \n",
       "93   92  *       Euonychophora    Peripatidae      \n",
       "94   93  *       Euonychophora    Peripatidae      \n",
       "96   95  *       Euonychophora    Peripatidae      \n",
       "99   98  *       Haplotaxida      Glossoscolecidae \n",
       "110  109 *       Hymenoptera      Formicidae       \n",
       "127  126         Isopoda          Styloniscidae    \n",
       "143  142 *       Lepidoptera      Nymphalidae      \n",
       "150  149         Lepidoptera      Nymphalidae      \n",
       "159  158 *       Lepidoptera      Nymphalidae      \n",
       "171  170         Lepidoptera      Nymphalidae      \n",
       "196  195 *       Opiliones        Escadabiidae     \n",
       "198  197         Opiliones        Gonyleptidae     \n",
       "207  206         Orthoptera       Phalangopsidae   \n",
       "210  209         Palpigradi       Eukoeneniidae    \n",
       "⋮    ⋮   ⋮       ⋮                ⋮                \n",
       "1089 316 *       Gymnotiformes    Apteronotidae    \n",
       "1090 317 *       Gymnotiformes    Apteronotidae    \n",
       "1091 318 *       Gymnotiformes    Apteronotidae    \n",
       "1110 337 *       Perciformes      Cichlidae        \n",
       "1113 340 *       Perciformes      Cichlidae        \n",
       "1117 344 *       Perciformes      Cichlidae        \n",
       "1134 361 *       Perciformes      Pomacentridae    \n",
       "1143 370 *       Perciformes      Serranidae       \n",
       "1144 371 *       Perciformes      Serranidae       \n",
       "1145 372 *       Perciformes      Serranidae       \n",
       "1170 397 *       Rajiformes       Rajidae          \n",
       "1173 400 *       Rajiformes       Rhinobatidae     \n",
       "1175 402 *       Scorpaeniformes  Scorpaenidae     \n",
       "1184 411 *       Siluriformes     Heptapteridae    \n",
       "1203 430         Siluriformes     Loricariidae     \n",
       "1205 432 *       Siluriformes     Loricariidae     \n",
       "1220 447 *       Siluriformes     Loricariidae     \n",
       "1221 448 *       Siluriformes     Loricariidae     \n",
       "1227 454 *       Siluriformes     Pimelodidae      \n",
       "1228 455 *       Siluriformes     Pimelodidae      \n",
       "1229 456 *       Siluriformes     Pimelodidae      \n",
       "1230 457 *       Siluriformes     Pimelodidae      \n",
       "1231 458 *       Siluriformes     Pimelodidae      \n",
       "1232 459 *       Siluriformes     Pseudopimelodidae\n",
       "1250 477 *       Siluriformes     Trichomycteridae \n",
       "1254 481 *       Siluriformes     Trichomycteridae \n",
       "1261 488 *       Syngnathiformes  Syngnathidae     \n",
       "1266             ANFÍBIOS         ANFÍBIOS         \n",
       "1269             AVES             AVES             \n",
       "1276             MAMÍFEROS        MAMÍFEROS        \n",
       "     especie_subespecie              categoria\n",
       "20   Ochyroceraibitipoca             EN       \n",
       "28   Dolichothelediamantinensis      EN       \n",
       "30   Tmesiphanteshypogeus            CR       \n",
       "32   Typhochlaenaseladonia           EN       \n",
       "33   Ybyraporadiversipes             EN       \n",
       "38   Coarazuphiumamazonicus          CR       \n",
       "41   Coarazuphiumformoso             CR       \n",
       "44   Coarazuphiumspinifemur          CR       \n",
       "47   Schizogeniusocellatus           EN       \n",
       "58   Lycomorphonbrasiliense          CR       \n",
       "61   Canthonquadripunctatus          VU       \n",
       "64   Dichotomiusschiffleri           EN       \n",
       "67   Hypocephalusarmatus             VU       \n",
       "73   Troglobiusbrasiliensis          CR       \n",
       "75   Trogolaphysaaelleni             CR       \n",
       "84   Seirapseudoannulata             EN       \n",
       "93   Epiperipatusadenocryptus        CR       \n",
       "94   Epiperipatusdiadenoproctus      VU       \n",
       "96   Epiperipatuspaurognostus        CR       \n",
       "99   Fimoscolexsporadochaetus        EN       \n",
       "110  Diaphoromyrmasofiae             EN       \n",
       "127  Xangoniscusitacarambiensis      CR       \n",
       "143  Dasyophthalmageraensis          CR       \n",
       "150  Forsterinariaitatiaia           VU       \n",
       "159  Orobrassolisornamentalis        CR       \n",
       "171  Yphthimoidesiserhardi           EN       \n",
       "196  Spaeleoleptesspaeleus           EN       \n",
       "198  Discocyrtuspedrosoi             VU       \n",
       "207  Endecousperuassuensis           EN       \n",
       "210  Eukoeneniajequitinhonha         CR       \n",
       "⋮    ⋮                               ⋮        \n",
       "1089 Sternarchorhynchusmareikeae     VU       \n",
       "1090 Sternarchorhynchusseverii       VU       \n",
       "1091 Sternarchorhynchusvillasboasi   EN       \n",
       "1110 Crenicichlahadrostigma          VU       \n",
       "1113 Crenicichlajupiaensis           EN       \n",
       "1117 Teleocichlaprionogenys          VU       \n",
       "1134 Stegastessanctipauli            VU       \n",
       "1143 Choranthiassalmopunctatus       VU       \n",
       "1144 Hyporthodusnigritus             EN       \n",
       "1145 Hyporthodusniveatus             VU       \n",
       "1170 Sympterygiabonapartii           EN       \n",
       "1173 Zapteryxbrevirostris            VU       \n",
       "1175 Scorpaenodesinsularis           VU       \n",
       "1184 Chasmocranusbrachynemus         EN       \n",
       "1203 Hypostomussubcarinatus          CR       \n",
       "1205 Leporacanthicusjoselimai        VU       \n",
       "1220 Scobinancistrusaureatus         VU       \n",
       "1221 Scobinancistruspariolispos      VU       \n",
       "1227 Steindachneridionamblyurum      CR       \n",
       "1228 Steindachneridiondoceanum       CR       \n",
       "1229 Steindachneridionmelanodermatum EN       \n",
       "1230 Steindachneridionparahybae      EN       \n",
       "1231 Steindachneridionscriptum       EN       \n",
       "1232 Lophiosilurusalexandri          VU       \n",
       "1250 Listruranematopteryx            CR       \n",
       "1254 Trichomycterusitacarambiensis   CR       \n",
       "1261 Hippocampuspatagonicus          VU       \n",
       "1266 ANFÍBIOS                                 \n",
       "1269 AVES                                     \n",
       "1276 MAMÍFEROS                                "
      ]
     },
     "metadata": {},
     "output_type": "display_data"
    }
   ],
   "source": [
    "df_fauna <- read.csv2('./port_mma300_2022_fauna.csv', fileEncoding = 'latin1')\n",
    "df_fauna[is.na(str_extract(df_fauna$especie_subespecie, '(\\\\w+\\\\s\\\\w+)')), ]"
   ]
  },
  {
   "cell_type": "markdown",
   "id": "fab8b1d8",
   "metadata": {},
   "source": [
    "O código abaixo mostra que foram publicados 235 nomes científicos da fauna de forma incorreta."
   ]
  },
  {
   "cell_type": "code",
   "execution_count": null,
   "id": "773aeac0",
   "metadata": {},
   "outputs": [],
   "source": [
    "sum(is.na(str_extract(df_fauna$especie_subespecie, '\\\\w+\\\\s\\\\w+')))"
   ]
  },
  {
   "cell_type": "markdown",
   "id": "6d521fab",
   "metadata": {},
   "source": [
    "Para correção dos nomes científicos da fauna foram utilizados os dados do _[Global Biodiversity Information Facility](https://www.gbif.org/)_."
   ]
  },
  {
   "cell_type": "code",
   "execution_count": null,
   "id": "22c168ed",
   "metadata": {},
   "outputs": [],
   "source": [
    "# Tabela Fauna GBIF\n",
    "gbif <- readRDS('./Portaria_MMA_300-2022/gbif_clean.rds')"
   ]
  },
  {
   "cell_type": "code",
   "execution_count": null,
   "id": "06d44fac",
   "metadata": {},
   "outputs": [],
   "source": [
    "port300_fauna <- df_fauna %>%\n",
    "        mutate(especie_subespecie = tolower(especie_subespecie)) %>%\n",
    "        mutate(especie_subespecie = R.utils::capitalize(especie_subespecie)) %>%\n",
    "        mutate(especie_subespecie = str_trim(especie_subespecie)) %>%\n",
    "        mutate(especie_subespecie = str_squish(especie_subespecie))"
   ]
  },
  {
   "cell_type": "code",
   "execution_count": null,
   "id": "200b928a",
   "metadata": {},
   "outputs": [],
   "source": [
    "# Nomes incorretos\n",
    "port300_fauna_erro <- port300_fauna %>%\n",
    "        filter(!especie_subespecie %in% str_extract(especie_subespecie,\n",
    "                                                    '(\\\\b\\\\w+\\\\s\\\\w+\\\\b)')) %>%\n",
    "        filter(!especie_subespecie %in% str_extract(especie_subespecie,\n",
    "                                                    '(\\\\b\\\\w+\\\\s\\\\w+\\\\s\\\\w+\\\\b)'))"
   ]
  },
  {
   "cell_type": "code",
   "execution_count": null,
   "id": "f574aa38",
   "metadata": {},
   "outputs": [],
   "source": [
    "# Join\n",
    "tbl_join_fauna <- fuzzyjoin::stringdist_inner_join(port300_fauna_erro, gbif,\n",
    "                                           by = c('especie_subespecie' = 'especie_GBIF'),\n",
    "                                           ignore_case = TRUE,\n",
    "                                           distance_col = 'distance')\n",
    "\n",
    "# Novo dataframe com os dados processados\n",
    "df <- port300_fauna %>%\n",
    "        left_join(tbl_join_fauna, by = 'especie_subespecie')"
   ]
  },
  {
   "cell_type": "markdown",
   "id": "5701e79e",
   "metadata": {},
   "source": [
    "## 7.3 Definição das Classes Taxonômicas para as Espécie da Fauna\n",
    "A obtenção das classes taxômicas foi realizada através dos dados obtidos no site do projeto _The Interim Register of Marine and Nonmarine Genera_ - [IRMNG](https://www.irmng.org/download.php)"
   ]
  },
  {
   "cell_type": "code",
   "execution_count": 24,
   "id": "6355e2eb",
   "metadata": {},
   "outputs": [
    {
     "name": "stdout",
     "output_type": "stream",
     "text": [
      "Rows: 111,436\n",
      "Columns: 31\n",
      "$ taxonID                  \u001b[3m\u001b[90m<chr>\u001b[39m\u001b[23m \"urn:lsid:irmng.org:taxname:2\", \"urn:lsid:irm…\n",
      "$ scientificNameID         \u001b[3m\u001b[90m<chr>\u001b[39m\u001b[23m \"urn:lsid:irmng.org:taxname:2\", \"urn:lsid:irm…\n",
      "$ acceptedNameUsageID      \u001b[3m\u001b[90m<chr>\u001b[39m\u001b[23m \"urn:lsid:irmng.org:taxname:2\", \"urn:lsid:irm…\n",
      "$ parentNameUsageID        \u001b[3m\u001b[90m<chr>\u001b[39m\u001b[23m \"urn:lsid:irmng.org:taxname:1\", \"urn:lsid:irm…\n",
      "$ namePublishedInID        \u001b[3m\u001b[90m<chr>\u001b[39m\u001b[23m \"\", \"\", \"\", \"https://doi.org/10.1007/bf014889…\n",
      "$ scientificName           \u001b[3m\u001b[90m<chr>\u001b[39m\u001b[23m \"Animalia\", \"Agmata\", \"Brachiopoda\", \"Chitino…\n",
      "$ acceptedNameUsage        \u001b[3m\u001b[90m<chr>\u001b[39m\u001b[23m \"Animalia\", \"Agmata\", \"Brachiopoda\", \"Chitino…\n",
      "$ parentNameUsage          \u001b[3m\u001b[90m<chr>\u001b[39m\u001b[23m \"Biota\", \"Animalia\", \"Animalia\", \"Animalia\", …\n",
      "$ namePublishedIn          \u001b[3m\u001b[90m<chr>\u001b[39m\u001b[23m \"\", \"\", \"\", \"Eisenack, A. (1931). Neue mikrof…\n",
      "$ namePublishedInYear      \u001b[3m\u001b[90m<chr>\u001b[39m\u001b[23m \"\", \"\", \"\", \"1931\", \"\", \"\", \"\", \"1998\", \"2000…\n",
      "$ kingdom                  \u001b[3m\u001b[90m<chr>\u001b[39m\u001b[23m \"Animalia\", \"Animalia\", \"Animalia\", \"Animalia…\n",
      "$ phylum                   \u001b[3m\u001b[90m<chr>\u001b[39m\u001b[23m \"\", \"Agmata\", \"Brachiopoda\", \"Chitinozoa\", \"C…\n",
      "$ class                    \u001b[3m\u001b[90m<chr>\u001b[39m\u001b[23m \"\", \"\", \"\", \"\", \"\", \"\", \"\", \"\", \"\", \"\", \"\", \"…\n",
      "$ order                    \u001b[3m\u001b[90m<chr>\u001b[39m\u001b[23m \"\", \"\", \"\", \"\", \"\", \"\", \"\", \"\", \"\", \"\", \"\", \"…\n",
      "$ family                   \u001b[3m\u001b[90m<chr>\u001b[39m\u001b[23m \"\", \"\", \"\", \"\", \"\", \"\", \"\", \"\", \"\", \"\", \"\", \"…\n",
      "$ genus                    \u001b[3m\u001b[90m<chr>\u001b[39m\u001b[23m \"\", \"\", \"\", \"\", \"\", \"\", \"\", \"\", \"\", \"\", \"\", \"…\n",
      "$ subgenus                 \u001b[3m\u001b[90m<lgl>\u001b[39m\u001b[23m NA, NA, NA, NA, NA, NA, NA, NA, NA, NA, NA, N…\n",
      "$ specificEpithet          \u001b[3m\u001b[90m<lgl>\u001b[39m\u001b[23m NA, NA, NA, NA, NA, NA, NA, NA, NA, NA, NA, N…\n",
      "$ infraspecificEpithet     \u001b[3m\u001b[90m<lgl>\u001b[39m\u001b[23m NA, NA, NA, NA, NA, NA, NA, NA, NA, NA, NA, N…\n",
      "$ taxonRank                \u001b[3m\u001b[90m<chr>\u001b[39m\u001b[23m \"Kingdom\", \"Phylum\", \"Phylum\", \"Phylum\", \"Phy…\n",
      "$ scientificNameAuthorship \u001b[3m\u001b[90m<chr>\u001b[39m\u001b[23m \"\", \"\", \"Duméril, 1805\", \"Eisenack, 1931\", \"E…\n",
      "$ nomenclaturalCode        \u001b[3m\u001b[90m<chr>\u001b[39m\u001b[23m \"\", \"ICZN\", \"ICZN\", \"ICZN\", \"ICZN\", \"ICZN\", \"…\n",
      "$ taxonomicStatus          \u001b[3m\u001b[90m<chr>\u001b[39m\u001b[23m \"accepted\", \"accepted\", \"accepted\", \"accepted…\n",
      "$ nomenclaturalStatus      \u001b[3m\u001b[90m<chr>\u001b[39m\u001b[23m \"\", \"\", \"\", \"\", \"\", \"\", \"\", \"\", \"\", \"\", \"\", \"…\n",
      "$ modified                 \u001b[3m\u001b[90m<chr>\u001b[39m\u001b[23m \"2017-03-15\", \"2012-01-01\", \"2017-04-07\", \"20…\n",
      "$ bibliographicCitation    \u001b[3m\u001b[90m<chr>\u001b[39m\u001b[23m \"Rees, T. (compiler) (2022). The Interim Regi…\n",
      "$ references               \u001b[3m\u001b[90m<chr>\u001b[39m\u001b[23m \"https://www.irmng.org/aphia.php?p=taxdetails…\n",
      "$ license                  \u001b[3m\u001b[90m<lgl>\u001b[39m\u001b[23m NA, NA, NA, NA, NA, NA, NA, NA, NA, NA, NA, N…\n",
      "$ rightsHolder             \u001b[3m\u001b[90m<lgl>\u001b[39m\u001b[23m NA, NA, NA, NA, NA, NA, NA, NA, NA, NA, NA, N…\n",
      "$ datasetName              \u001b[3m\u001b[90m<lgl>\u001b[39m\u001b[23m NA, NA, NA, NA, NA, NA, NA, NA, NA, NA, NA, N…\n",
      "$ institutionCode          \u001b[3m\u001b[90m<lgl>\u001b[39m\u001b[23m NA, NA, NA, NA, NA, NA, NA, NA, NA, NA, NA, N…\n"
     ]
    }
   ],
   "source": [
    "taxon <- readRDS('./taxon_animalia.rds') %>%\n",
    "    mutate(family = str_trim(family))\n",
    "\n",
    "glimpse(taxon)"
   ]
  },
  {
   "cell_type": "code",
   "execution_count": 25,
   "id": "a748b0e2",
   "metadata": {},
   "outputs": [
    {
     "name": "stdout",
     "output_type": "stream",
     "text": [
      "Rows: 1,282\n",
      "Columns: 6\n",
      "$ n                  \u001b[3m\u001b[90m<int>\u001b[39m\u001b[23m 1, 2, 3, 4, 5, 6, 7, 8, 9, 10, 11, 12, 13, 14, 15, …\n",
      "$ port443            \u001b[3m\u001b[90m<chr>\u001b[39m\u001b[23m \"*\", \"*\", \"*\", \"*\", \"*\", \"*\", \"*\", \"*\", \"*\", \"\", \"*…\n",
      "$ ordem              \u001b[3m\u001b[90m<chr>\u001b[39m\u001b[23m \"Accipitriformes\", \"Accipitriformes\", \"Accipitrifor…\n",
      "$ familia            \u001b[3m\u001b[90m<chr>\u001b[39m\u001b[23m \"Accipitridae\", \"Accipitridae\", \"Accipitridae\", \"Ac…\n",
      "$ especie_subespecie \u001b[3m\u001b[90m<chr>\u001b[39m\u001b[23m \"Amadonastur lacernulatus\", \"Circus cinereus\", \"Har…\n",
      "$ categoria          \u001b[3m\u001b[90m<chr>\u001b[39m\u001b[23m \"VU\", \"VU\", \"VU\", \"EN\", \"VU\", \"EN\", \"EN\", \"VU\", \"EN…\n"
     ]
    }
   ],
   "source": [
    "df_fauna <- read.csv2('./port_MMA_300-2022_fauna_final.csv', fileEncoding = 'latin1')\n",
    "glimpse(df_fauna)"
   ]
  },
  {
   "cell_type": "code",
   "execution_count": 26,
   "id": "bc51fe1d",
   "metadata": {
    "scrolled": true
   },
   "outputs": [
    {
     "data": {
      "text/html": [
       "<table class=\"dataframe\">\n",
       "<caption>A data.frame: 6 × 2</caption>\n",
       "<thead>\n",
       "\t<tr><th></th><th scope=col>especie_subespecie</th><th scope=col>cnt</th></tr>\n",
       "\t<tr><th></th><th scope=col>&lt;chr&gt;</th><th scope=col>&lt;int&gt;</th></tr>\n",
       "</thead>\n",
       "<tbody>\n",
       "\t<tr><th scope=row>1</th><td>Callicebus personatus   </td><td>2</td></tr>\n",
       "\t<tr><th scope=row>2</th><td>Cichlopsis leucogenys   </td><td>5</td></tr>\n",
       "\t<tr><th scope=row>3</th><td>Coryphistera alaudina   </td><td>3</td></tr>\n",
       "\t<tr><th scope=row>4</th><td>Herpailurus yagouaroundi</td><td>4</td></tr>\n",
       "\t<tr><th scope=row>5</th><td>Hyphessobrycon flammeus </td><td>2</td></tr>\n",
       "\t<tr><th scope=row>6</th><td>Thalasseus acuflavidus  </td><td>4</td></tr>\n",
       "</tbody>\n",
       "</table>\n"
      ],
      "text/latex": [
       "A data.frame: 6 × 2\n",
       "\\begin{tabular}{r|ll}\n",
       "  & especie\\_subespecie & cnt\\\\\n",
       "  & <chr> & <int>\\\\\n",
       "\\hline\n",
       "\t1 & Callicebus personatus    & 2\\\\\n",
       "\t2 & Cichlopsis leucogenys    & 5\\\\\n",
       "\t3 & Coryphistera alaudina    & 3\\\\\n",
       "\t4 & Herpailurus yagouaroundi & 4\\\\\n",
       "\t5 & Hyphessobrycon flammeus  & 2\\\\\n",
       "\t6 & Thalasseus acuflavidus   & 4\\\\\n",
       "\\end{tabular}\n"
      ],
      "text/markdown": [
       "\n",
       "A data.frame: 6 × 2\n",
       "\n",
       "| <!--/--> | especie_subespecie &lt;chr&gt; | cnt &lt;int&gt; |\n",
       "|---|---|---|\n",
       "| 1 | Callicebus personatus    | 2 |\n",
       "| 2 | Cichlopsis leucogenys    | 5 |\n",
       "| 3 | Coryphistera alaudina    | 3 |\n",
       "| 4 | Herpailurus yagouaroundi | 4 |\n",
       "| 5 | Hyphessobrycon flammeus  | 2 |\n",
       "| 6 | Thalasseus acuflavidus   | 4 |\n",
       "\n"
      ],
      "text/plain": [
       "  especie_subespecie       cnt\n",
       "1 Callicebus personatus    2  \n",
       "2 Cichlopsis leucogenys    5  \n",
       "3 Coryphistera alaudina    3  \n",
       "4 Herpailurus yagouaroundi 4  \n",
       "5 Hyphessobrycon flammeus  2  \n",
       "6 Thalasseus acuflavidus   4  "
      ]
     },
     "metadata": {},
     "output_type": "display_data"
    },
    {
     "data": {
      "text/html": [
       "<style>\n",
       ".list-inline {list-style: none; margin:0; padding: 0}\n",
       ".list-inline>li {display: inline-block}\n",
       ".list-inline>li:not(:last-child)::after {content: \"\\00b7\"; padding: 0 .5ex}\n",
       "</style>\n",
       "<ol class=list-inline><li>7</li><li>2</li></ol>\n"
      ],
      "text/latex": [
       "\\begin{enumerate*}\n",
       "\\item 7\n",
       "\\item 2\n",
       "\\end{enumerate*}\n"
      ],
      "text/markdown": [
       "1. 7\n",
       "2. 2\n",
       "\n",
       "\n"
      ],
      "text/plain": [
       "[1] 7 2"
      ]
     },
     "metadata": {},
     "output_type": "display_data"
    }
   ],
   "source": [
    "# Obter registros duplicados e removê-los\n",
    "nomes_duplicados <- df_fauna %>%\n",
    "    count(especie_subespecie, name = 'cnt') %>%\n",
    "    filter(cnt > 1)\n",
    "\n",
    "head(nomes_duplicados)\n",
    "dim(nomes_duplicados)"
   ]
  },
  {
   "cell_type": "code",
   "execution_count": 27,
   "id": "6805b066",
   "metadata": {},
   "outputs": [
    {
     "data": {
      "text/html": [
       "1266"
      ],
      "text/latex": [
       "1266"
      ],
      "text/markdown": [
       "1266"
      ],
      "text/plain": [
       "[1] 1266"
      ]
     },
     "metadata": {},
     "output_type": "display_data"
    }
   ],
   "source": [
    "# Lista sem nomes duplicados\n",
    "nrow(filter(df_fauna, !duplicated(especie_subespecie)))"
   ]
  },
  {
   "cell_type": "code",
   "execution_count": 28,
   "id": "3eca6461",
   "metadata": {},
   "outputs": [],
   "source": [
    "df_fauna_fim <- taxon %>%\n",
    "    select(family, class) %>%\n",
    "    left_join(df_fauna, by = c('family' = 'familia')) %>%\n",
    "    tidyr::drop_na() %>%\n",
    "    rename(familia = family, classe = class) %>%\n",
    "    select(c(3, 4, 2, 5, 1, 6, 7)) %>%\n",
    "    filter(!duplicated(especie_subespecie))"
   ]
  },
  {
   "cell_type": "code",
   "execution_count": 29,
   "id": "9bb3fc5b",
   "metadata": {},
   "outputs": [
    {
     "data": {
      "text/html": [
       "<table class=\"dataframe\">\n",
       "<caption>A data.frame: 6 × 7</caption>\n",
       "<thead>\n",
       "\t<tr><th></th><th scope=col>n</th><th scope=col>port443</th><th scope=col>classe</th><th scope=col>ordem</th><th scope=col>familia</th><th scope=col>especie_subespecie</th><th scope=col>categoria</th></tr>\n",
       "\t<tr><th></th><th scope=col>&lt;int&gt;</th><th scope=col>&lt;chr&gt;</th><th scope=col>&lt;chr&gt;</th><th scope=col>&lt;chr&gt;</th><th scope=col>&lt;chr&gt;</th><th scope=col>&lt;chr&gt;</th><th scope=col>&lt;chr&gt;</th></tr>\n",
       "</thead>\n",
       "<tbody>\n",
       "\t<tr><th scope=row>1</th><td>978</td><td>*</td><td>Arachnida</td><td>Pseudoscorpiones</td><td>Chthoniidae</td><td>Pseudochthonius biseriatus</td><td>EN</td></tr>\n",
       "\t<tr><th scope=row>2</th><td>108</td><td>*</td><td>Arachnida</td><td>Araneae         </td><td>Ctenidae   </td><td>Celaetycheus mungunza     </td><td>CR</td></tr>\n",
       "\t<tr><th scope=row>3</th><td>109</td><td>*</td><td>Arachnida</td><td>Araneae         </td><td>Ctenidae   </td><td>Isoctenus corymbus        </td><td>CR</td></tr>\n",
       "\t<tr><th scope=row>4</th><td>261</td><td>*</td><td>Insecta  </td><td>Coleoptera      </td><td>Dytiscidae </td><td>Copelatus cessaima        </td><td>EN</td></tr>\n",
       "\t<tr><th scope=row>5</th><td>274</td><td>*</td><td>Insecta  </td><td>Coleoptera      </td><td>Lucanidae  </td><td>Altitatiayus campoi       </td><td>VU</td></tr>\n",
       "\t<tr><th scope=row>6</th><td>275</td><td>*</td><td>Insecta  </td><td>Coleoptera      </td><td>Lucanidae  </td><td>Altitatiayus dulceae      </td><td>VU</td></tr>\n",
       "</tbody>\n",
       "</table>\n"
      ],
      "text/latex": [
       "A data.frame: 6 × 7\n",
       "\\begin{tabular}{r|lllllll}\n",
       "  & n & port443 & classe & ordem & familia & especie\\_subespecie & categoria\\\\\n",
       "  & <int> & <chr> & <chr> & <chr> & <chr> & <chr> & <chr>\\\\\n",
       "\\hline\n",
       "\t1 & 978 & * & Arachnida & Pseudoscorpiones & Chthoniidae & Pseudochthonius biseriatus & EN\\\\\n",
       "\t2 & 108 & * & Arachnida & Araneae          & Ctenidae    & Celaetycheus mungunza      & CR\\\\\n",
       "\t3 & 109 & * & Arachnida & Araneae          & Ctenidae    & Isoctenus corymbus         & CR\\\\\n",
       "\t4 & 261 & * & Insecta   & Coleoptera       & Dytiscidae  & Copelatus cessaima         & EN\\\\\n",
       "\t5 & 274 & * & Insecta   & Coleoptera       & Lucanidae   & Altitatiayus campoi        & VU\\\\\n",
       "\t6 & 275 & * & Insecta   & Coleoptera       & Lucanidae   & Altitatiayus dulceae       & VU\\\\\n",
       "\\end{tabular}\n"
      ],
      "text/markdown": [
       "\n",
       "A data.frame: 6 × 7\n",
       "\n",
       "| <!--/--> | n &lt;int&gt; | port443 &lt;chr&gt; | classe &lt;chr&gt; | ordem &lt;chr&gt; | familia &lt;chr&gt; | especie_subespecie &lt;chr&gt; | categoria &lt;chr&gt; |\n",
       "|---|---|---|---|---|---|---|---|\n",
       "| 1 | 978 | * | Arachnida | Pseudoscorpiones | Chthoniidae | Pseudochthonius biseriatus | EN |\n",
       "| 2 | 108 | * | Arachnida | Araneae          | Ctenidae    | Celaetycheus mungunza      | CR |\n",
       "| 3 | 109 | * | Arachnida | Araneae          | Ctenidae    | Isoctenus corymbus         | CR |\n",
       "| 4 | 261 | * | Insecta   | Coleoptera       | Dytiscidae  | Copelatus cessaima         | EN |\n",
       "| 5 | 274 | * | Insecta   | Coleoptera       | Lucanidae   | Altitatiayus campoi        | VU |\n",
       "| 6 | 275 | * | Insecta   | Coleoptera       | Lucanidae   | Altitatiayus dulceae       | VU |\n",
       "\n"
      ],
      "text/plain": [
       "  n   port443 classe    ordem            familia     especie_subespecie        \n",
       "1 978 *       Arachnida Pseudoscorpiones Chthoniidae Pseudochthonius biseriatus\n",
       "2 108 *       Arachnida Araneae          Ctenidae    Celaetycheus mungunza     \n",
       "3 109 *       Arachnida Araneae          Ctenidae    Isoctenus corymbus        \n",
       "4 261 *       Insecta   Coleoptera       Dytiscidae  Copelatus cessaima        \n",
       "5 274 *       Insecta   Coleoptera       Lucanidae   Altitatiayus campoi       \n",
       "6 275 *       Insecta   Coleoptera       Lucanidae   Altitatiayus dulceae      \n",
       "  categoria\n",
       "1 EN       \n",
       "2 CR       \n",
       "3 CR       \n",
       "4 EN       \n",
       "5 VU       \n",
       "6 VU       "
      ]
     },
     "metadata": {},
     "output_type": "display_data"
    },
    {
     "data": {
      "text/html": [
       "<style>\n",
       ".list-inline {list-style: none; margin:0; padding: 0}\n",
       ".list-inline>li {display: inline-block}\n",
       ".list-inline>li:not(:last-child)::after {content: \"\\00b7\"; padding: 0 .5ex}\n",
       "</style>\n",
       "<ol class=list-inline><li>1210</li><li>7</li></ol>\n"
      ],
      "text/latex": [
       "\\begin{enumerate*}\n",
       "\\item 1210\n",
       "\\item 7\n",
       "\\end{enumerate*}\n"
      ],
      "text/markdown": [
       "1. 1210\n",
       "2. 7\n",
       "\n",
       "\n"
      ],
      "text/plain": [
       "[1] 1210    7"
      ]
     },
     "metadata": {},
     "output_type": "display_data"
    }
   ],
   "source": [
    "head(df_fauna_fim)\n",
    "dim(df_fauna_fim)"
   ]
  },
  {
   "cell_type": "markdown",
   "id": "152f493d",
   "metadata": {},
   "source": [
    "<p style=\"text-align:justify\">A lista completa da fauna contém 1.266 espécies, porém, após a junção com os dados de classe da tabela do IRMNG observa-se que a lista passou a ter 1.210 espécies, indicando que na tabela de referência para obtenção das classes taxonômicas não existem 56 espécies da lista em questão e/ou que a lista foi gerado com nomes duplicados.</p>\n",
    "    \n",
    "<p style=\"text-align:justify\">Para resolver esse problema utilizaremos o pacote <i>taxize</i>, o qual permite consultar nomes científicos em diferentes bases de dados sobre biodiversidade no mundo, a exemplo da base de do <i>Integrated Taxonomic Information System</i><a href=\"https://itis.gov/\"> - ITS</a> e <i>The National Center for Biotechnology Information</i><a href=\"https://www.ncbi.nlm.nih.gov/\"> - NCBI.</a> Não utilizamos este pacote desde op começo da análise em função do tempo de processamento necessário ser muito longo para a lista ora sob análise.</p>"
   ]
  },
  {
   "cell_type": "code",
   "execution_count": 30,
   "id": "b9918676",
   "metadata": {},
   "outputs": [],
   "source": [
    "nomes_sem_classe <- df_fauna %>%\n",
    "    anti_join(df_fauna_fim, by = 'familia')"
   ]
  },
  {
   "cell_type": "code",
   "execution_count": 31,
   "id": "05bfff9b",
   "metadata": {},
   "outputs": [
    {
     "data": {
      "text/html": [
       "<style>\n",
       ".list-inline {list-style: none; margin:0; padding: 0}\n",
       ".list-inline>li {display: inline-block}\n",
       ".list-inline>li:not(:last-child)::after {content: \"\\00b7\"; padding: 0 .5ex}\n",
       "</style>\n",
       "<ol class=list-inline><li>56</li><li>6</li></ol>\n"
      ],
      "text/latex": [
       "\\begin{enumerate*}\n",
       "\\item 56\n",
       "\\item 6\n",
       "\\end{enumerate*}\n"
      ],
      "text/markdown": [
       "1. 56\n",
       "2. 6\n",
       "\n",
       "\n"
      ],
      "text/plain": [
       "[1] 56  6"
      ]
     },
     "metadata": {},
     "output_type": "display_data"
    }
   ],
   "source": [
    "# Obter número de linhas e colunas\n",
    "dim(nomes_sem_classe)"
   ]
  },
  {
   "cell_type": "markdown",
   "id": "0e70274e",
   "metadata": {},
   "source": [
    "Para ganhar desempenho no processamento da busca nos dados do ITS e NCBI, utilizaremos apenas as espécies que não possuem associação coma os dados do IRMNG."
   ]
  },
  {
   "cell_type": "code",
   "execution_count": null,
   "id": "dcdef81c",
   "metadata": {},
   "outputs": [],
   "source": [
    "classes <- nomes_sem_classe %>%\n",
    "        # Busca as classes taxonômicas na base de dados do ITS utilizando a família como parâmetro\n",
    "        mutate(classe = taxize::tax_name(familia, get = \"class\", db = 'itis')$class) %>%\n",
    "        # Busca as classes taxonômicas na base de dados do NCBI utilizando a família como parâmetro\n",
    "        mutate(classe = if_else(is.na(classe), \n",
    "                                taxize::tax_name(familia, get = \"class\", db = 'ncbi')$class, \n",
    "                                classe)) %>%\n",
    "        select(c(1, 2, 7, 3:6))"
   ]
  },
  {
   "cell_type": "code",
   "execution_count": 33,
   "id": "763b69c3",
   "metadata": {},
   "outputs": [
    {
     "data": {
      "text/html": [
       "<style>\n",
       ".list-inline {list-style: none; margin:0; padding: 0}\n",
       ".list-inline>li {display: inline-block}\n",
       ".list-inline>li:not(:last-child)::after {content: \"\\00b7\"; padding: 0 .5ex}\n",
       "</style>\n",
       "<ol class=list-inline><li>56</li><li>7</li></ol>\n"
      ],
      "text/latex": [
       "\\begin{enumerate*}\n",
       "\\item 56\n",
       "\\item 7\n",
       "\\end{enumerate*}\n"
      ],
      "text/markdown": [
       "1. 56\n",
       "2. 7\n",
       "\n",
       "\n"
      ],
      "text/plain": [
       "[1] 56  7"
      ]
     },
     "metadata": {},
     "output_type": "display_data"
    }
   ],
   "source": [
    "dim(classes)"
   ]
  },
  {
   "cell_type": "markdown",
   "id": "6b01eba4",
   "metadata": {},
   "source": [
    "Após as buscas em duas bases de dados, apenas 27 espécies ficaram sem a correspondente classe taxonômica, como podemos observar na saída do código abaixo."
   ]
  },
  {
   "cell_type": "code",
   "execution_count": 34,
   "id": "df745822",
   "metadata": {},
   "outputs": [
    {
     "data": {
      "text/plain": [
       "   Mode   FALSE    TRUE \n",
       "logical      29      27 "
      ]
     },
     "metadata": {},
     "output_type": "display_data"
    }
   ],
   "source": [
    "summary(is.na(classes$classe))"
   ]
  },
  {
   "cell_type": "markdown",
   "id": "c1e18bcb",
   "metadata": {},
   "source": [
    "De posse da maioria das classes das espécies da fauna, faremos a junção dos _dataframes_ _df_fauna_ e _classes_ para salvar os dados definitivos em uma planilha csv. Entretano, antes de salvarmos a lista definitiva, vamos ferificar quais espécies estão sem classe taxonômica e tentar obtê-las manualmente."
   ]
  },
  {
   "cell_type": "code",
   "execution_count": 35,
   "id": "b291d5e8",
   "metadata": {},
   "outputs": [],
   "source": [
    "# Junção dos dataframes\n",
    "df <- rbind(classes, df_fauna_fim)\n",
    "\n",
    "# ordenar os dados pela coluna \"n\"\n",
    "df <- df %>%\n",
    "    arrange(n)"
   ]
  },
  {
   "cell_type": "code",
   "execution_count": 36,
   "id": "bfd81c9b",
   "metadata": {},
   "outputs": [
    {
     "data": {
      "text/html": [
       "<table class=\"dataframe\">\n",
       "<caption>A data.frame: 27 × 7</caption>\n",
       "<thead>\n",
       "\t<tr><th></th><th scope=col>n</th><th scope=col>port443</th><th scope=col>classe</th><th scope=col>ordem</th><th scope=col>familia</th><th scope=col>especie_subespecie</th><th scope=col>categoria</th></tr>\n",
       "\t<tr><th></th><th scope=col>&lt;int&gt;</th><th scope=col>&lt;chr&gt;</th><th scope=col>&lt;chr&gt;</th><th scope=col>&lt;chr&gt;</th><th scope=col>&lt;chr&gt;</th><th scope=col>&lt;chr&gt;</th><th scope=col>&lt;chr&gt;</th></tr>\n",
       "</thead>\n",
       "<tbody>\n",
       "\t<tr><th scope=row>506</th><td> 513</td><td>*</td><td>NA</td><td>Glomeridesmida</td><td>Glomerodesmidae </td><td>Glomeridesmus spelaeus             </td><td>EN      </td></tr>\n",
       "\t<tr><th scope=row>735</th><td> 746</td><td> </td><td>NA</td><td>Passeriformes </td><td>Onychorhynchidae</td><td>Onychorhynchusswainsoni            </td><td>VU      </td></tr>\n",
       "\t<tr><th scope=row>743</th><td> 754</td><td>*</td><td>NA</td><td>Passeriformes </td><td>Platyrinchidae  </td><td>Calyptura cristata                 </td><td>CR (PEX)</td></tr>\n",
       "\t<tr><th scope=row>744</th><td> 755</td><td> </td><td>NA</td><td>Passeriformes </td><td>Platyrinchidae  </td><td>Platyrinchus leucoryphus           </td><td>VU      </td></tr>\n",
       "\t<tr><th scope=row>745</th><td> 756</td><td>*</td><td>NA</td><td>Passeriformes </td><td>Platyrinchidae  </td><td>Platyrinchus mystaceus niveigularis</td><td>VU      </td></tr>\n",
       "\t<tr><th scope=row>752</th><td> 763</td><td> </td><td>NA</td><td>Passeriformes </td><td>Rhynchocyclidae </td><td>Cnipodectessuperrufus              </td><td>VU      </td></tr>\n",
       "\t<tr><th scope=row>753</th><td> 764</td><td>*</td><td>NA</td><td>Passeriformes </td><td>Rhynchocyclidae </td><td>Hemitriccus kaempferi              </td><td>VU      </td></tr>\n",
       "\t<tr><th scope=row>754</th><td> 765</td><td>*</td><td>NA</td><td>Passeriformes </td><td>Rhynchocyclidae </td><td>Hemitriccus mirandae               </td><td>EN      </td></tr>\n",
       "\t<tr><th scope=row>755</th><td> 766</td><td>*</td><td>NA</td><td>Passeriformes </td><td>Rhynchocyclidae </td><td>Phylloscartes beckeri              </td><td>EN      </td></tr>\n",
       "\t<tr><th scope=row>756</th><td> 767</td><td>*</td><td>NA</td><td>Passeriformes </td><td>Rhynchocyclidae </td><td>Phylloscartes ceciliae             </td><td>CR      </td></tr>\n",
       "\t<tr><th scope=row>757</th><td> 768</td><td>*</td><td>NA</td><td>Passeriformes </td><td>Rhynchocyclidae </td><td>Phylloscartes roquettei            </td><td>EN      </td></tr>\n",
       "\t<tr><th scope=row>758</th><td> 769</td><td> </td><td>NA</td><td>Passeriformes </td><td>Rhynchocyclidae </td><td>Poecilotriccus albifacies          </td><td>VU      </td></tr>\n",
       "\t<tr><th scope=row>759</th><td> 770</td><td>*</td><td>NA</td><td>Passeriformes </td><td>Scleruridae     </td><td>Geositta poeciloptera              </td><td>VU      </td></tr>\n",
       "\t<tr><th scope=row>760</th><td> 771</td><td>*</td><td>NA</td><td>Passeriformes </td><td>Scleruridae     </td><td>Sclerurus caudacutus caligineus    </td><td>CR      </td></tr>\n",
       "\t<tr><th scope=row>761</th><td> 772</td><td>*</td><td>NA</td><td>Passeriformes </td><td>Scleruridae     </td><td>Sclerurus caudacutus umbretta      </td><td>CR      </td></tr>\n",
       "\t<tr><th scope=row>762</th><td> 773</td><td>*</td><td>NA</td><td>Passeriformes </td><td>Scleruridae     </td><td>Sclerurus cearensis                </td><td>EN      </td></tr>\n",
       "\t<tr><th scope=row>763</th><td> 774</td><td>*</td><td>NA</td><td>Passeriformes </td><td>Scleruridae     </td><td>Sclerurus macconnelli bahiae       </td><td>EN      </td></tr>\n",
       "\t<tr><th scope=row>812</th><td> 823</td><td>*</td><td>NA</td><td>Passeriformes </td><td>Tityridae       </td><td>Iodopleura pipra                   </td><td>EN      </td></tr>\n",
       "\t<tr><th scope=row>813</th><td> 824</td><td>*</td><td>NA</td><td>Passeriformes </td><td>Tityridae       </td><td>Iodopleura pipra leucopygia        </td><td>EN      </td></tr>\n",
       "\t<tr><th scope=row>814</th><td> 825</td><td>*</td><td>NA</td><td>Passeriformes </td><td>Tityridae       </td><td>Iodopleura pipra pipra             </td><td>EN      </td></tr>\n",
       "\t<tr><th scope=row>815</th><td> 826</td><td> </td><td>NA</td><td>Passeriformes </td><td>Tityridae       </td><td>Laniisoma elegans                  </td><td>EN      </td></tr>\n",
       "\t<tr><th scope=row>816</th><td> 827</td><td>*</td><td>NA</td><td>Passeriformes </td><td>Tityridae       </td><td>Schiffornis turdina intermedia     </td><td>VU      </td></tr>\n",
       "\t<tr><th scope=row>829</th><td> 844</td><td>*</td><td>NA</td><td>Passeriformes </td><td>Xenopidae       </td><td>Xenops minutus alagoanus           </td><td>VU      </td></tr>\n",
       "\t<tr><th scope=row>847</th><td> 862</td><td>*</td><td>NA</td><td>Perciformes   </td><td>Epinephelidae   </td><td>Epinephelus itajara                </td><td>CR      </td></tr>\n",
       "\t<tr><th scope=row>848</th><td> 863</td><td>*</td><td>NA</td><td>Perciformes   </td><td>Epinephelidae   </td><td>Epinephelus marginatus             </td><td>VU      </td></tr>\n",
       "\t<tr><th scope=row>849</th><td> 864</td><td>*</td><td>NA</td><td>Perciformes   </td><td>Epinephelidae   </td><td>Epinephelus morio                  </td><td>VU      </td></tr>\n",
       "\t<tr><th scope=row>1195</th><td>1211</td><td>*</td><td>NA</td><td>Squamata      </td><td>Mabuyidae       </td><td>Brasiliscincus caissara            </td><td>EN      </td></tr>\n",
       "</tbody>\n",
       "</table>\n"
      ],
      "text/latex": [
       "A data.frame: 27 × 7\n",
       "\\begin{tabular}{r|lllllll}\n",
       "  & n & port443 & classe & ordem & familia & especie\\_subespecie & categoria\\\\\n",
       "  & <int> & <chr> & <chr> & <chr> & <chr> & <chr> & <chr>\\\\\n",
       "\\hline\n",
       "\t506 &  513 & * & NA & Glomeridesmida & Glomerodesmidae  & Glomeridesmus spelaeus              & EN      \\\\\n",
       "\t735 &  746 &   & NA & Passeriformes  & Onychorhynchidae & Onychorhynchusswainsoni             & VU      \\\\\n",
       "\t743 &  754 & * & NA & Passeriformes  & Platyrinchidae   & Calyptura cristata                  & CR (PEX)\\\\\n",
       "\t744 &  755 &   & NA & Passeriformes  & Platyrinchidae   & Platyrinchus leucoryphus            & VU      \\\\\n",
       "\t745 &  756 & * & NA & Passeriformes  & Platyrinchidae   & Platyrinchus mystaceus niveigularis & VU      \\\\\n",
       "\t752 &  763 &   & NA & Passeriformes  & Rhynchocyclidae  & Cnipodectessuperrufus               & VU      \\\\\n",
       "\t753 &  764 & * & NA & Passeriformes  & Rhynchocyclidae  & Hemitriccus kaempferi               & VU      \\\\\n",
       "\t754 &  765 & * & NA & Passeriformes  & Rhynchocyclidae  & Hemitriccus mirandae                & EN      \\\\\n",
       "\t755 &  766 & * & NA & Passeriformes  & Rhynchocyclidae  & Phylloscartes beckeri               & EN      \\\\\n",
       "\t756 &  767 & * & NA & Passeriformes  & Rhynchocyclidae  & Phylloscartes ceciliae              & CR      \\\\\n",
       "\t757 &  768 & * & NA & Passeriformes  & Rhynchocyclidae  & Phylloscartes roquettei             & EN      \\\\\n",
       "\t758 &  769 &   & NA & Passeriformes  & Rhynchocyclidae  & Poecilotriccus albifacies           & VU      \\\\\n",
       "\t759 &  770 & * & NA & Passeriformes  & Scleruridae      & Geositta poeciloptera               & VU      \\\\\n",
       "\t760 &  771 & * & NA & Passeriformes  & Scleruridae      & Sclerurus caudacutus caligineus     & CR      \\\\\n",
       "\t761 &  772 & * & NA & Passeriformes  & Scleruridae      & Sclerurus caudacutus umbretta       & CR      \\\\\n",
       "\t762 &  773 & * & NA & Passeriformes  & Scleruridae      & Sclerurus cearensis                 & EN      \\\\\n",
       "\t763 &  774 & * & NA & Passeriformes  & Scleruridae      & Sclerurus macconnelli bahiae        & EN      \\\\\n",
       "\t812 &  823 & * & NA & Passeriformes  & Tityridae        & Iodopleura pipra                    & EN      \\\\\n",
       "\t813 &  824 & * & NA & Passeriformes  & Tityridae        & Iodopleura pipra leucopygia         & EN      \\\\\n",
       "\t814 &  825 & * & NA & Passeriformes  & Tityridae        & Iodopleura pipra pipra              & EN      \\\\\n",
       "\t815 &  826 &   & NA & Passeriformes  & Tityridae        & Laniisoma elegans                   & EN      \\\\\n",
       "\t816 &  827 & * & NA & Passeriformes  & Tityridae        & Schiffornis turdina intermedia      & VU      \\\\\n",
       "\t829 &  844 & * & NA & Passeriformes  & Xenopidae        & Xenops minutus alagoanus            & VU      \\\\\n",
       "\t847 &  862 & * & NA & Perciformes    & Epinephelidae    & Epinephelus itajara                 & CR      \\\\\n",
       "\t848 &  863 & * & NA & Perciformes    & Epinephelidae    & Epinephelus marginatus              & VU      \\\\\n",
       "\t849 &  864 & * & NA & Perciformes    & Epinephelidae    & Epinephelus morio                   & VU      \\\\\n",
       "\t1195 & 1211 & * & NA & Squamata       & Mabuyidae        & Brasiliscincus caissara             & EN      \\\\\n",
       "\\end{tabular}\n"
      ],
      "text/markdown": [
       "\n",
       "A data.frame: 27 × 7\n",
       "\n",
       "| <!--/--> | n &lt;int&gt; | port443 &lt;chr&gt; | classe &lt;chr&gt; | ordem &lt;chr&gt; | familia &lt;chr&gt; | especie_subespecie &lt;chr&gt; | categoria &lt;chr&gt; |\n",
       "|---|---|---|---|---|---|---|---|\n",
       "| 506 |  513 | * | NA | Glomeridesmida | Glomerodesmidae  | Glomeridesmus spelaeus              | EN       |\n",
       "| 735 |  746 | <!----> | NA | Passeriformes  | Onychorhynchidae | Onychorhynchusswainsoni             | VU       |\n",
       "| 743 |  754 | * | NA | Passeriformes  | Platyrinchidae   | Calyptura cristata                  | CR (PEX) |\n",
       "| 744 |  755 | <!----> | NA | Passeriformes  | Platyrinchidae   | Platyrinchus leucoryphus            | VU       |\n",
       "| 745 |  756 | * | NA | Passeriformes  | Platyrinchidae   | Platyrinchus mystaceus niveigularis | VU       |\n",
       "| 752 |  763 | <!----> | NA | Passeriformes  | Rhynchocyclidae  | Cnipodectessuperrufus               | VU       |\n",
       "| 753 |  764 | * | NA | Passeriformes  | Rhynchocyclidae  | Hemitriccus kaempferi               | VU       |\n",
       "| 754 |  765 | * | NA | Passeriformes  | Rhynchocyclidae  | Hemitriccus mirandae                | EN       |\n",
       "| 755 |  766 | * | NA | Passeriformes  | Rhynchocyclidae  | Phylloscartes beckeri               | EN       |\n",
       "| 756 |  767 | * | NA | Passeriformes  | Rhynchocyclidae  | Phylloscartes ceciliae              | CR       |\n",
       "| 757 |  768 | * | NA | Passeriformes  | Rhynchocyclidae  | Phylloscartes roquettei             | EN       |\n",
       "| 758 |  769 | <!----> | NA | Passeriformes  | Rhynchocyclidae  | Poecilotriccus albifacies           | VU       |\n",
       "| 759 |  770 | * | NA | Passeriformes  | Scleruridae      | Geositta poeciloptera               | VU       |\n",
       "| 760 |  771 | * | NA | Passeriformes  | Scleruridae      | Sclerurus caudacutus caligineus     | CR       |\n",
       "| 761 |  772 | * | NA | Passeriformes  | Scleruridae      | Sclerurus caudacutus umbretta       | CR       |\n",
       "| 762 |  773 | * | NA | Passeriformes  | Scleruridae      | Sclerurus cearensis                 | EN       |\n",
       "| 763 |  774 | * | NA | Passeriformes  | Scleruridae      | Sclerurus macconnelli bahiae        | EN       |\n",
       "| 812 |  823 | * | NA | Passeriformes  | Tityridae        | Iodopleura pipra                    | EN       |\n",
       "| 813 |  824 | * | NA | Passeriformes  | Tityridae        | Iodopleura pipra leucopygia         | EN       |\n",
       "| 814 |  825 | * | NA | Passeriformes  | Tityridae        | Iodopleura pipra pipra              | EN       |\n",
       "| 815 |  826 | <!----> | NA | Passeriformes  | Tityridae        | Laniisoma elegans                   | EN       |\n",
       "| 816 |  827 | * | NA | Passeriformes  | Tityridae        | Schiffornis turdina intermedia      | VU       |\n",
       "| 829 |  844 | * | NA | Passeriformes  | Xenopidae        | Xenops minutus alagoanus            | VU       |\n",
       "| 847 |  862 | * | NA | Perciformes    | Epinephelidae    | Epinephelus itajara                 | CR       |\n",
       "| 848 |  863 | * | NA | Perciformes    | Epinephelidae    | Epinephelus marginatus              | VU       |\n",
       "| 849 |  864 | * | NA | Perciformes    | Epinephelidae    | Epinephelus morio                   | VU       |\n",
       "| 1195 | 1211 | * | NA | Squamata       | Mabuyidae        | Brasiliscincus caissara             | EN       |\n",
       "\n"
      ],
      "text/plain": [
       "     n    port443 classe ordem          familia         \n",
       "506   513 *       NA     Glomeridesmida Glomerodesmidae \n",
       "735   746         NA     Passeriformes  Onychorhynchidae\n",
       "743   754 *       NA     Passeriformes  Platyrinchidae  \n",
       "744   755         NA     Passeriformes  Platyrinchidae  \n",
       "745   756 *       NA     Passeriformes  Platyrinchidae  \n",
       "752   763         NA     Passeriformes  Rhynchocyclidae \n",
       "753   764 *       NA     Passeriformes  Rhynchocyclidae \n",
       "754   765 *       NA     Passeriformes  Rhynchocyclidae \n",
       "755   766 *       NA     Passeriformes  Rhynchocyclidae \n",
       "756   767 *       NA     Passeriformes  Rhynchocyclidae \n",
       "757   768 *       NA     Passeriformes  Rhynchocyclidae \n",
       "758   769         NA     Passeriformes  Rhynchocyclidae \n",
       "759   770 *       NA     Passeriformes  Scleruridae     \n",
       "760   771 *       NA     Passeriformes  Scleruridae     \n",
       "761   772 *       NA     Passeriformes  Scleruridae     \n",
       "762   773 *       NA     Passeriformes  Scleruridae     \n",
       "763   774 *       NA     Passeriformes  Scleruridae     \n",
       "812   823 *       NA     Passeriformes  Tityridae       \n",
       "813   824 *       NA     Passeriformes  Tityridae       \n",
       "814   825 *       NA     Passeriformes  Tityridae       \n",
       "815   826         NA     Passeriformes  Tityridae       \n",
       "816   827 *       NA     Passeriformes  Tityridae       \n",
       "829   844 *       NA     Passeriformes  Xenopidae       \n",
       "847   862 *       NA     Perciformes    Epinephelidae   \n",
       "848   863 *       NA     Perciformes    Epinephelidae   \n",
       "849   864 *       NA     Perciformes    Epinephelidae   \n",
       "1195 1211 *       NA     Squamata       Mabuyidae       \n",
       "     especie_subespecie                  categoria\n",
       "506  Glomeridesmus spelaeus              EN       \n",
       "735  Onychorhynchusswainsoni             VU       \n",
       "743  Calyptura cristata                  CR (PEX) \n",
       "744  Platyrinchus leucoryphus            VU       \n",
       "745  Platyrinchus mystaceus niveigularis VU       \n",
       "752  Cnipodectessuperrufus               VU       \n",
       "753  Hemitriccus kaempferi               VU       \n",
       "754  Hemitriccus mirandae                EN       \n",
       "755  Phylloscartes beckeri               EN       \n",
       "756  Phylloscartes ceciliae              CR       \n",
       "757  Phylloscartes roquettei             EN       \n",
       "758  Poecilotriccus albifacies           VU       \n",
       "759  Geositta poeciloptera               VU       \n",
       "760  Sclerurus caudacutus caligineus     CR       \n",
       "761  Sclerurus caudacutus umbretta       CR       \n",
       "762  Sclerurus cearensis                 EN       \n",
       "763  Sclerurus macconnelli bahiae        EN       \n",
       "812  Iodopleura pipra                    EN       \n",
       "813  Iodopleura pipra leucopygia         EN       \n",
       "814  Iodopleura pipra pipra              EN       \n",
       "815  Laniisoma elegans                   EN       \n",
       "816  Schiffornis turdina intermedia      VU       \n",
       "829  Xenops minutus alagoanus            VU       \n",
       "847  Epinephelus itajara                 CR       \n",
       "848  Epinephelus marginatus              VU       \n",
       "849  Epinephelus morio                   VU       \n",
       "1195 Brasiliscincus caissara             EN       "
      ]
     },
     "metadata": {},
     "output_type": "display_data"
    }
   ],
   "source": [
    "df[is.na(df$classe), ]"
   ]
  },
  {
   "cell_type": "markdown",
   "id": "bee0a395",
   "metadata": {},
   "source": [
    "A saída do código acima mostra que as espécies sem a classe taxonômica pertencem as famílias:"
   ]
  },
  {
   "cell_type": "code",
   "execution_count": 37,
   "id": "76cbf16d",
   "metadata": {},
   "outputs": [
    {
     "name": "stdout",
     "output_type": "stream",
     "text": [
      "Aromobatidae, Cycloramphidae, Hylodidae, Odontophrynidae, Glomerodesmidae, Kimulidae, Grallariidae, Onychorhynchidae, Platyrinchidae, Rhynchocyclidae, Scleruridae, Tityridae, Xenopidae, Epinephelidae, Liolaemidae, Mabuyidae, Phyllodactylidae e Sphaerodactylidae"
     ]
    }
   ],
   "source": [
    "cat(glue::glue_collapse(unique(nomes_sem_classe$familia), sep = ', ', last = ' e '))"
   ]
  },
  {
   "cell_type": "code",
   "execution_count": 38,
   "id": "62a32d2e",
   "metadata": {},
   "outputs": [],
   "source": [
    "df[df$familia=='Aromobatidae', 'classe'] <- 'Diplopoda'\n",
    "df[df$familia=='Cycloramphidae', 'classe'] <- 'Amphibia'\n",
    "df[df$familia=='Hylodidae', 'classe'] <- 'Amphibia'\n",
    "df[df$familia=='Odontophrynidae', 'classe'] <- 'Amphibia'\n",
    "df[df$familia=='Odontophrynidae', 'classe'] <- 'Amphibia'\n",
    "df[df$familia=='Kimulidae', 'classe'] <- 'Arachnida'\n",
    "df[df$familia=='Grallariidae', 'classe'] <- 'Aves'\n",
    "df[df$familia=='Onychorhynchidae', 'classe'] <- 'Aves'\n",
    "df[df$familia=='Platyrinchidae', 'classe'] <- 'Aves'\n",
    "df[df$familia=='Scleruridae', 'classe'] <- 'Aves'\n",
    "df[df$familia=='Tityridae', 'classe'] <- 'Aves'\n",
    "df[df$familia=='Xenopidae', 'classe'] <- 'Aves'\n",
    "df[df$familia=='Epinephelidae', 'classe'] <- 'Atheriniformes'\n",
    "df[df$familia=='Liolaemidae', 'classe'] <- 'Reptilia'\n",
    "df[df$familia=='Mabuyidae', 'classe'] <- 'Reptilia'\n",
    "df[df$familia=='Phyllodactylidae', 'classe'] <- 'Reptilia'\n",
    "df[df$familia=='Sphaerodactylidae', 'classe'] <- 'Reptilia'"
   ]
  },
  {
   "cell_type": "code",
   "execution_count": 250,
   "id": "ebdf8ad9",
   "metadata": {},
   "outputs": [],
   "source": [
    "# salvar como csv\n",
    "write.csv2(df, './port_MMA_300-2022_fauna_lista_definitiva.csv',\n",
    "           row.names = FALSE, \n",
    "           fileEncoding = 'latin1')"
   ]
  },
  {
   "cell_type": "markdown",
   "id": "8b08eb2c",
   "metadata": {},
   "source": [
    "## 7.4 Quais Classes Taxonômicas são mais Ameaçadas na Fauna Brasileira "
   ]
  },
  {
   "cell_type": "code",
   "execution_count": 39,
   "id": "36f37df5",
   "metadata": {},
   "outputs": [
    {
     "data": {
      "image/png": "[encoded data removed]",
      "text/plain": [
       "plot without title"
      ]
     },
     "metadata": {
      "image/png": {
       "height": 600,
       "width": 720
      }
     },
     "output_type": "display_data"
    }
   ],
   "source": [
    "statusClass <- df %>%\n",
    "        count(classe, sort = TRUE) %>%\n",
    "        slice_max(n, n = 10)\n",
    "\n",
    "statusClass$classe <- with(statusClass, reorder(classe, n))\n",
    "\n",
    "ggplot(statusClass, aes(classe, n)) +\n",
    "        geom_col(fill = 'steelblue') + coord_flip() +\n",
    "        geom_text(aes(label = n, hjust = 2), color = 'white', size = 8) +\n",
    "        my_theme +\n",
    "        labs(\n",
    "                title = '10 Classe da Flaua com Maior Número de Espécies Ameaçadas de Extinção',\n",
    "                x = '',\n",
    "                y = ''\n",
    "            )"
   ]
  },
  {
   "cell_type": "markdown",
   "id": "01a73c02",
   "metadata": {},
   "source": [
    "## 7.5 Quais Ordens Taxonômicas Possuem o Maior Número de Espécies Ameaçadas"
   ]
  },
  {
   "cell_type": "code",
   "execution_count": 42,
   "id": "9b60fb97",
   "metadata": {},
   "outputs": [
    {
     "data": {
      "image/png": "[encoded data removed]",
      "text/plain": [
       "plot without title"
      ]
     },
     "metadata": {
      "image/png": {
       "height": 600,
       "width": 720
      }
     },
     "output_type": "display_data"
    }
   ],
   "source": [
    "statusOrdem <- df %>%\n",
    "        count(ordem, sort = TRUE) %>%\n",
    "        slice_max(n, n = 10)\n",
    "\n",
    "statusOrdem$ordem <- with(statusOrdem, reorder(ordem, n))\n",
    "\n",
    "ggplot(statusOrdem, aes(ordem, n)) +\n",
    "        geom_col(fill = 'steelblue') + coord_flip() +\n",
    "        geom_text(aes(label = n, hjust = 2), color = 'white', size = 8) +\n",
    "        my_theme +\n",
    "        labs(\n",
    "                title = '10 Ordens da Flaua com Maior Número de Espécies Ameaçadas de Extinção',\n",
    "                x = '',\n",
    "                y = ''\n",
    "            )"
   ]
  },
  {
   "cell_type": "markdown",
   "id": "76c252f6",
   "metadata": {},
   "source": [
    "## 7.6 Resumo dos Dados da Fauna Por Categoria de Ameaça"
   ]
  },
  {
   "cell_type": "code",
   "execution_count": 78,
   "id": "af7d7858",
   "metadata": {},
   "outputs": [
    {
     "data": {
      "image/png": "[encoded data removed]",
      "text/plain": [
       "plot without title"
      ]
     },
     "metadata": {
      "image/png": {
       "height": 600,
       "width": 720
      }
     },
     "output_type": "display_data"
    }
   ],
   "source": [
    "# Set status dataframe\n",
    "species_status <- df %>%\n",
    "        group_by(categoria) %>%\n",
    "        count(categoria) %>%\n",
    "        slice_max(n, n = 10)\n",
    "\n",
    "# Reorder status dataframe by \"n\" and \"categoria\" columns\n",
    "species_status$categoria <- with(species_status, reorder(categoria, n))\n",
    "\n",
    "# Legend\n",
    "labels <- c('VU\\nVulnerável', 'EN\\nEm Perigo', 'CR\\nCriticamente\\n em Perigo', \n",
    "            'CR (PEX)\\nCriticamente em Perigo\\n(Provavelmente Extinta)',\n",
    "           'EX\\nExtinta', 'RE\\nRegionalmente Extinta\\n(Extinta no Brasil)',\n",
    "            'EW\\nExtinta na Natureza')\n",
    "\n",
    "status_cod <- c('VU', 'EN', 'CR' , 'CR (PEX)', 'EX', 'RE', 'EW')\n",
    "\n",
    "# Status plot        \n",
    "ggplot(species_status, aes(x = reorder(categoria, n, decreasing = F), n, fill = n)) +\n",
    "    geom_col() +\n",
    "    my_theme +\n",
    "    theme(axis.text.x = element_text(angle = 90)) +\n",
    "    scale_x_discrete(limits = status_cod, labels = labels) +\n",
    "    labs(\n",
    "            title = 'Espécies da Fauna Ameaçadas de Extinção no Brasil',\n",
    "            x = '',\n",
    "            y = '',\n",
    "            fill = ''\n",
    "    )"
   ]
  },
  {
   "cell_type": "code",
   "execution_count": null,
   "id": "7d173442",
   "metadata": {},
   "outputs": [],
   "source": []
  }
 ],
 "metadata": {
  "kernelspec": {
   "display_name": "R",
   "language": "R",
   "name": "ir"
  },
  "language_info": {
   "codemirror_mode": "r",
   "file_extension": ".r",
   "mimetype": "text/x-r-source",
   "name": "R",
   "pygments_lexer": "r",
   "version": "4.2.0"
  }
 },
 "nbformat": 4,
 "nbformat_minor": 5
}
