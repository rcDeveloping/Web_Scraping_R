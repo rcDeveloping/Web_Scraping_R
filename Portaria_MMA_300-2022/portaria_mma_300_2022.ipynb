{
 "cells": [
  {
   "cell_type": "markdown",
   "id": "7199bbb5",
   "metadata": {},
   "source": [
    "<h1 align=\"center\">Espécies Ameaçadas de Extinção no Brasil</h1>\n",
    "\n",
    "<h3>1. Introdução</h3>\n",
    "<p style=\"text-align:justify\">A Portaria MMA 300/2022 revogou as Portarias 443/2014, 444/2014 e 445/2014, as quais em seua anexos definiam as listas de espécie da flora, fauna e peixes e invertebrados aquáticos ameaçados de extinção no Brasil. Estas listas foram atualizadas e hoje fazem parte da Portaria MMA 300/2022. Os dados aqui utilizados foram obtidos em 14 de dezembro de 2022.</p>\n",
    "<p style=\"text-align:justify\"></p>\n",
    "<p style=\"text-align:justify\">O objetivo deste <i>notebook</i> é utilizar a técncia <i>web scraping</i> para extrair as tabelas referentes as espécies da flora, fauna brasileiras ameçadas de extinção, conforme <a href=\"http://www.in.gov.br/web/dou/-/portaria-gm/mma-n-300-de-13-de-dezembro-de-2022-450425464\">Portaria MMA nº 300</a>, de 13 de dezembro de 2022. Para tal utilizaremos a linguagem de programação R</p>"
   ]
  },
  {
   "cell_type": "markdown",
   "id": "658bcb45",
   "metadata": {},
   "source": [
    "### 2. Import pacotes necessários"
   ]
  },
  {
   "cell_type": "code",
   "execution_count": null,
   "id": "f00aae3f",
   "metadata": {},
   "outputs": [],
   "source": [
    "# Import libraries\n",
    "library(rvest)\n",
    "library(dplyr, warn.conflicts = FALSE)\n",
    "library(ggplot2)\n",
    "library(stringr)\n",
    "library(finch)"
   ]
  },
  {
   "cell_type": "markdown",
   "id": "c3622aa7",
   "metadata": {},
   "source": [
    "### 3. Definição do endereço web"
   ]
  },
  {
   "cell_type": "code",
   "execution_count": null,
   "id": "8770391f",
   "metadata": {},
   "outputs": [],
   "source": [
    "# Set url\n",
    "url = 'https://www.in.gov.br/en/web/dou/-/portaria-gm/mma-n-300-de-13-de-dezembro-de-2022-450425464'"
   ]
  },
  {
   "cell_type": "markdown",
   "id": "df4411de",
   "metadata": {},
   "source": [
    "### 4. Aplicando a técnica _web scraping_"
   ]
  },
  {
   "cell_type": "code",
   "execution_count": null,
   "id": "db1493a8",
   "metadata": {},
   "outputs": [],
   "source": [
    "# web scraping the url\n",
    "tab_lst <- url %>%\n",
    "        read_html() %>%\n",
    "        html_nodes(xpath = '//table') %>%\n",
    "        html_table(header = FALSE)"
   ]
  },
  {
   "cell_type": "markdown",
   "id": "023bdc0b",
   "metadata": {},
   "source": [
    "### 5. Obter informações dos dados"
   ]
  },
  {
   "cell_type": "code",
   "execution_count": null,
   "id": "f4e07542",
   "metadata": {},
   "outputs": [],
   "source": [
    "glimpse(tab_lst)"
   ]
  },
  {
   "cell_type": "code",
   "execution_count": null,
   "id": "e4f57552",
   "metadata": {},
   "outputs": [],
   "source": [
    "length(tab_lst)"
   ]
  },
  {
   "cell_type": "code",
   "execution_count": null,
   "id": "69a896c7",
   "metadata": {},
   "outputs": [],
   "source": [
    "# FLORA - lists 1-65\n",
    "head(tab_lst[[65]])"
   ]
  },
  {
   "cell_type": "code",
   "execution_count": null,
   "id": "edb47613",
   "metadata": {},
   "outputs": [],
   "source": [
    "# Fauna - lists 66-95\n",
    "tail(tab_lst[[83]])"
   ]
  },
  {
   "cell_type": "markdown",
   "id": "edbc99c4",
   "metadata": {},
   "source": [
    "<p style=\"text-align=justify\">Ao inspercionar os dados podemos verificar que temos uma lista composta por 96 <i>dataframes</i>, sendo que o último é um dado que não faz parte das tabelas da fauna e flora, o que deveremos excluí-lo da lista.</p>\n",
    "<p style=\"text-align=justify\">Também é possível verificar que os elementos da lista de 1 a 65 são referentes as tabelas da flora, o restante refere-se as espécies da fauna. Os dataframes de flora possuem 5 colunas, enquato que os da fauna 6</p>"
   ]
  },
  {
   "cell_type": "code",
   "execution_count": null,
   "id": "3909410d",
   "metadata": {},
   "outputs": [],
   "source": [
    "# Remove undesirable data\n",
    "tab_lst[[96]] <- NULL"
   ]
  },
  {
   "cell_type": "markdown",
   "id": "3adeb778",
   "metadata": {},
   "source": [
    "### 5. Limpeza de dados\n",
    "<p style=\"text-alig:justify\">Precisamos redefinir os nomes das colunas para os dados de fauna e flora, pois possuem número de colunas diferentes, o que permitira unir todos em um único <i>dataframe</i></p>"
   ]
  },
  {
   "cell_type": "code",
   "execution_count": null,
   "id": "f9a43506",
   "metadata": {},
   "outputs": [],
   "source": [
    "# Set column names for each dataframe in a list\n",
    "for (i in 1:length(tab_lst)) {\n",
    "    if (length(unlist(attributes(tab_lst[[i]])[2])) == 5) {\n",
    "        names(tab_lst[[i]]) <- c('n', 'port443', 'familia',\n",
    "                                 'especie_subespecie_var', \n",
    "                                 'categoria')\n",
    "    }\n",
    "    else {\n",
    "        if (length(unlist(attributes(tab_lst[[i]])[2])) == 6) {\n",
    "            names(tab_lst[[i]]) <- c('n', 'port443', 'ordem',\n",
    "                                   'familia', 'especie_subespecie', \n",
    "                                   'categoria')\n",
    "        }\n",
    "    }\n",
    "}\n",
    "\n",
    "# Check attributes       \n",
    "names(tab_lst[[1]])  # flora\n",
    "names(tab_lst[[94]]) # fauna"
   ]
  },
  {
   "cell_type": "markdown",
   "id": "31d1a958",
   "metadata": {},
   "source": [
    "### 5.1 Extrair apenas os dados referentes à flora e salvá-los em planilha csv"
   ]
  },
  {
   "cell_type": "code",
   "execution_count": null,
   "id": "10d73862",
   "metadata": {},
   "outputs": [],
   "source": [
    "# Subset the flora dataframes in the list\n",
    "df_list <- tab_lst[1:65]\n",
    "\n",
    "# Loop over the list to merge all flora dataframes in a single dataframe\n",
    "for (i in 1:65) {\n",
    "    \n",
    "    df_list[[i]][1] <- NULL\n",
    "    df <- bind_rows(df_list)\n",
    "    df <- df[c(-1, -2), c(1:4)]\n",
    "    df <- df %>% \n",
    "        tibble::rowid_to_column(var = 'n')\n",
    "    \n",
    "    df <- df[complete.cases(df), ]\n",
    "    \n",
    "    write.csv2(\n",
    "        df, './port_mma300_2022_flora.csv', \n",
    "        row.names = FALSE)\n",
    "    \n",
    "}"
   ]
  },
  {
   "cell_type": "markdown",
   "id": "db565a90",
   "metadata": {},
   "source": [
    "<p style=\"text-align:justify\">Chama atenção o fato de muitas espécies, tanto da flora quanto da fauna, estarem com a grafia do nome científico errado, a exemplo de <i>Vochysia gummifera</i>, a qual está grafada como <i>Vochysiagummifera</i>, o que pode induzir o público leigo a erros quando busca por expécies ameaçadas. O trecho de código abaixo mostra o número total de espécies da flora que apresentam erro grave de grafia.</p>"
   ]
  },
  {
   "cell_type": "code",
   "execution_count": null,
   "id": "2b00123b",
   "metadata": {},
   "outputs": [],
   "source": [
    "df_flora <- read.csv2('./port_mma300_2022_flora.csv', fileEncoding = 'UTF-8')\n",
    "\n",
    "sum(is.na(str_extract(df_flora$especie_subespecie_var, \n",
    "                               '(\\\\b\\\\w+\\\\s\\\\w+\\\\b)|(\\\\b\\\\w+\\\\s\\\\w+\\\\s\\\\w+\\\\b)')))"
   ]
  },
  {
   "cell_type": "markdown",
   "id": "69f98cbb",
   "metadata": {},
   "source": [
    "### 5.2 Correção dos Nomes Científicos\n",
    "<p style=\"text-align:justify\">Para corrigir os erros de grafia nos nomes científicos usaremos como referência a lista de espécies do projeto <a href=\"https://reflora.jbrj.gov.br/reflora\">REFLORA, cuja base de dados encontra-se no <a href=\"http://ipt.jbrj.gov.br/jbrj/archive.do?r=lista_especies_flora_brasil&v=393.291\">site do jardim botânico do Rio de Janeiro</a></p>"
   ]
  },
  {
   "cell_type": "code",
   "execution_count": null,
   "id": "cd351814",
   "metadata": {},
   "outputs": [],
   "source": [
    "require('fuzzyjoin')\n",
    "\n",
    "# Reflora\n",
    "reflora <- read.csv2('./reflora20210929.csv',\n",
    "                     fileEncoding = 'UTF-8')\n",
    "\n",
    "# Join\n",
    "tbl_join <- fuzzyjoin::stringdist_inner_join(df_flora, reflora,\n",
    "                                           by = c('especie_subespecie_var' = 'specie'),\n",
    "                                           ignore_case = TRUE,\n",
    "                                           distance_col = 'distance')\n",
    "\n",
    "\n",
    "df <- tbl_join %>%\n",
    "        filter(distance < 2) %>%\n",
    "        distinct(n, .keep_all = TRUE) %>%\n",
    "        select(c(1:3, 7, 5))\n",
    "\n",
    "\n",
    "# salvar como csv\n",
    "write.csv2(df, './port_MMA_300-2022_clean.csv', row.names = FALSE)"
   ]
  },
  {
   "cell_type": "markdown",
   "id": "61ff2f6c",
   "metadata": {},
   "source": [
    "## 5.4 Consultar todas as Espécies dos Gêneros _Manilkara_ e _Vochysia_"
   ]
  },
  {
   "cell_type": "code",
   "execution_count": null,
   "id": "89a628bc",
   "metadata": {},
   "outputs": [],
   "source": [
    "# Consultas\n",
    "df %>%\n",
    "        filter(specie == str_extract(specie, '(^Manilkara\\\\s\\\\w+)*'))\n",
    "\n",
    "df %>%\n",
    "        filter(specie == str_extract(specie, '(^Vochysia\\\\s\\\\w+)*'))"
   ]
  },
  {
   "cell_type": "markdown",
   "id": "327e817a",
   "metadata": {},
   "source": [
    "### 6. Análise dos dados de flora"
   ]
  },
  {
   "cell_type": "code",
   "execution_count": null,
   "id": "18197a79",
   "metadata": {},
   "outputs": [],
   "source": [
    "# Portaria MMA 443\n",
    "port443 <- read.csv('D:/data/jbrio/port443.csv')\n",
    "\n",
    "df_flora <- data.frame(Portaria_443 = nrow(port443),\n",
    "                       Portaria_300 = nrow(df),\n",
    "                       Diferença = (nrow(df) - nrow(port443)))\n",
    "\n",
    "as_tibble(df_flora)"
   ]
  },
  {
   "cell_type": "markdown",
   "id": "e744c422",
   "metadata": {},
   "source": [
    "<p style=\"text-align=justify\">Podemos observar que houve um acrescimo de 999 novas espécies ameaçadas de extinção para a flora brasileira.</p>"
   ]
  },
  {
   "cell_type": "code",
   "execution_count": null,
   "id": "40114251",
   "metadata": {
    "scrolled": false
   },
   "outputs": [],
   "source": [
    "# Set figure size\n",
    "options(repr.plot.width = 12, repr.plot.height = 10)\n",
    "\n",
    "# Set theme to the plots\n",
    "my_theme <- theme(plot.title = element_text(hjust = 0.5, size = 18, face = 'bold'),\n",
    "          axis.title = element_text(size = 17),\n",
    "          axis.text = element_text(size = 17),\n",
    "          legend.text = element_text(size = 17),\n",
    "          legend.position = c(0.9, 0.5))\n",
    "\n",
    "# Set status dataframe\n",
    "species_status <- df %>%\n",
    "        group_by(categoria) %>%\n",
    "        count(categoria, sort = TRUE)\n",
    "# Reorder status dataframe by \"n\" and \"categoria\" columns\n",
    "species_status$categoria <- with(species_status, \n",
    "                                 reorder(categoria, n, decreasing = TRUE))\n",
    "\n",
    "# Legend\n",
    "labels <- c('EN\\nEm Perigo', 'VU\\nVulnerável', 'CR\\nCriticamente em Perigo', \n",
    "            'CR (PEX)\\nCriticamente em Perigo\\n(Provavelmente Extinta)')\n",
    "\n",
    "status_cod <- c('EN' , 'VU', 'CR' , 'CR (PEX)')\n",
    "\n",
    "# Status plot        \n",
    "ggplot(species_status, aes(x = categoria, y = n, fill = n)) +\n",
    "    geom_col() +\n",
    "    my_theme +\n",
    "    scale_x_discrete(limits = status_cod, labels = labels) +\n",
    "    labs(\n",
    "            title = 'Espécies da Flora Ameaçadas de Extinção no Brasil',\n",
    "            x = 'Categoria',\n",
    "            y = 'Nº de espécies',\n",
    "            fill = ''\n",
    "    )"
   ]
  },
  {
   "cell_type": "code",
   "execution_count": null,
   "id": "9a6bb7c4",
   "metadata": {},
   "outputs": [],
   "source": [
    "# Set figure size\n",
    "options(repr.plot.width = 12, repr.plot.height = 10)\n",
    "\n",
    "statusFamily <- df %>%\n",
    "        #filter(familia != \"\") %>%\n",
    "        count(familia, sort = TRUE) %>%\n",
    "        slice_max(n, n = 10)\n",
    "\n",
    "statusFamily$familia <- with(statusFamily, reorder(familia, n))\n",
    "\n",
    "ggplot(statusFamily, aes(familia, n)) +\n",
    "        geom_col(fill = 'steelblue') + coord_flip() +\n",
    "        geom_text(aes(label = n, hjust = 2), color = 'white', size = 8) +\n",
    "        my_theme +\n",
    "        labs(\n",
    "                title = '10 Famílias da Flora com Maior Número de Espécies Ameaçadas de Extinção',\n",
    "                x = '',\n",
    "                y = ''\n",
    "            )"
   ]
  },
  {
   "cell_type": "markdown",
   "id": "aad52a15",
   "metadata": {},
   "source": [
    "<p style=\"text-align:justify\">Ao comparar a lista da Portaria MMA 300/2022 com a lista de espécies do projeto REFLORA, foi obervado que há 15 nomes cientificos com grafia de sinônimo taxonômico</p>"
   ]
  },
  {
   "cell_type": "markdown",
   "id": "a1eaf2a5",
   "metadata": {},
   "source": [
    "## 7. Dados Referentes à Fauna"
   ]
  },
  {
   "cell_type": "markdown",
   "id": "46f97aa1",
   "metadata": {},
   "source": [
    "## 7.1 Extrair apenas os dados referentes à fauna e salvá-los em planilha csv"
   ]
  },
  {
   "cell_type": "code",
   "execution_count": null,
   "id": "3a2cc64e",
   "metadata": {},
   "outputs": [],
   "source": [
    "# Subset the flora dataframes in the list\n",
    "df_list_fauna <- tab_lst[66:95]\n",
    "    \n",
    "#df_list_fauna <- lapply(df_list_fauna, function(x) { x[!is.na(x)] })\n",
    "    \n",
    "df_fauna <- purrr::reduce(df_list_fauna, rbind)\n",
    "df_fauna <- df_fauna[c(-1, -2), ]     \n",
    "\n",
    "write.csv2(\n",
    "    df_fauna, './port_mma300_2022_fauna.csv', \n",
    "    row.names = FALSE,\n",
    "    fileEncoding = 'latin1')"
   ]
  },
  {
   "cell_type": "code",
   "execution_count": null,
   "id": "cd488b72",
   "metadata": {},
   "outputs": [],
   "source": [
    "print(head(df_fauna))\n",
    "print(tail(df_fauna))"
   ]
  },
  {
   "cell_type": "markdown",
   "id": "88ce4753",
   "metadata": {},
   "source": [
    "## 7.2 Correção dos Nomes Científicos da Fauna "
   ]
  },
  {
   "cell_type": "markdown",
   "id": "fdf95305",
   "metadata": {},
   "source": [
    "<p style=\"text-align:justify\">Asssim como nas tabelas da flora, as da fauna também apresentam erros de grafia nos nomes científico, conforme mostrado na saída do código abaixo.</p>"
   ]
  },
  {
   "cell_type": "code",
   "execution_count": null,
   "id": "0ec9b9ae",
   "metadata": {},
   "outputs": [],
   "source": [
    "df_fauna <- read.csv2('./port_mma300_2022_fauna.csv', fileEncoding = 'latin1')\n",
    "df_fauna[is.na(str_extract(df_fauna$especie_subespecie, '(\\\\w+\\\\s\\\\w+)')), ]"
   ]
  },
  {
   "cell_type": "markdown",
   "id": "fab8b1d8",
   "metadata": {},
   "source": [
    "O código abaixo mostra que foram publicados 235 nomes científicos da fauna de forma incorreta."
   ]
  },
  {
   "cell_type": "code",
   "execution_count": null,
   "id": "773aeac0",
   "metadata": {},
   "outputs": [],
   "source": [
    "sum(is.na(str_extract(df_fauna$especie_subespecie, '\\\\w+\\\\s\\\\w+')))"
   ]
  },
  {
   "cell_type": "markdown",
   "id": "6d521fab",
   "metadata": {},
   "source": [
    "Para correção dos nomes científicos da fauna foram utilizados os dados do _[Global Biodiversity Information Facility](https://www.gbif.org/)_."
   ]
  },
  {
   "cell_type": "code",
   "execution_count": null,
   "id": "22c168ed",
   "metadata": {},
   "outputs": [],
   "source": [
    "# Tabela Fauna GBIF\n",
    "gbif <- readRDS('./Portaria_MMA_300-2022/gbif_clean.rds')"
   ]
  },
  {
   "cell_type": "code",
   "execution_count": null,
   "id": "06d44fac",
   "metadata": {},
   "outputs": [],
   "source": [
    "port300_fauna <- df_fauna %>%\n",
    "        mutate(especie_subespecie = tolower(especie_subespecie)) %>%\n",
    "        mutate(especie_subespecie = R.utils::capitalize(especie_subespecie)) %>%\n",
    "        mutate(especie_subespecie = str_trim(especie_subespecie)) %>%\n",
    "        mutate(especie_subespecie = str_squish(especie_subespecie))"
   ]
  },
  {
   "cell_type": "code",
   "execution_count": null,
   "id": "200b928a",
   "metadata": {},
   "outputs": [],
   "source": [
    "# Nomes incorretos\n",
    "port300_fauna_erro <- port300_fauna %>%\n",
    "        filter(!especie_subespecie %in% str_extract(especie_subespecie,\n",
    "                                                    '(\\\\b\\\\w+\\\\s\\\\w+\\\\b)')) %>%\n",
    "        filter(!especie_subespecie %in% str_extract(especie_subespecie,\n",
    "                                                    '(\\\\b\\\\w+\\\\s\\\\w+\\\\s\\\\w+\\\\b)'))"
   ]
  },
  {
   "cell_type": "code",
   "execution_count": null,
   "id": "f574aa38",
   "metadata": {},
   "outputs": [],
   "source": [
    "# Join\n",
    "tbl_join_fauna <- fuzzyjoin::stringdist_inner_join(port300_fauna_erro, gbif,\n",
    "                                           by = c('especie_subespecie' = 'especie_GBIF'),\n",
    "                                           ignore_case = TRUE,\n",
    "                                           distance_col = 'distance')\n",
    "\n",
    "# Novo dataframe com os dados processados\n",
    "df <- port300_fauna %>%\n",
    "        left_join(tbl_join_fauna, by = 'especie_subespecie')"
   ]
  },
  {
   "cell_type": "markdown",
   "id": "5701e79e",
   "metadata": {},
   "source": [
    "## Definição das Classes Taxonômicas para as Espécie da Fauna\n",
    "A obtenção das classes taxômicas foi realizada através dos dados obtidos no site do projeto _The Interim Register of Marine and Nonmarine Genera_ - [IRMNG](https://www.irmng.org/download.php)"
   ]
  },
  {
   "cell_type": "code",
   "execution_count": null,
   "id": "6355e2eb",
   "metadata": {},
   "outputs": [],
   "source": [
    "taxon <- readRDS('./taxon_animalia.rds') %>%\n",
    "    mutate(family = str_trim(family))\n",
    "\n",
    "glimpse(taxon)"
   ]
  },
  {
   "cell_type": "code",
   "execution_count": null,
   "id": "a748b0e2",
   "metadata": {},
   "outputs": [],
   "source": [
    "df_fauna <- read.csv2('./port_MMA_300-2022_fauna_final.csv', fileEncoding = 'latin1')\n",
    "glimpse(df_fauna)"
   ]
  },
  {
   "cell_type": "code",
   "execution_count": null,
   "id": "bc51fe1d",
   "metadata": {
    "scrolled": true
   },
   "outputs": [],
   "source": [
    "# Obter registros duplicados e removê-los\n",
    "nomes_duplicados <- df_fauna %>%\n",
    "    count(especie_subespecie, name = 'cnt') %>%\n",
    "    filter(cnt > 1)\n",
    "\n",
    "head(nomes_duplicados)\n",
    "dim(nomes_duplicados)"
   ]
  },
  {
   "cell_type": "code",
   "execution_count": null,
   "id": "6805b066",
   "metadata": {},
   "outputs": [],
   "source": [
    "# Lista sem nomes duplicados\n",
    "nrow(filter(df_fauna, !duplicated(especie_subespecie)))"
   ]
  },
  {
   "cell_type": "code",
   "execution_count": null,
   "id": "3eca6461",
   "metadata": {},
   "outputs": [],
   "source": [
    "df_fauna_fim <- taxon %>%\n",
    "    select(family, class) %>%\n",
    "    left_join(df_fauna, by = c('family' = 'familia')) %>%\n",
    "    tidyr::drop_na() %>%\n",
    "    rename(familia = family, classe = class) %>%\n",
    "    select(c(3, 4, 2, 5, 1, 6, 7)) %>%\n",
    "    filter(!duplicated(especie_subespecie))"
   ]
  },
  {
   "cell_type": "code",
   "execution_count": null,
   "id": "9bb3fc5b",
   "metadata": {},
   "outputs": [],
   "source": [
    "head(df_fauna_fim)\n",
    "dim(df_fauna_fim)"
   ]
  },
  {
   "cell_type": "markdown",
   "id": "152f493d",
   "metadata": {},
   "source": [
    "<p style=\"text-align:justify\">A lista completa da fauna contém 1.266 espécies, porém, após a junção com os dados de classe da tabela do IRMNG observa-se que a lista passou a ter 1.210 espécies, indicando que na tabela de referência para obtenção das classes taxonômicas não existem 56 espécies da lista em questão e/ou que a lista foi gerado com nomes duplicados.</p>\n",
    "    \n",
    "<p style=\"text-align:justify\">Para resolver esse problema utilizaremos o pacote <i>taxize</i>, o qual permite consultar nomes científicos em diferentes bases de dados sobre biodiversidade no mundo, a exemplo da base de do <i>Integrated Taxonomic Information System</i><a href=\"https://itis.gov/\"> - ITS</a> e <i>The National Center for Biotechnology Information</i><a href=\"https://www.ncbi.nlm.nih.gov/\"> - NCBI.</a> Não utilizamos este pacote desde op começo da análise em função do tempo de processamento necessário ser muito longo para a lista ora sob análise.</p>"
   ]
  },
  {
   "cell_type": "code",
   "execution_count": null,
   "id": "b9918676",
   "metadata": {},
   "outputs": [],
   "source": [
    "nomes_sem_classe <- df_fauna %>%\n",
    "    anti_join(df_fauna_fim, by = 'familia')"
   ]
  },
  {
   "cell_type": "code",
   "execution_count": 234,
   "id": "05bfff9b",
   "metadata": {},
   "outputs": [
    {
     "data": {
      "text/html": [
       "<style>\n",
       ".list-inline {list-style: none; margin:0; padding: 0}\n",
       ".list-inline>li {display: inline-block}\n",
       ".list-inline>li:not(:last-child)::after {content: \"\\00b7\"; padding: 0 .5ex}\n",
       "</style>\n",
       "<ol class=list-inline><li>56</li><li>6</li></ol>\n"
      ],
      "text/latex": [
       "\\begin{enumerate*}\n",
       "\\item 56\n",
       "\\item 6\n",
       "\\end{enumerate*}\n"
      ],
      "text/markdown": [
       "1. 56\n",
       "2. 6\n",
       "\n",
       "\n"
      ],
      "text/plain": [
       "[1] 56  6"
      ]
     },
     "metadata": {},
     "output_type": "display_data"
    }
   ],
   "source": [
    "# Obter número de linhas e colunas\n",
    "dim(nomes_sem_classe)"
   ]
  },
  {
   "cell_type": "markdown",
   "id": "0e70274e",
   "metadata": {},
   "source": [
    "Para ganhar desempenho no processamento da busca nos dados do ITS e NCBI, utilizaremos apenas as espécies que não possuem associação coma os dados do IRMNG."
   ]
  },
  {
   "cell_type": "code",
   "execution_count": null,
   "id": "dcdef81c",
   "metadata": {},
   "outputs": [],
   "source": [
    "classes <- nomes_sem_classe %>%\n",
    "        # Busca as classes taxonômicas na base de dados do ITS utilizando a família como parâmetro\n",
    "        mutate(classe = taxize::tax_name(familia, get = \"class\", db = 'itis')$class) %>%\n",
    "        # Busca as classes taxonômicas na base de dados do NCBI utilizando a família como parâmetro\n",
    "        mutate(classe = if_else(is.na(classe), \n",
    "                                taxize::tax_name(familia, get = \"class\", db = 'ncbi')$class, \n",
    "                                classe)) %>%\n",
    "        select(c(1, 2, 7, 3:6))"
   ]
  },
  {
   "cell_type": "code",
   "execution_count": null,
   "id": "763b69c3",
   "metadata": {},
   "outputs": [],
   "source": [
    "dim(classes)"
   ]
  },
  {
   "cell_type": "markdown",
   "id": "6b01eba4",
   "metadata": {},
   "source": [
    "Após as buscas em duas bases de dados, apenas 27 espécies ficaram sem a correspondente classe taxonômica, como podemos observar na saída do código abaixo."
   ]
  },
  {
   "cell_type": "code",
   "execution_count": null,
   "id": "df745822",
   "metadata": {},
   "outputs": [],
   "source": [
    "summary(is.na(classes$classe))"
   ]
  },
  {
   "cell_type": "markdown",
   "id": "c1e18bcb",
   "metadata": {},
   "source": [
    "De posse da maioria das classes das espécies da fauna, faremos a junção dos _dataframes_ _df_fauna_ e _classes_ para salvar os dados definitivos em uma planilha csv. Entretano, antes de salvarmos a lista definitiva, vamos ferificar quais espécies estão sem classe taxonômica e tentar obtê-las manualmente."
   ]
  },
  {
   "cell_type": "code",
   "execution_count": null,
   "id": "b291d5e8",
   "metadata": {},
   "outputs": [],
   "source": [
    "# Junção dos dataframes\n",
    "df <- rbind(classes, df_fauna_fim)\n",
    "\n",
    "# ordenar os dados pela coluna \"n\"\n",
    "df <- df %>%\n",
    "    arrange(n)"
   ]
  },
  {
   "cell_type": "code",
   "execution_count": 230,
   "id": "bfd81c9b",
   "metadata": {},
   "outputs": [
    {
     "data": {
      "text/html": [
       "<table class=\"dataframe\">\n",
       "<caption>A data.frame: 27 × 7</caption>\n",
       "<thead>\n",
       "\t<tr><th></th><th scope=col>n</th><th scope=col>port443</th><th scope=col>classe</th><th scope=col>ordem</th><th scope=col>familia</th><th scope=col>especie_subespecie</th><th scope=col>categoria</th></tr>\n",
       "\t<tr><th></th><th scope=col>&lt;int&gt;</th><th scope=col>&lt;chr&gt;</th><th scope=col>&lt;chr&gt;</th><th scope=col>&lt;chr&gt;</th><th scope=col>&lt;chr&gt;</th><th scope=col>&lt;chr&gt;</th><th scope=col>&lt;chr&gt;</th></tr>\n",
       "</thead>\n",
       "<tbody>\n",
       "\t<tr><th scope=row>506</th><td> 513</td><td>*</td><td>NA</td><td>Glomeridesmida</td><td>Glomerodesmidae </td><td>Glomeridesmus spelaeus             </td><td>EN      </td></tr>\n",
       "\t<tr><th scope=row>735</th><td> 746</td><td> </td><td>NA</td><td>Passeriformes </td><td>Onychorhynchidae</td><td>Onychorhynchusswainsoni            </td><td>VU      </td></tr>\n",
       "\t<tr><th scope=row>743</th><td> 754</td><td>*</td><td>NA</td><td>Passeriformes </td><td>Platyrinchidae  </td><td>Calyptura cristata                 </td><td>CR (PEX)</td></tr>\n",
       "\t<tr><th scope=row>744</th><td> 755</td><td> </td><td>NA</td><td>Passeriformes </td><td>Platyrinchidae  </td><td>Platyrinchus leucoryphus           </td><td>VU      </td></tr>\n",
       "\t<tr><th scope=row>745</th><td> 756</td><td>*</td><td>NA</td><td>Passeriformes </td><td>Platyrinchidae  </td><td>Platyrinchus mystaceus niveigularis</td><td>VU      </td></tr>\n",
       "\t<tr><th scope=row>752</th><td> 763</td><td> </td><td>NA</td><td>Passeriformes </td><td>Rhynchocyclidae </td><td>Cnipodectessuperrufus              </td><td>VU      </td></tr>\n",
       "\t<tr><th scope=row>753</th><td> 764</td><td>*</td><td>NA</td><td>Passeriformes </td><td>Rhynchocyclidae </td><td>Hemitriccus kaempferi              </td><td>VU      </td></tr>\n",
       "\t<tr><th scope=row>754</th><td> 765</td><td>*</td><td>NA</td><td>Passeriformes </td><td>Rhynchocyclidae </td><td>Hemitriccus mirandae               </td><td>EN      </td></tr>\n",
       "\t<tr><th scope=row>755</th><td> 766</td><td>*</td><td>NA</td><td>Passeriformes </td><td>Rhynchocyclidae </td><td>Phylloscartes beckeri              </td><td>EN      </td></tr>\n",
       "\t<tr><th scope=row>756</th><td> 767</td><td>*</td><td>NA</td><td>Passeriformes </td><td>Rhynchocyclidae </td><td>Phylloscartes ceciliae             </td><td>CR      </td></tr>\n",
       "\t<tr><th scope=row>757</th><td> 768</td><td>*</td><td>NA</td><td>Passeriformes </td><td>Rhynchocyclidae </td><td>Phylloscartes roquettei            </td><td>EN      </td></tr>\n",
       "\t<tr><th scope=row>758</th><td> 769</td><td> </td><td>NA</td><td>Passeriformes </td><td>Rhynchocyclidae </td><td>Poecilotriccus albifacies          </td><td>VU      </td></tr>\n",
       "\t<tr><th scope=row>759</th><td> 770</td><td>*</td><td>NA</td><td>Passeriformes </td><td>Scleruridae     </td><td>Geositta poeciloptera              </td><td>VU      </td></tr>\n",
       "\t<tr><th scope=row>760</th><td> 771</td><td>*</td><td>NA</td><td>Passeriformes </td><td>Scleruridae     </td><td>Sclerurus caudacutus caligineus    </td><td>CR      </td></tr>\n",
       "\t<tr><th scope=row>761</th><td> 772</td><td>*</td><td>NA</td><td>Passeriformes </td><td>Scleruridae     </td><td>Sclerurus caudacutus umbretta      </td><td>CR      </td></tr>\n",
       "\t<tr><th scope=row>762</th><td> 773</td><td>*</td><td>NA</td><td>Passeriformes </td><td>Scleruridae     </td><td>Sclerurus cearensis                </td><td>EN      </td></tr>\n",
       "\t<tr><th scope=row>763</th><td> 774</td><td>*</td><td>NA</td><td>Passeriformes </td><td>Scleruridae     </td><td>Sclerurus macconnelli bahiae       </td><td>EN      </td></tr>\n",
       "\t<tr><th scope=row>812</th><td> 823</td><td>*</td><td>NA</td><td>Passeriformes </td><td>Tityridae       </td><td>Iodopleura pipra                   </td><td>EN      </td></tr>\n",
       "\t<tr><th scope=row>813</th><td> 824</td><td>*</td><td>NA</td><td>Passeriformes </td><td>Tityridae       </td><td>Iodopleura pipra leucopygia        </td><td>EN      </td></tr>\n",
       "\t<tr><th scope=row>814</th><td> 825</td><td>*</td><td>NA</td><td>Passeriformes </td><td>Tityridae       </td><td>Iodopleura pipra pipra             </td><td>EN      </td></tr>\n",
       "\t<tr><th scope=row>815</th><td> 826</td><td> </td><td>NA</td><td>Passeriformes </td><td>Tityridae       </td><td>Laniisoma elegans                  </td><td>EN      </td></tr>\n",
       "\t<tr><th scope=row>816</th><td> 827</td><td>*</td><td>NA</td><td>Passeriformes </td><td>Tityridae       </td><td>Schiffornis turdina intermedia     </td><td>VU      </td></tr>\n",
       "\t<tr><th scope=row>829</th><td> 844</td><td>*</td><td>NA</td><td>Passeriformes </td><td>Xenopidae       </td><td>Xenops minutus alagoanus           </td><td>VU      </td></tr>\n",
       "\t<tr><th scope=row>847</th><td> 862</td><td>*</td><td>NA</td><td>Perciformes   </td><td>Epinephelidae   </td><td>Epinephelus itajara                </td><td>CR      </td></tr>\n",
       "\t<tr><th scope=row>848</th><td> 863</td><td>*</td><td>NA</td><td>Perciformes   </td><td>Epinephelidae   </td><td>Epinephelus marginatus             </td><td>VU      </td></tr>\n",
       "\t<tr><th scope=row>849</th><td> 864</td><td>*</td><td>NA</td><td>Perciformes   </td><td>Epinephelidae   </td><td>Epinephelus morio                  </td><td>VU      </td></tr>\n",
       "\t<tr><th scope=row>1195</th><td>1211</td><td>*</td><td>NA</td><td>Squamata      </td><td>Mabuyidae       </td><td>Brasiliscincus caissara            </td><td>EN      </td></tr>\n",
       "</tbody>\n",
       "</table>\n"
      ],
      "text/latex": [
       "A data.frame: 27 × 7\n",
       "\\begin{tabular}{r|lllllll}\n",
       "  & n & port443 & classe & ordem & familia & especie\\_subespecie & categoria\\\\\n",
       "  & <int> & <chr> & <chr> & <chr> & <chr> & <chr> & <chr>\\\\\n",
       "\\hline\n",
       "\t506 &  513 & * & NA & Glomeridesmida & Glomerodesmidae  & Glomeridesmus spelaeus              & EN      \\\\\n",
       "\t735 &  746 &   & NA & Passeriformes  & Onychorhynchidae & Onychorhynchusswainsoni             & VU      \\\\\n",
       "\t743 &  754 & * & NA & Passeriformes  & Platyrinchidae   & Calyptura cristata                  & CR (PEX)\\\\\n",
       "\t744 &  755 &   & NA & Passeriformes  & Platyrinchidae   & Platyrinchus leucoryphus            & VU      \\\\\n",
       "\t745 &  756 & * & NA & Passeriformes  & Platyrinchidae   & Platyrinchus mystaceus niveigularis & VU      \\\\\n",
       "\t752 &  763 &   & NA & Passeriformes  & Rhynchocyclidae  & Cnipodectessuperrufus               & VU      \\\\\n",
       "\t753 &  764 & * & NA & Passeriformes  & Rhynchocyclidae  & Hemitriccus kaempferi               & VU      \\\\\n",
       "\t754 &  765 & * & NA & Passeriformes  & Rhynchocyclidae  & Hemitriccus mirandae                & EN      \\\\\n",
       "\t755 &  766 & * & NA & Passeriformes  & Rhynchocyclidae  & Phylloscartes beckeri               & EN      \\\\\n",
       "\t756 &  767 & * & NA & Passeriformes  & Rhynchocyclidae  & Phylloscartes ceciliae              & CR      \\\\\n",
       "\t757 &  768 & * & NA & Passeriformes  & Rhynchocyclidae  & Phylloscartes roquettei             & EN      \\\\\n",
       "\t758 &  769 &   & NA & Passeriformes  & Rhynchocyclidae  & Poecilotriccus albifacies           & VU      \\\\\n",
       "\t759 &  770 & * & NA & Passeriformes  & Scleruridae      & Geositta poeciloptera               & VU      \\\\\n",
       "\t760 &  771 & * & NA & Passeriformes  & Scleruridae      & Sclerurus caudacutus caligineus     & CR      \\\\\n",
       "\t761 &  772 & * & NA & Passeriformes  & Scleruridae      & Sclerurus caudacutus umbretta       & CR      \\\\\n",
       "\t762 &  773 & * & NA & Passeriformes  & Scleruridae      & Sclerurus cearensis                 & EN      \\\\\n",
       "\t763 &  774 & * & NA & Passeriformes  & Scleruridae      & Sclerurus macconnelli bahiae        & EN      \\\\\n",
       "\t812 &  823 & * & NA & Passeriformes  & Tityridae        & Iodopleura pipra                    & EN      \\\\\n",
       "\t813 &  824 & * & NA & Passeriformes  & Tityridae        & Iodopleura pipra leucopygia         & EN      \\\\\n",
       "\t814 &  825 & * & NA & Passeriformes  & Tityridae        & Iodopleura pipra pipra              & EN      \\\\\n",
       "\t815 &  826 &   & NA & Passeriformes  & Tityridae        & Laniisoma elegans                   & EN      \\\\\n",
       "\t816 &  827 & * & NA & Passeriformes  & Tityridae        & Schiffornis turdina intermedia      & VU      \\\\\n",
       "\t829 &  844 & * & NA & Passeriformes  & Xenopidae        & Xenops minutus alagoanus            & VU      \\\\\n",
       "\t847 &  862 & * & NA & Perciformes    & Epinephelidae    & Epinephelus itajara                 & CR      \\\\\n",
       "\t848 &  863 & * & NA & Perciformes    & Epinephelidae    & Epinephelus marginatus              & VU      \\\\\n",
       "\t849 &  864 & * & NA & Perciformes    & Epinephelidae    & Epinephelus morio                   & VU      \\\\\n",
       "\t1195 & 1211 & * & NA & Squamata       & Mabuyidae        & Brasiliscincus caissara             & EN      \\\\\n",
       "\\end{tabular}\n"
      ],
      "text/markdown": [
       "\n",
       "A data.frame: 27 × 7\n",
       "\n",
       "| <!--/--> | n &lt;int&gt; | port443 &lt;chr&gt; | classe &lt;chr&gt; | ordem &lt;chr&gt; | familia &lt;chr&gt; | especie_subespecie &lt;chr&gt; | categoria &lt;chr&gt; |\n",
       "|---|---|---|---|---|---|---|---|\n",
       "| 506 |  513 | * | NA | Glomeridesmida | Glomerodesmidae  | Glomeridesmus spelaeus              | EN       |\n",
       "| 735 |  746 | <!----> | NA | Passeriformes  | Onychorhynchidae | Onychorhynchusswainsoni             | VU       |\n",
       "| 743 |  754 | * | NA | Passeriformes  | Platyrinchidae   | Calyptura cristata                  | CR (PEX) |\n",
       "| 744 |  755 | <!----> | NA | Passeriformes  | Platyrinchidae   | Platyrinchus leucoryphus            | VU       |\n",
       "| 745 |  756 | * | NA | Passeriformes  | Platyrinchidae   | Platyrinchus mystaceus niveigularis | VU       |\n",
       "| 752 |  763 | <!----> | NA | Passeriformes  | Rhynchocyclidae  | Cnipodectessuperrufus               | VU       |\n",
       "| 753 |  764 | * | NA | Passeriformes  | Rhynchocyclidae  | Hemitriccus kaempferi               | VU       |\n",
       "| 754 |  765 | * | NA | Passeriformes  | Rhynchocyclidae  | Hemitriccus mirandae                | EN       |\n",
       "| 755 |  766 | * | NA | Passeriformes  | Rhynchocyclidae  | Phylloscartes beckeri               | EN       |\n",
       "| 756 |  767 | * | NA | Passeriformes  | Rhynchocyclidae  | Phylloscartes ceciliae              | CR       |\n",
       "| 757 |  768 | * | NA | Passeriformes  | Rhynchocyclidae  | Phylloscartes roquettei             | EN       |\n",
       "| 758 |  769 | <!----> | NA | Passeriformes  | Rhynchocyclidae  | Poecilotriccus albifacies           | VU       |\n",
       "| 759 |  770 | * | NA | Passeriformes  | Scleruridae      | Geositta poeciloptera               | VU       |\n",
       "| 760 |  771 | * | NA | Passeriformes  | Scleruridae      | Sclerurus caudacutus caligineus     | CR       |\n",
       "| 761 |  772 | * | NA | Passeriformes  | Scleruridae      | Sclerurus caudacutus umbretta       | CR       |\n",
       "| 762 |  773 | * | NA | Passeriformes  | Scleruridae      | Sclerurus cearensis                 | EN       |\n",
       "| 763 |  774 | * | NA | Passeriformes  | Scleruridae      | Sclerurus macconnelli bahiae        | EN       |\n",
       "| 812 |  823 | * | NA | Passeriformes  | Tityridae        | Iodopleura pipra                    | EN       |\n",
       "| 813 |  824 | * | NA | Passeriformes  | Tityridae        | Iodopleura pipra leucopygia         | EN       |\n",
       "| 814 |  825 | * | NA | Passeriformes  | Tityridae        | Iodopleura pipra pipra              | EN       |\n",
       "| 815 |  826 | <!----> | NA | Passeriformes  | Tityridae        | Laniisoma elegans                   | EN       |\n",
       "| 816 |  827 | * | NA | Passeriformes  | Tityridae        | Schiffornis turdina intermedia      | VU       |\n",
       "| 829 |  844 | * | NA | Passeriformes  | Xenopidae        | Xenops minutus alagoanus            | VU       |\n",
       "| 847 |  862 | * | NA | Perciformes    | Epinephelidae    | Epinephelus itajara                 | CR       |\n",
       "| 848 |  863 | * | NA | Perciformes    | Epinephelidae    | Epinephelus marginatus              | VU       |\n",
       "| 849 |  864 | * | NA | Perciformes    | Epinephelidae    | Epinephelus morio                   | VU       |\n",
       "| 1195 | 1211 | * | NA | Squamata       | Mabuyidae        | Brasiliscincus caissara             | EN       |\n",
       "\n"
      ],
      "text/plain": [
       "     n    port443 classe ordem          familia         \n",
       "506   513 *       NA     Glomeridesmida Glomerodesmidae \n",
       "735   746         NA     Passeriformes  Onychorhynchidae\n",
       "743   754 *       NA     Passeriformes  Platyrinchidae  \n",
       "744   755         NA     Passeriformes  Platyrinchidae  \n",
       "745   756 *       NA     Passeriformes  Platyrinchidae  \n",
       "752   763         NA     Passeriformes  Rhynchocyclidae \n",
       "753   764 *       NA     Passeriformes  Rhynchocyclidae \n",
       "754   765 *       NA     Passeriformes  Rhynchocyclidae \n",
       "755   766 *       NA     Passeriformes  Rhynchocyclidae \n",
       "756   767 *       NA     Passeriformes  Rhynchocyclidae \n",
       "757   768 *       NA     Passeriformes  Rhynchocyclidae \n",
       "758   769         NA     Passeriformes  Rhynchocyclidae \n",
       "759   770 *       NA     Passeriformes  Scleruridae     \n",
       "760   771 *       NA     Passeriformes  Scleruridae     \n",
       "761   772 *       NA     Passeriformes  Scleruridae     \n",
       "762   773 *       NA     Passeriformes  Scleruridae     \n",
       "763   774 *       NA     Passeriformes  Scleruridae     \n",
       "812   823 *       NA     Passeriformes  Tityridae       \n",
       "813   824 *       NA     Passeriformes  Tityridae       \n",
       "814   825 *       NA     Passeriformes  Tityridae       \n",
       "815   826         NA     Passeriformes  Tityridae       \n",
       "816   827 *       NA     Passeriformes  Tityridae       \n",
       "829   844 *       NA     Passeriformes  Xenopidae       \n",
       "847   862 *       NA     Perciformes    Epinephelidae   \n",
       "848   863 *       NA     Perciformes    Epinephelidae   \n",
       "849   864 *       NA     Perciformes    Epinephelidae   \n",
       "1195 1211 *       NA     Squamata       Mabuyidae       \n",
       "     especie_subespecie                  categoria\n",
       "506  Glomeridesmus spelaeus              EN       \n",
       "735  Onychorhynchusswainsoni             VU       \n",
       "743  Calyptura cristata                  CR (PEX) \n",
       "744  Platyrinchus leucoryphus            VU       \n",
       "745  Platyrinchus mystaceus niveigularis VU       \n",
       "752  Cnipodectessuperrufus               VU       \n",
       "753  Hemitriccus kaempferi               VU       \n",
       "754  Hemitriccus mirandae                EN       \n",
       "755  Phylloscartes beckeri               EN       \n",
       "756  Phylloscartes ceciliae              CR       \n",
       "757  Phylloscartes roquettei             EN       \n",
       "758  Poecilotriccus albifacies           VU       \n",
       "759  Geositta poeciloptera               VU       \n",
       "760  Sclerurus caudacutus caligineus     CR       \n",
       "761  Sclerurus caudacutus umbretta       CR       \n",
       "762  Sclerurus cearensis                 EN       \n",
       "763  Sclerurus macconnelli bahiae        EN       \n",
       "812  Iodopleura pipra                    EN       \n",
       "813  Iodopleura pipra leucopygia         EN       \n",
       "814  Iodopleura pipra pipra              EN       \n",
       "815  Laniisoma elegans                   EN       \n",
       "816  Schiffornis turdina intermedia      VU       \n",
       "829  Xenops minutus alagoanus            VU       \n",
       "847  Epinephelus itajara                 CR       \n",
       "848  Epinephelus marginatus              VU       \n",
       "849  Epinephelus morio                   VU       \n",
       "1195 Brasiliscincus caissara             EN       "
      ]
     },
     "metadata": {},
     "output_type": "display_data"
    }
   ],
   "source": [
    "df[is.na(df$classe), ]"
   ]
  },
  {
   "cell_type": "markdown",
   "id": "bee0a395",
   "metadata": {},
   "source": [
    "A saída do código acima mostra que as espécies sem a classe taxonômica pertencem as famílias:"
   ]
  },
  {
   "cell_type": "code",
   "execution_count": 241,
   "id": "76cbf16d",
   "metadata": {},
   "outputs": [
    {
     "name": "stdout",
     "output_type": "stream",
     "text": [
      "Aromobatidae, Cycloramphidae, Hylodidae, Odontophrynidae, Glomerodesmidae, Kimulidae, Grallariidae, Onychorhynchidae, Platyrinchidae, Rhynchocyclidae, Scleruridae, Tityridae, Xenopidae, Epinephelidae, Liolaemidae, Mabuyidae, Phyllodactylidae e Sphaerodactylidae"
     ]
    }
   ],
   "source": [
    "cat(glue::glue_collapse(unique(nomes_sem_classe$familia), sep = ', ', last = ' e '))"
   ]
  },
  {
   "cell_type": "code",
   "execution_count": 249,
   "id": "62a32d2e",
   "metadata": {},
   "outputs": [],
   "source": [
    "df[df$familia=='Aromobatidae', 'classe'] <- 'Diplopoda'\n",
    "df[df$familia=='Cycloramphidae', 'classe'] <- 'Amphibia'\n",
    "df[df$familia=='Hylodidae', 'classe'] <- 'Amphibia'\n",
    "df[df$familia=='Odontophrynidae', 'classe'] <- 'Amphibia'\n",
    "df[df$familia=='Odontophrynidae', 'classe'] <- 'Amphibia'\n",
    "df[df$familia=='Kimulidae', 'classe'] <- 'Arachnida'\n",
    "df[df$familia=='Grallariidae', 'classe'] <- 'Aves'\n",
    "df[df$familia=='Onychorhynchidae', 'classe'] <- 'Aves'\n",
    "df[df$familia=='Platyrinchidae', 'classe'] <- 'Aves'\n",
    "df[df$familia=='Scleruridae', 'classe'] <- 'Aves'\n",
    "df[df$familia=='Tityridae', 'classe'] <- 'Aves'\n",
    "df[df$familia=='Xenopidae', 'classe'] <- 'Aves'\n",
    "df[df$familia=='Epinephelidae', 'classe'] <- 'Atheriniformes'\n",
    "df[df$familia=='Liolaemidae', 'classe'] <- 'Reptilia'\n",
    "df[df$familia=='Mabuyidae', 'classe'] <- 'Reptilia'\n",
    "df[df$familia=='Phyllodactylidae', 'classe'] <- 'Reptilia'\n",
    "df[df$familia=='Sphaerodactylidae', 'classe'] <- 'Reptilia'"
   ]
  },
  {
   "cell_type": "code",
   "execution_count": 250,
   "id": "ebdf8ad9",
   "metadata": {},
   "outputs": [],
   "source": [
    "# salvar como csv\n",
    "write.csv2(df, './port_MMA_300-2022_fauna_lista_definitiva.csv',\n",
    "           row.names = FALSE, \n",
    "           fileEncoding = 'latin1')"
   ]
  },
  {
   "cell_type": "code",
   "execution_count": null,
   "id": "c5beb136",
   "metadata": {},
   "outputs": [],
   "source": []
  }
 ],
 "metadata": {
  "kernelspec": {
   "display_name": "R",
   "language": "R",
   "name": "ir"
  },
  "language_info": {
   "codemirror_mode": "r",
   "file_extension": ".r",
   "mimetype": "text/x-r-source",
   "name": "R",
   "pygments_lexer": "r",
   "version": "4.2.0"
  }
 },
 "nbformat": 4,
 "nbformat_minor": 5
}
